{
 "cells": [
  {
   "cell_type": "raw",
   "metadata": {
    "vscode": {
     "languageId": "raw"
    }
   },
   "source": [
    "# Multimodal Retrieval-Augmented Generation for Bangla Question Answering\n",
    "\n",
    "This notebook implements a complete RAG pipeline for Bangla question answering with multiple model comparisons and multimodal capabilities.\n",
    "\n",
    "## System Architecture (Updated for Thesis)\n",
    "- **Text Embeddings**: `shihab17/bangla-sentence-transformer`\n",
    "- **Vector Store**: FAISS with advanced indexing\n",
    "- **Generative Models**: \n",
    "  - BLIP-VQA (Salesforce/blip-vqa-base) for multimodal VQA\n",
    "  - MiniCPM-o-2_6 for integrated vision-language\n",
    "  - T5/FLAN-T5 for text generation\n",
    "  - Comparison with multiple model architectures\n",
    "- **Multimodal Processing**: BLIP for VQA + Translation pipeline\n",
    "- **Dataset**: 80k Bangla QA pairs with synthetic image captions\n",
    "- **Evaluation**: Comprehensive metrics for thesis validation\n"
   ]
  },
  {
   "cell_type": "code",
   "execution_count": 1,
   "metadata": {},
   "outputs": [
    {
     "name": "stdout",
     "output_type": "stream",
     "text": [
      "=== BongoRAG Thesis Implementation ===\n",
      "Environment setup complete!\n",
      "PyTorch version: 2.7.0\n",
      "🚀 Using Apple Silicon GPU (MPS) for acceleration!\n",
      "GPU: Apple M3 Neural Engine\n",
      "✅ Configured for Apple Silicon optimization\n",
      "🎯 Active device: mps\n"
     ]
    }
   ],
   "source": [
    "# 1. Environment Setup and Imports (Enhanced for Thesis)\n",
    "import os\n",
    "import pandas as pd\n",
    "import numpy as np\n",
    "import torch\n",
    "import torch.nn.functional as F\n",
    "from typing import List, Dict, Tuple, Optional\n",
    "import json\n",
    "import pickle\n",
    "from pathlib import Path\n",
    "import warnings\n",
    "warnings.filterwarnings('ignore')\n",
    "\n",
    "# Core ML libraries for thesis models\n",
    "from transformers import (\n",
    "    AutoTokenizer, AutoModel, AutoModelForCausalLM,\n",
    "    BlipProcessor, BlipForQuestionAnswering,  # For BLIP VQA\n",
    "    T5Tokenizer, T5ForConditionalGeneration,  # For T5/FLAN-T5\n",
    "    CLIPProcessor, CLIPModel, \n",
    "    pipeline  # For easy model loading\n",
    ")\n",
    "from sentence_transformers import SentenceTransformer\n",
    "import faiss\n",
    "\n",
    "# Translation for multimodal pipeline\n",
    "from googletrans import Translator\n",
    "translator = Translator()\n",
    "\n",
    "# RAG and LangChain\n",
    "from langchain.vectorstores import FAISS\n",
    "from langchain.embeddings import HuggingFaceEmbeddings\n",
    "from langchain.text_splitter import RecursiveCharacterTextSplitter\n",
    "from langchain.schema import Document\n",
    "\n",
    "# Fine-tuning libraries\n",
    "from peft import get_peft_model, LoraConfig, TaskType, prepare_model_for_kbit_training\n",
    "from transformers import BitsAndBytesConfig\n",
    "import accelerate\n",
    "\n",
    "# Evaluation and comparison\n",
    "from sklearn.metrics.pairwise import cosine_similarity\n",
    "from rouge_score import rouge_scorer\n",
    "import sacrebleu\n",
    "from sklearn.metrics import accuracy_score, f1_score as sk_f1_score\n",
    "import time\n",
    "\n",
    "# Utils\n",
    "from tqdm.auto import tqdm\n",
    "import matplotlib.pyplot as plt\n",
    "import seaborn as sns\n",
    "\n",
    "print(\"=== BongoRAG Thesis Implementation ===\")\n",
    "print(\"Environment setup complete!\")\n",
    "print(f\"PyTorch version: {torch.__version__}\")\n",
    "\n",
    "# Enhanced device detection for Apple Silicon\n",
    "def get_device():\n",
    "    \"\"\"Get the best available device for computation\"\"\"\n",
    "    if torch.backends.mps.is_available() and torch.backends.mps.is_built():\n",
    "        device = torch.device(\"mps\")\n",
    "        print(\"🚀 Using Apple Silicon GPU (MPS) for acceleration!\")\n",
    "        print(f\"GPU: Apple M3 Neural Engine\")\n",
    "        return device\n",
    "    elif torch.cuda.is_available():\n",
    "        device = torch.device(\"cuda\")\n",
    "        print(f\"🚀 Using CUDA GPU: {torch.cuda.get_device_name()}\")\n",
    "        print(f\"GPU Memory: {torch.cuda.get_device_properties(0).total_memory / 1024**3:.1f} GB\")\n",
    "        return device\n",
    "    else:\n",
    "        device = torch.device(\"cpu\")\n",
    "        print(\"⚠️  Using CPU - consider using GPU for better performance\")\n",
    "        return device\n",
    "\n",
    "# Set global device\n",
    "DEVICE = get_device()\n",
    "\n",
    "# Set default tensor type for MPS if available\n",
    "if DEVICE.type == \"mps\":\n",
    "    # MPS works best with float32\n",
    "    torch.set_default_dtype(torch.float32)\n",
    "    print(\"✅ Configured for Apple Silicon optimization\")\n",
    "elif DEVICE.type == \"cuda\":\n",
    "    # CUDA can handle mixed precision\n",
    "    print(\"✅ Configured for CUDA optimization\")\n",
    "else:\n",
    "    print(\"✅ Configured for CPU operation\")\n",
    "\n",
    "print(f\"🎯 Active device: {DEVICE}\")\n"
   ]
  },
  {
   "cell_type": "code",
   "execution_count": 2,
   "metadata": {},
   "outputs": [
    {
     "name": "stdout",
     "output_type": "stream",
     "text": [
      "Enhanced configuration loaded for thesis comparison!\n",
      "Models to compare: ['blip_vqa', 'flan_t5_base', 'flan_t5_large', 'bangla_t5', 'minicpm_o']\n",
      "Results will be saved to: ./results\n"
     ]
    }
   ],
   "source": [
    "# 2. Configuration and Constants (Enhanced for Thesis Comparison)\n",
    "class BongoRAGConfig:\n",
    "    \"\"\"Configuration class for the BongoRAG system with multiple model support\"\"\"\n",
    "    \n",
    "    # Dataset paths\n",
    "    DATASET_PATH = \"80k-bangla-qa-dataset.csv\"\n",
    "    VECTOR_STORE_PATH = \"faiss_index\"\n",
    "    MODEL_CACHE_DIR = \"./models\"\n",
    "    RESULTS_DIR = \"./results\"\n",
    "    \n",
    "    # Model configurations for comparison\n",
    "    BANGLA_EMBEDDING_MODEL = \"shihab17/bangla-sentence-transformer\"\n",
    "    \n",
    "    # Multimodal models for thesis\n",
    "    BLIP_VQA_MODEL = \"Salesforce/blip-vqa-base\"  # Primary VQA model\n",
    "    BLIP_CAPTION_MODEL = \"Salesforce/blip-image-captioning-base\"  # For captions\n",
    "    MINICPM_MODEL = \"openbmb/MiniCPM-o-2_6\"  # Alternative vision-language model\n",
    "    \n",
    "    # Text generation models for comparison\n",
    "    T5_MODEL = \"google/flan-t5-base\"  # Accessible and good for QA\n",
    "    T5_LARGE_MODEL = \"google/flan-t5-large\"  # For comparison\n",
    "    BANGLA_GPT_MODEL = \"csebuetnlp/banglat5_banglaparaphrase\"  # Bangla-specific\n",
    "    \n",
    "    # Baseline models\n",
    "    CLIP_MODEL = \"openai/clip-vit-base-patch32\"\n",
    "    \n",
    "    # RAG parameters\n",
    "    CHUNK_SIZE = 512\n",
    "    CHUNK_OVERLAP = 50\n",
    "    TOP_K_RETRIEVAL = 5\n",
    "    EMBEDDING_DIM = 768\n",
    "    \n",
    "    # Generation parameters\n",
    "    MAX_LENGTH = 512\n",
    "    MAX_NEW_TOKENS = 128\n",
    "    TEMPERATURE = 0.7\n",
    "    TOP_P = 0.9\n",
    "    NUM_BEAMS = 4\n",
    "    \n",
    "    # LoRA configuration\n",
    "    LORA_R = 16\n",
    "    LORA_ALPHA = 32\n",
    "    LORA_DROPOUT = 0.1\n",
    "    \n",
    "    # Training parameters\n",
    "    BATCH_SIZE = 4\n",
    "    LEARNING_RATE = 2e-4\n",
    "    NUM_EPOCHS = 3\n",
    "    \n",
    "    # Evaluation parameters\n",
    "    EVAL_BATCH_SIZE = 8\n",
    "    TEST_SIZE = 0.2\n",
    "    \n",
    "    # Thesis-specific parameters\n",
    "    COMPARISON_MODELS = [\n",
    "        \"blip_vqa\",\n",
    "        \"flan_t5_base\", \n",
    "        \"flan_t5_large\",\n",
    "        \"bangla_t5\",\n",
    "        \"minicpm_o\"\n",
    "    ]\n",
    "    \n",
    "    # Translation settings\n",
    "    ENABLE_TRANSLATION = True\n",
    "    TRANSLATE_CONFIDENCE_THRESHOLD = 0.5\n",
    "    \n",
    "    def __init__(self):\n",
    "        os.makedirs(self.MODEL_CACHE_DIR, exist_ok=True)\n",
    "        os.makedirs(self.RESULTS_DIR, exist_ok=True)\n",
    "\n",
    "config = BongoRAGConfig()\n",
    "print(\"Enhanced configuration loaded for thesis comparison!\")\n",
    "print(f\"Models to compare: {config.COMPARISON_MODELS}\")\n",
    "print(f\"Results will be saved to: {config.RESULTS_DIR}\")\n"
   ]
  },
  {
   "cell_type": "code",
   "execution_count": 3,
   "metadata": {},
   "outputs": [
    {
     "name": "stdout",
     "output_type": "stream",
     "text": [
      "Loading Bangla QA dataset...\n",
      "Dataset loaded: 74985 QA pairs\n",
      "\n",
      "=== Dataset Statistics ===\n",
      "Total QA pairs: 74985\n",
      "Average question length: 38.9 characters\n",
      "Average answer length: 75.2 characters\n",
      "\n",
      "Sample QA pairs:\n",
      "Q: GNI এর পূর্নরূপ কি\n",
      "A: Gross National income\n",
      "---\n",
      "Q: ধান উৎপাদনে শীর্ষ দেশের নাম কি\n",
      "A: চীন বাংলাদেশ ৪র্থ\n",
      "---\n",
      "Q: বাংলাদেশ কত সালে স্বাধীন হয়\n",
      "A: বাংলাদেশ ১৯৭১ সালের ১৬ ডিসেম্বর দীর্ঘ ৯ মাসের রক্তক্ষয়ী যুদ্ধের মাধ্যমে স্বাধীন হয়\n",
      "---\n"
     ]
    }
   ],
   "source": [
    "# 3. Data Loading and Preprocessing\n",
    "class BanglaDataProcessor:\n",
    "    \"\"\"Handles Bangla text preprocessing and data loading\"\"\"\n",
    "    \n",
    "    def __init__(self, config: BongoRAGConfig):\n",
    "        self.config = config\n",
    "        \n",
    "    def load_dataset(self) -> pd.DataFrame:\n",
    "        \"\"\"Load and preprocess the Bangla QA dataset\"\"\"\n",
    "        print(\"Loading Bangla QA dataset...\")\n",
    "        df = pd.read_csv(self.config.DATASET_PATH)\n",
    "        \n",
    "        # Basic data cleaning\n",
    "        df = df.dropna()\n",
    "        df['Question'] = df['Question'].astype(str)\n",
    "        df['Answer'] = df['Answer'].astype(str)\n",
    "        \n",
    "        # Remove any empty strings\n",
    "        df = df[(df['Question'].str.strip() != '') & (df['Answer'].str.strip() != '')]\n",
    "        \n",
    "        print(f\"Dataset loaded: {len(df)} QA pairs\")\n",
    "        return df\n",
    "    \n",
    "    def preprocess_text(self, text: str) -> str:\n",
    "        \"\"\"Clean and normalize Bangla text\"\"\"\n",
    "        if not isinstance(text, str):\n",
    "            return \"\"\n",
    "        \n",
    "        # Basic cleaning - you can extend this based on your needs\n",
    "        text = text.strip()\n",
    "        # Remove extra whitespaces\n",
    "        text = ' '.join(text.split())\n",
    "        \n",
    "        return text\n",
    "    \n",
    "    def create_context_documents(self, df: pd.DataFrame) -> List[Document]:\n",
    "        \"\"\"Create LangChain documents from the dataset\"\"\"\n",
    "        documents = []\n",
    "        \n",
    "        for idx, row in tqdm(df.iterrows(), total=len(df), desc=\"Creating documents\"):\n",
    "            # For RAG, we use answers as context and questions as metadata\n",
    "            question = self.preprocess_text(row['Question'])\n",
    "            answer = self.preprocess_text(row['Answer'])\n",
    "            \n",
    "            # Create a document with the answer as content\n",
    "            doc = Document(\n",
    "                page_content=answer,\n",
    "                metadata={\n",
    "                    'question': question,\n",
    "                    'answer': answer,\n",
    "                    'doc_id': idx\n",
    "                }\n",
    "            )\n",
    "            documents.append(doc)\n",
    "            \n",
    "            # Also create a document with question-answer pair as content\n",
    "            combined_content = f\"প্রশ্ন: {question}\\nউত্তর: {answer}\"\n",
    "            doc_combined = Document(\n",
    "                page_content=combined_content,\n",
    "                metadata={\n",
    "                    'question': question,\n",
    "                    'answer': answer,\n",
    "                    'doc_id': f\"{idx}_combined\",\n",
    "                    'type': 'qa_pair'\n",
    "                }\n",
    "            )\n",
    "            documents.append(doc_combined)\n",
    "        \n",
    "        print(f\"Created {len(documents)} documents for RAG\")\n",
    "        return documents\n",
    "\n",
    "# Initialize data processor and load data\n",
    "data_processor = BanglaDataProcessor(config)\n",
    "df = data_processor.load_dataset()\n",
    "\n",
    "# Display basic statistics\n",
    "print(\"\\n=== Dataset Statistics ===\")\n",
    "print(f\"Total QA pairs: {len(df)}\")\n",
    "print(f\"Average question length: {df['Question'].str.len().mean():.1f} characters\")\n",
    "print(f\"Average answer length: {df['Answer'].str.len().mean():.1f} characters\")\n",
    "print(\"\\nSample QA pairs:\")\n",
    "for i in range(3):\n",
    "    print(f\"Q: {df.iloc[i]['Question']}\")\n",
    "    print(f\"A: {df.iloc[i]['Answer']}\")\n",
    "    print(\"---\")\n"
   ]
  },
  {
   "cell_type": "code",
   "execution_count": 4,
   "metadata": {},
   "outputs": [
    {
     "name": "stdout",
     "output_type": "stream",
     "text": [
      "Testing Bangla embeddings...\n",
      "Loading Bangla sentence transformer...\n"
     ]
    },
    {
     "data": {
      "application/vnd.jupyter.widget-view+json": {
       "model_id": "9bf59896f04d4763b96d32197fac5ad4",
       "version_major": 2,
       "version_minor": 0
      },
      "text/plain": [
       "model.safetensors:   2%|1         | 21.0M/1.13G [00:00<?, ?B/s]"
      ]
     },
     "metadata": {},
     "output_type": "display_data"
    },
    {
     "data": {
      "application/vnd.jupyter.widget-view+json": {
       "model_id": "525c00e8ae334ac9a1e83e28d0a95c4f",
       "version_major": 2,
       "version_minor": 0
      },
      "text/plain": [
       "tokenizer_config.json:   0%|          | 0.00/451 [00:00<?, ?B/s]"
      ]
     },
     "metadata": {},
     "output_type": "display_data"
    },
    {
     "data": {
      "application/vnd.jupyter.widget-view+json": {
       "model_id": "46e8fe5d5d7748dd8786396c5a4e8f3b",
       "version_major": 2,
       "version_minor": 0
      },
      "text/plain": [
       "sentencepiece.bpe.model:   0%|          | 0.00/5.07M [00:00<?, ?B/s]"
      ]
     },
     "metadata": {},
     "output_type": "display_data"
    },
    {
     "data": {
      "application/vnd.jupyter.widget-view+json": {
       "model_id": "d4904907036a41a4b91a23538dcf86fa",
       "version_major": 2,
       "version_minor": 0
      },
      "text/plain": [
       "tokenizer.json:   0%|          | 0.00/17.1M [00:00<?, ?B/s]"
      ]
     },
     "metadata": {},
     "output_type": "display_data"
    },
    {
     "data": {
      "application/vnd.jupyter.widget-view+json": {
       "model_id": "0a3a30197345462681cb0a20a68d7db7",
       "version_major": 2,
       "version_minor": 0
      },
      "text/plain": [
       "special_tokens_map.json:   0%|          | 0.00/280 [00:00<?, ?B/s]"
      ]
     },
     "metadata": {},
     "output_type": "display_data"
    },
    {
     "data": {
      "application/vnd.jupyter.widget-view+json": {
       "model_id": "08d81547a9af47b089af5fcf24a7b745",
       "version_major": 2,
       "version_minor": 0
      },
      "text/plain": [
       "config.json:   0%|          | 0.00/190 [00:00<?, ?B/s]"
      ]
     },
     "metadata": {},
     "output_type": "display_data"
    },
    {
     "name": "stdout",
     "output_type": "stream",
     "text": [
      "Bangla embeddings loaded successfully!\n",
      "Encoding 2 texts...\n"
     ]
    },
    {
     "data": {
      "application/vnd.jupyter.widget-view+json": {
       "model_id": "4386df8b94d54d998fa96fff59f7d057",
       "version_major": 2,
       "version_minor": 0
      },
      "text/plain": [
       "Batches:   0%|          | 0/1 [00:00<?, ?it/s]"
      ]
     },
     "metadata": {},
     "output_type": "display_data"
    },
    {
     "name": "stdout",
     "output_type": "stream",
     "text": [
      "Test embeddings shape: (2, 768)\n",
      "Embedding dimension: 768\n"
     ]
    }
   ],
   "source": [
    "# 4. Embedding Models and Vector Store Setup\n",
    "class BanglaEmbeddingManager:\n",
    "    \"\"\"Manages embedding models for Bangla text and multimodal content\"\"\"\n",
    "    \n",
    "    def __init__(self, config: BongoRAGConfig):\n",
    "        self.config = config\n",
    "        self.text_encoder = None\n",
    "        self.clip_model = None\n",
    "        self.clip_processor = None\n",
    "        \n",
    "    def load_bangla_embeddings(self):\n",
    "        \"\"\"Load Bangla sentence transformer\"\"\"\n",
    "        print(\"Loading Bangla sentence transformer...\")\n",
    "        self.text_encoder = SentenceTransformer(\n",
    "            self.config.BANGLA_EMBEDDING_MODEL,\n",
    "            cache_folder=self.config.MODEL_CACHE_DIR\n",
    "        )\n",
    "        print(\"Bangla embeddings loaded successfully!\")\n",
    "        \n",
    "    def load_clip_model(self):\n",
    "        \"\"\"Load CLIP model for multimodal processing\"\"\"\n",
    "        print(\"Loading CLIP model...\")\n",
    "        self.clip_model = CLIPModel.from_pretrained(\n",
    "            self.config.CLIP_MODEL,\n",
    "            cache_dir=self.config.MODEL_CACHE_DIR\n",
    "        )\n",
    "        self.clip_processor = CLIPProcessor.from_pretrained(\n",
    "            self.config.CLIP_MODEL,\n",
    "            cache_dir=self.config.MODEL_CACHE_DIR\n",
    "        )\n",
    "        # Move CLIP model to GPU for acceleration\n",
    "        self.clip_model = self.clip_model.to(DEVICE)\n",
    "        print(f\"CLIP model loaded successfully on {DEVICE}!\")\n",
    "    \n",
    "    def encode_texts(self, texts: List[str], batch_size: int = 32) -> np.ndarray:\n",
    "        \"\"\"Encode texts using Bangla sentence transformer\"\"\"\n",
    "        if self.text_encoder is None:\n",
    "            self.load_bangla_embeddings()\n",
    "        \n",
    "        print(f\"Encoding {len(texts)} texts...\")\n",
    "        embeddings = self.text_encoder.encode(\n",
    "            texts, \n",
    "            batch_size=batch_size,\n",
    "            show_progress_bar=True,\n",
    "            convert_to_numpy=True\n",
    "        )\n",
    "        return embeddings\n",
    "    \n",
    "    def encode_text_with_clip(self, texts: List[str]) -> np.ndarray:\n",
    "        \"\"\"Encode texts using CLIP text encoder\"\"\"\n",
    "        if self.clip_model is None:\n",
    "            self.load_clip_model()\n",
    "        \n",
    "        inputs = self.clip_processor(text=texts, return_tensors=\"pt\", padding=True, truncation=True)\n",
    "        # Move inputs to the same device as model\n",
    "        inputs = {k: v.to(DEVICE) for k, v in inputs.items() if isinstance(v, torch.Tensor)}\n",
    "        with torch.no_grad():\n",
    "            text_features = self.clip_model.get_text_features(**inputs)\n",
    "            text_features = F.normalize(text_features, dim=-1)\n",
    "        \n",
    "        return text_features.cpu().numpy()\n",
    "\n",
    "# Initialize embedding manager\n",
    "embedding_manager = BanglaEmbeddingManager(config)\n",
    "\n",
    "# Test embedding\n",
    "print(\"Testing Bangla embeddings...\")\n",
    "test_texts = [\"বাংলাদেশ একটি স্বাধীন দেশ\", \"ঢাকা বাংলাদেশের রাজধানী\"]\n",
    "test_embeddings = embedding_manager.encode_texts(test_texts)\n",
    "print(f\"Test embeddings shape: {test_embeddings.shape}\")\n",
    "print(f\"Embedding dimension: {test_embeddings.shape[1]}\")\n"
   ]
  },
  {
   "cell_type": "code",
   "execution_count": 5,
   "metadata": {},
   "outputs": [
    {
     "data": {
      "application/vnd.jupyter.widget-view+json": {
       "model_id": "371315b91fda4059824a8e81fef0d212",
       "version_major": 2,
       "version_minor": 0
      },
      "text/plain": [
       "Creating documents:   0%|          | 0/74985 [00:00<?, ?it/s]"
      ]
     },
     "metadata": {},
     "output_type": "display_data"
    },
    {
     "name": "stdout",
     "output_type": "stream",
     "text": [
      "Created 149970 documents for RAG\n",
      "Building vector store for the entire dataset...\n",
      "Building vector store...\n",
      "Encoding 149970 texts...\n"
     ]
    },
    {
     "data": {
      "application/vnd.jupyter.widget-view+json": {
       "model_id": "de954c7f868242adb0a974692bdb0f62",
       "version_major": 2,
       "version_minor": 0
      },
      "text/plain": [
       "Batches:   0%|          | 0/4687 [00:00<?, ?it/s]"
      ]
     },
     "metadata": {},
     "output_type": "display_data"
    },
    {
     "name": "stdout",
     "output_type": "stream",
     "text": [
      "Vector store built with 149970 documents\n",
      "Vector store saved to faiss_index\n",
      "Vector store setup complete!\n"
     ]
    }
   ],
   "source": [
    "# 5. Vector Store and Retrieval System\n",
    "class BongoRAGRetriever:\n",
    "    \"\"\"RAG retrieval system using FAISS vector store\"\"\"\n",
    "    \n",
    "    def __init__(self, config: BongoRAGConfig, embedding_manager: BanglaEmbeddingManager):\n",
    "        self.config = config\n",
    "        self.embedding_manager = embedding_manager\n",
    "        self.vector_store = None\n",
    "        self.documents = None\n",
    "        \n",
    "    def build_vector_store(self, documents: List[Document]):\n",
    "        \"\"\"Build FAISS vector store from documents\"\"\"\n",
    "        print(\"Building vector store...\")\n",
    "        self.documents = documents\n",
    "        \n",
    "        # Extract text content for embedding\n",
    "        texts = [doc.page_content for doc in documents]\n",
    "        \n",
    "        # Generate embeddings\n",
    "        embeddings = self.embedding_manager.encode_texts(texts)\n",
    "        \n",
    "        # Create FAISS index\n",
    "        dimension = embeddings.shape[1]\n",
    "        index = faiss.IndexFlatL2(dimension)\n",
    "        index.add(embeddings.astype('float32'))\n",
    "        \n",
    "        # Store the index and metadata\n",
    "        self.vector_store = {\n",
    "            'index': index,\n",
    "            'documents': documents,\n",
    "            'embeddings': embeddings\n",
    "        }\n",
    "        \n",
    "        print(f\"Vector store built with {len(documents)} documents\")\n",
    "        return self.vector_store\n",
    "    \n",
    "    def save_vector_store(self, path: str = None):\n",
    "        \"\"\"Save vector store to disk\"\"\"\n",
    "        if path is None:\n",
    "            path = self.config.VECTOR_STORE_PATH\n",
    "        \n",
    "        os.makedirs(path, exist_ok=True)\n",
    "        \n",
    "        # Save FAISS index\n",
    "        faiss.write_index(self.vector_store['index'], f\"{path}/index.faiss\")\n",
    "        \n",
    "        # Save documents and metadata\n",
    "        with open(f\"{path}/documents.pkl\", 'wb') as f:\n",
    "            pickle.dump(self.vector_store['documents'], f)\n",
    "        \n",
    "        # Save embeddings\n",
    "        np.save(f\"{path}/embeddings.npy\", self.vector_store['embeddings'])\n",
    "        \n",
    "        print(f\"Vector store saved to {path}\")\n",
    "    \n",
    "    def load_vector_store(self, path: str = None):\n",
    "        \"\"\"Load vector store from disk\"\"\"\n",
    "        if path is None:\n",
    "            path = self.config.VECTOR_STORE_PATH\n",
    "        \n",
    "        try:\n",
    "            # Load FAISS index\n",
    "            index = faiss.read_index(f\"{path}/index.faiss\")\n",
    "            \n",
    "            # Load documents\n",
    "            with open(f\"{path}/documents.pkl\", 'rb') as f:\n",
    "                documents = pickle.load(f)\n",
    "            \n",
    "            # Load embeddings\n",
    "            embeddings = np.load(f\"{path}/embeddings.npy\")\n",
    "            \n",
    "            self.vector_store = {\n",
    "                'index': index,\n",
    "                'documents': documents,\n",
    "                'embeddings': embeddings\n",
    "            }\n",
    "            self.documents = documents\n",
    "            \n",
    "            print(f\"Vector store loaded from {path}\")\n",
    "            return True\n",
    "        except Exception as e:\n",
    "            print(f\"Failed to load vector store: {e}\")\n",
    "            return False\n",
    "    \n",
    "    def retrieve(self, query: str, k: int = None) -> List[Dict]:\n",
    "        \"\"\"Retrieve relevant documents for a query\"\"\"\n",
    "        if k is None:\n",
    "            k = self.config.TOP_K_RETRIEVAL\n",
    "        \n",
    "        if self.vector_store is None:\n",
    "            raise ValueError(\"Vector store not built or loaded\")\n",
    "        \n",
    "        # Encode query\n",
    "        query_embedding = self.embedding_manager.encode_texts([query])\n",
    "        \n",
    "        # Search in FAISS index\n",
    "        scores, indices = self.vector_store['index'].search(\n",
    "            query_embedding.astype('float32'), k\n",
    "        )\n",
    "        \n",
    "        # Retrieve documents\n",
    "        results = []\n",
    "        for i, (score, idx) in enumerate(zip(scores[0], indices[0])):\n",
    "            if idx < len(self.documents):\n",
    "                doc = self.documents[idx]\n",
    "                results.append({\n",
    "                    'document': doc,\n",
    "                    'score': float(score),\n",
    "                    'rank': i + 1,\n",
    "                    'content': doc.page_content,\n",
    "                    'metadata': doc.metadata\n",
    "                })\n",
    "        \n",
    "        return results\n",
    "\n",
    "# Initialize retriever\n",
    "retriever = BongoRAGRetriever(config, embedding_manager)\n",
    "\n",
    "# Create documents from dataset\n",
    "documents = data_processor.create_context_documents(df)\n",
    "\n",
    "# Build vector store (this may take a while for 80k documents)\n",
    "print(\"Building vector store for the entire dataset...\")\n",
    "vector_store = retriever.build_vector_store(documents)\n",
    "\n",
    "# Save vector store for future use\n",
    "retriever.save_vector_store()\n",
    "\n",
    "print(\"Vector store setup complete!\")\n"
   ]
  },
  {
   "cell_type": "code",
   "execution_count": null,
   "metadata": {},
   "outputs": [],
   "source": [
    "# 6.5. Model Registry and Persistence System\n",
    "class BongoRAGModelRegistry:\n",
    "    \"\"\"Enhanced model registry with comprehensive saving and loading capabilities\"\"\"\n",
    "    \n",
    "    def __init__(self, config: BongoRAGConfig):\n",
    "        self.config = config\n",
    "        self.registry_path = os.path.join(config.MODEL_CACHE_DIR, \"model_registry.json\")\n",
    "        self.models_path = config.MODEL_CACHE_DIR\n",
    "        self.registry = self._load_registry()\n",
    "        \n",
    "    def _load_registry(self) -> Dict:\n",
    "        \"\"\"Load model registry from disk\"\"\"\n",
    "        if os.path.exists(self.registry_path):\n",
    "            with open(self.registry_path, 'r') as f:\n",
    "                return json.load(f)\n",
    "        return {\n",
    "            \"models\": {},\n",
    "            \"embeddings\": {},\n",
    "            \"vector_stores\": {},\n",
    "            \"metadata\": {\n",
    "                \"created\": time.strftime(\"%Y-%m-%d %H:%M:%S\"),\n",
    "                \"version\": \"1.0\"\n",
    "            }\n",
    "        }\n",
    "    \n",
    "    def _save_registry(self):\n",
    "        \"\"\"Save model registry to disk\"\"\"\n",
    "        with open(self.registry_path, 'w') as f:\n",
    "            json.dump(self.registry, f, indent=2)\n",
    "    \n",
    "    def register_model(self, model_name: str, model_type: str, model_path: str, \n",
    "                      metadata: Dict = None) -> str:\n",
    "        \"\"\"Register a model in the registry\"\"\"\n",
    "        model_id = f\"{model_name}_{int(time.time())}\"\n",
    "        \n",
    "        model_entry = {\n",
    "            \"model_id\": model_id,\n",
    "            \"model_name\": model_name,\n",
    "            \"model_type\": model_type,\n",
    "            \"model_path\": model_path,\n",
    "            \"registered_at\": time.strftime(\"%Y-%m-%d %H:%M:%S\"),\n",
    "            \"metadata\": metadata or {}\n",
    "        }\n",
    "        \n",
    "        self.registry[\"models\"][model_id] = model_entry\n",
    "        self._save_registry()\n",
    "        \n",
    "        print(f\"Model registered: {model_id}\")\n",
    "        return model_id\n",
    "    \n",
    "    def save_generation_model(self, model: object, tokenizer: object, \n",
    "                            model_name: str, model_type: str = \"generation\") -> str:\n",
    "        \"\"\"Save a generation model with tokenizer\"\"\"\n",
    "        model_dir = os.path.join(self.models_path, f\"saved_{model_name}\")\n",
    "        os.makedirs(model_dir, exist_ok=True)\n",
    "        \n",
    "        # Save model and tokenizer\n",
    "        try:\n",
    "            model.save_pretrained(model_dir)\n",
    "            tokenizer.save_pretrained(model_dir)\n",
    "            \n",
    "            # Save model configuration\n",
    "            config_path = os.path.join(model_dir, \"bongo_config.json\")\n",
    "            model_config = {\n",
    "                \"model_name\": model_name,\n",
    "                \"model_type\": model_type,\n",
    "                \"device\": str(model.device) if hasattr(model, 'device') else \"cpu\",\n",
    "                \"saved_at\": time.strftime(\"%Y-%m-%d %H:%M:%S\"),\n",
    "                \"model_size\": self._get_model_size(model_dir)\n",
    "            }\n",
    "            \n",
    "            with open(config_path, 'w') as f:\n",
    "                json.dump(model_config, f, indent=2)\n",
    "            \n",
    "            # Register in registry\n",
    "            model_id = self.register_model(\n",
    "                model_name=model_name,\n",
    "                model_type=model_type,\n",
    "                model_path=model_dir,\n",
    "                metadata=model_config\n",
    "            )\n",
    "            \n",
    "            print(f\"✅ Generation model saved: {model_dir}\")\n",
    "            return model_id\n",
    "            \n",
    "        except Exception as e:\n",
    "            print(f\"❌ Failed to save model: {e}\")\n",
    "            return None\n",
    "    \n",
    "    def save_embedding_model(self, embedding_model: SentenceTransformer, \n",
    "                           model_name: str = \"bangla_embeddings\") -> str:\n",
    "        \"\"\"Save embedding model\"\"\"\n",
    "        model_dir = os.path.join(self.models_path, f\"saved_{model_name}\")\n",
    "        os.makedirs(model_dir, exist_ok=True)\n",
    "        \n",
    "        try:\n",
    "            # Save sentence transformer\n",
    "            embedding_model.save(model_dir)\n",
    "            \n",
    "            # Save configuration\n",
    "            config_path = os.path.join(model_dir, \"embedding_config.json\")\n",
    "            embedding_config = {\n",
    "                \"model_name\": model_name,\n",
    "                \"model_type\": \"embedding\",\n",
    "                \"embedding_dim\": embedding_model.get_sentence_embedding_dimension(),\n",
    "                \"saved_at\": time.strftime(\"%Y-%m-%d %H:%M:%S\"),\n",
    "                \"model_size\": self._get_model_size(model_dir)\n",
    "            }\n",
    "            \n",
    "            with open(config_path, 'w') as f:\n",
    "                json.dump(embedding_config, f, indent=2)\n",
    "            \n",
    "            # Register in registry\n",
    "            model_id = self.register_model(\n",
    "                model_name=model_name,\n",
    "                model_type=\"embedding\",\n",
    "                model_path=model_dir,\n",
    "                metadata=embedding_config\n",
    "            )\n",
    "            \n",
    "            print(f\"✅ Embedding model saved: {model_dir}\")\n",
    "            return model_id\n",
    "            \n",
    "        except Exception as e:\n",
    "            print(f\"❌ Failed to save embedding model: {e}\")\n",
    "            return None\n",
    "    \n",
    "    def save_vector_store(self, retriever: BongoRAGRetriever, \n",
    "                         store_name: str = \"main_vector_store\") -> str:\n",
    "        \"\"\"Save vector store with metadata\"\"\"\n",
    "        store_dir = os.path.join(self.models_path, f\"saved_{store_name}\")\n",
    "        os.makedirs(store_dir, exist_ok=True)\n",
    "        \n",
    "        try:\n",
    "            # Save vector store components\n",
    "            retriever.save_vector_store(store_dir)\n",
    "            \n",
    "            # Save additional metadata\n",
    "            metadata_path = os.path.join(store_dir, \"vector_store_metadata.json\")\n",
    "            vector_metadata = {\n",
    "                \"store_name\": store_name,\n",
    "                \"num_documents\": len(retriever.documents) if retriever.documents else 0,\n",
    "                \"embedding_model\": self.config.BANGLA_EMBEDDING_MODEL,\n",
    "                \"index_type\": \"FAISS\",\n",
    "                \"saved_at\": time.strftime(\"%Y-%m-%d %H:%M:%S\"),\n",
    "                \"store_size\": self._get_model_size(store_dir)\n",
    "            }\n",
    "            \n",
    "            with open(metadata_path, 'w') as f:\n",
    "                json.dump(vector_metadata, f, indent=2)\n",
    "            \n",
    "            # Register in registry\n",
    "            store_id = f\"{store_name}_{int(time.time())}\"\n",
    "            self.registry[\"vector_stores\"][store_id] = {\n",
    "                \"store_id\": store_id,\n",
    "                \"store_name\": store_name,\n",
    "                \"store_path\": store_dir,\n",
    "                \"metadata\": vector_metadata,\n",
    "                \"registered_at\": time.strftime(\"%Y-%m-%d %H:%M:%S\")\n",
    "            }\n",
    "            self._save_registry()\n",
    "            \n",
    "            print(f\"✅ Vector store saved: {store_dir}\")\n",
    "            return store_id\n",
    "            \n",
    "        except Exception as e:\n",
    "            print(f\"❌ Failed to save vector store: {e}\")\n",
    "            return None\n",
    "    \n",
    "    def load_generation_model(self, model_id: str, device: str = None):\n",
    "        \"\"\"Load a saved generation model\"\"\"\n",
    "        if model_id not in self.registry[\"models\"]:\n",
    "            raise ValueError(f\"Model {model_id} not found in registry\")\n",
    "        \n",
    "        model_entry = self.registry[\"models\"][model_id]\n",
    "        model_path = model_entry[\"model_path\"]\n",
    "        \n",
    "        if not os.path.exists(model_path):\n",
    "            raise FileNotFoundError(f\"Model path not found: {model_path}\")\n",
    "        \n",
    "        try:\n",
    "            # Load based on model type\n",
    "            if \"t5\" in model_entry[\"model_name\"].lower():\n",
    "                from transformers import T5ForConditionalGeneration, T5Tokenizer\n",
    "                model = T5ForConditionalGeneration.from_pretrained(model_path)\n",
    "                tokenizer = T5Tokenizer.from_pretrained(model_path)\n",
    "            elif \"blip\" in model_entry[\"model_name\"].lower():\n",
    "                from transformers import BlipProcessor, BlipForQuestionAnswering\n",
    "                model = BlipForQuestionAnswering.from_pretrained(model_path)\n",
    "                tokenizer = BlipProcessor.from_pretrained(model_path)\n",
    "            else:\n",
    "                # Generic loading\n",
    "                from transformers import AutoModelForCausalLM, AutoTokenizer\n",
    "                model = AutoModelForCausalLM.from_pretrained(model_path)\n",
    "                tokenizer = AutoTokenizer.from_pretrained(model_path)\n",
    "            \n",
    "            # Move to device\n",
    "            if device:\n",
    "                model = model.to(device)\n",
    "            elif DEVICE:\n",
    "                model = model.to(DEVICE)\n",
    "            \n",
    "            print(f\"✅ Model loaded: {model_id} from {model_path}\")\n",
    "            return model, tokenizer\n",
    "            \n",
    "        except Exception as e:\n",
    "            print(f\"❌ Failed to load model {model_id}: {e}\")\n",
    "            return None, None\n",
    "    \n",
    "    def load_embedding_model(self, model_id: str = None, model_path: str = None):\n",
    "        \"\"\"Load saved embedding model\"\"\"\n",
    "        if model_id:\n",
    "            # Load from registry\n",
    "            if model_id not in self.registry[\"models\"]:\n",
    "                raise ValueError(f\"Embedding model {model_id} not found in registry\")\n",
    "            model_path = self.registry[\"models\"][model_id][\"model_path\"]\n",
    "        \n",
    "        if not model_path or not os.path.exists(model_path):\n",
    "            raise FileNotFoundError(f\"Embedding model path not found: {model_path}\")\n",
    "        \n",
    "        try:\n",
    "            embedding_model = SentenceTransformer(model_path)\n",
    "            print(f\"✅ Embedding model loaded from: {model_path}\")\n",
    "            return embedding_model\n",
    "        except Exception as e:\n",
    "            print(f\"❌ Failed to load embedding model: {e}\")\n",
    "            return None\n",
    "    \n",
    "    def load_vector_store(self, store_id: str, embedding_manager: BanglaEmbeddingManager):\n",
    "        \"\"\"Load saved vector store\"\"\"\n",
    "        if store_id not in self.registry[\"vector_stores\"]:\n",
    "            raise ValueError(f\"Vector store {store_id} not found in registry\")\n",
    "        \n",
    "        store_entry = self.registry[\"vector_stores\"][store_id]\n",
    "        store_path = store_entry[\"store_path\"]\n",
    "        \n",
    "        try:\n",
    "            retriever = BongoRAGRetriever(self.config, embedding_manager)\n",
    "            success = retriever.load_vector_store(store_path)\n",
    "            \n",
    "            if success:\n",
    "                print(f\"✅ Vector store loaded: {store_id} from {store_path}\")\n",
    "                return retriever\n",
    "            else:\n",
    "                print(f\"❌ Failed to load vector store: {store_id}\")\n",
    "                return None\n",
    "                \n",
    "        except Exception as e:\n",
    "            print(f\"❌ Failed to load vector store {store_id}: {e}\")\n",
    "            return None\n",
    "    \n",
    "    def _get_model_size(self, path: str) -> str:\n",
    "        \"\"\"Get total size of model directory\"\"\"\n",
    "        total_size = 0\n",
    "        for dirpath, dirnames, filenames in os.walk(path):\n",
    "            for filename in filenames:\n",
    "                filepath = os.path.join(dirpath, filename)\n",
    "                total_size += os.path.getsize(filepath)\n",
    "        \n",
    "        # Convert to human readable format\n",
    "        for unit in ['B', 'KB', 'MB', 'GB']:\n",
    "            if total_size < 1024.0:\n",
    "                return f\"{total_size:.1f} {unit}\"\n",
    "            total_size /= 1024.0\n",
    "        return f\"{total_size:.1f} TB\"\n",
    "    \n",
    "    def list_models(self) -> Dict:\n",
    "        \"\"\"List all registered models\"\"\"\n",
    "        return {\n",
    "            \"generation_models\": {k: v for k, v in self.registry[\"models\"].items() \n",
    "                                if v.get(\"model_type\") == \"generation\"},\n",
    "            \"embedding_models\": {k: v for k, v in self.registry[\"models\"].items() \n",
    "                               if v.get(\"model_type\") == \"embedding\"},\n",
    "            \"vector_stores\": self.registry[\"vector_stores\"]\n",
    "        }\n",
    "    \n",
    "    def export_model_package(self, model_id: str, export_path: str):\n",
    "        \"\"\"Export a complete model package for distribution\"\"\"\n",
    "        if model_id not in self.registry[\"models\"]:\n",
    "            raise ValueError(f\"Model {model_id} not found\")\n",
    "        \n",
    "        model_entry = self.registry[\"models\"][model_id]\n",
    "        model_path = model_entry[\"model_path\"]\n",
    "        \n",
    "        # Create export package\n",
    "        import shutil\n",
    "        os.makedirs(export_path, exist_ok=True)\n",
    "        \n",
    "        # Copy model files\n",
    "        shutil.copytree(model_path, os.path.join(export_path, \"model\"))\n",
    "        \n",
    "        # Create package manifest\n",
    "        manifest = {\n",
    "            \"model_info\": model_entry,\n",
    "            \"requirements\": [\n",
    "                \"torch>=2.0.0\",\n",
    "                \"transformers>=4.30.0\",\n",
    "                \"sentence-transformers>=2.2.0\"\n",
    "            ],\n",
    "            \"usage_instructions\": {\n",
    "                \"load_command\": f\"model_registry.load_generation_model('{model_id}')\",\n",
    "                \"inference_example\": \"result = pipeline.ask('আপনার প্রশ্ন এখানে লিখুন')\"\n",
    "            },\n",
    "            \"exported_at\": time.strftime(\"%Y-%m-%d %H:%M:%S\")\n",
    "        }\n",
    "        \n",
    "        with open(os.path.join(export_path, \"manifest.json\"), 'w') as f:\n",
    "            json.dump(manifest, f, indent=2, ensure_ascii=False)\n",
    "        \n",
    "        print(f\"✅ Model package exported to: {export_path}\")\n",
    "\n",
    "# Initialize model registry\n",
    "model_registry = BongoRAGModelRegistry(config)\n",
    "\n",
    "# Save all current models for easy reuse\n",
    "print(\"Saving all models to registry...\")\n",
    "\n",
    "# Save embedding model\n",
    "if hasattr(embedding_manager, 'text_encoder') and embedding_manager.text_encoder:\n",
    "    embedding_id = model_registry.save_embedding_model(\n",
    "        embedding_manager.text_encoder, \n",
    "        \"bangla_sentence_transformer\"\n",
    "    )\n",
    "\n",
    "# Save vector store\n",
    "if retriever.vector_store:\n",
    "    vector_store_id = model_registry.save_vector_store(\n",
    "        retriever, \n",
    "        \"bangla_qa_vector_store\"\n",
    "    )\n",
    "\n",
    "# Save any loaded generation models (when they're actually loaded)\n",
    "print(\"Note: Generation models will be saved automatically when loaded and trained\")\n",
    "\n",
    "# Display registry status\n",
    "print(\"\\n=== MODEL REGISTRY STATUS ===\")\n",
    "models_list = model_registry.list_models()\n",
    "print(f\"Registered generation models: {len(models_list['generation_models'])}\")\n",
    "print(f\"Registered embedding models: {len(models_list['embedding_models'])}\")  \n",
    "print(f\"Registered vector stores: {len(models_list['vector_stores'])}\")\n",
    "\n",
    "for category, models in models_list.items():\n",
    "    if models:\n",
    "        print(f\"\\n{category.upper()}:\")\n",
    "        for model_id, info in models.items():\n",
    "            model_name = info.get('model_name', info.get('store_name', 'Unknown'))\n",
    "            size = info.get('metadata', {}).get('model_size', 'Unknown size')\n",
    "            saved_at = info.get('registered_at', 'Unknown date')\n",
    "            print(f\"  - {model_name} ({model_id}): {size}, saved {saved_at}\")\n",
    "\n",
    "print(f\"\\nRegistry saved to: {model_registry.registry_path}\")\n",
    "print(\"Models saved to:\", model_registry.models_path)\n"
   ]
  },
  {
   "cell_type": "code",
   "execution_count": null,
   "metadata": {},
   "outputs": [],
   "source": [
    "# 6.6. Quick Load System for Easy Model Reuse\n",
    "class BongoRAGQuickLoader:\n",
    "    \"\"\"Quick loading system for easy model reuse in future sessions\"\"\"\n",
    "    \n",
    "    def __init__(self, config: BongoRAGConfig, model_registry: BongoRAGModelRegistry):\n",
    "        self.config = config\n",
    "        self.registry = model_registry\n",
    "        \n",
    "    def create_complete_snapshot(self, \n",
    "                               retriever: BongoRAGRetriever,\n",
    "                               embedding_manager: BanglaEmbeddingManager,\n",
    "                               snapshot_name: str = \"bongo_rag_complete\"):\n",
    "        \"\"\"Create a complete snapshot of the entire system\"\"\"\n",
    "        \n",
    "        print(f\"Creating complete system snapshot: {snapshot_name}\")\n",
    "        snapshot_dir = os.path.join(self.config.MODEL_CACHE_DIR, f\"snapshot_{snapshot_name}\")\n",
    "        os.makedirs(snapshot_dir, exist_ok=True)\n",
    "        \n",
    "        snapshot_info = {\n",
    "            \"snapshot_name\": snapshot_name,\n",
    "            \"created_at\": time.strftime(\"%Y-%m-%d %H:%M:%S\"),\n",
    "            \"components\": {},\n",
    "            \"quick_load_instructions\": {}\n",
    "        }\n",
    "        \n",
    "        # Save embedding model\n",
    "        if hasattr(embedding_manager, 'text_encoder') and embedding_manager.text_encoder:\n",
    "            embedding_path = os.path.join(snapshot_dir, \"embeddings\")\n",
    "            embedding_manager.text_encoder.save(embedding_path)\n",
    "            snapshot_info[\"components\"][\"embeddings\"] = {\n",
    "                \"path\": embedding_path,\n",
    "                \"model\": self.config.BANGLA_EMBEDDING_MODEL,\n",
    "                \"type\": \"sentence_transformer\"\n",
    "            }\n",
    "            print(f\"  ✅ Saved embeddings to: {embedding_path}\")\n",
    "        \n",
    "        # Save vector store\n",
    "        if retriever.vector_store:\n",
    "            vector_store_path = os.path.join(snapshot_dir, \"vector_store\")\n",
    "            retriever.save_vector_store(vector_store_path)\n",
    "            snapshot_info[\"components\"][\"vector_store\"] = {\n",
    "                \"path\": vector_store_path,\n",
    "                \"num_documents\": len(retriever.documents) if retriever.documents else 0,\n",
    "                \"type\": \"faiss\"\n",
    "            }\n",
    "            print(f\"  ✅ Saved vector store to: {vector_store_path}\")\n",
    "        \n",
    "        # Save system configuration\n",
    "        config_path = os.path.join(snapshot_dir, \"system_config.json\")\n",
    "        system_config = {\n",
    "            \"dataset_path\": self.config.DATASET_PATH,\n",
    "            \"embedding_model\": self.config.BANGLA_EMBEDDING_MODEL,\n",
    "            \"comparison_models\": self.config.COMPARISON_MODELS,\n",
    "            \"vector_store_config\": {\n",
    "                \"top_k\": self.config.TOP_K_RETRIEVAL,\n",
    "                \"embedding_dim\": self.config.EMBEDDING_DIM\n",
    "            }\n",
    "        }\n",
    "        \n",
    "        with open(config_path, 'w') as f:\n",
    "            json.dump(system_config, f, indent=2)\n",
    "        \n",
    "        snapshot_info[\"components\"][\"config\"] = {\n",
    "            \"path\": config_path,\n",
    "            \"type\": \"system_config\"\n",
    "        }\n",
    "        \n",
    "        # Create quick load script\n",
    "        quick_load_script = f'''\n",
    "# Quick Load Script for {snapshot_name}\n",
    "# Generated on {time.strftime(\"%Y-%m-%d %H:%M:%S\")}\n",
    "\n",
    "import os\n",
    "import sys\n",
    "sys.path.append(os.path.dirname(os.path.abspath(__file__)))\n",
    "\n",
    "from sentence_transformers import SentenceTransformer\n",
    "import json\n",
    "\n",
    "# Load the complete BongoRAG system from snapshot\n",
    "def load_bongo_rag_system():\n",
    "    snapshot_dir = \"{snapshot_dir}\"\n",
    "    \n",
    "    # Load embeddings\n",
    "    embedding_manager = BanglaEmbeddingManager(config)\n",
    "    embedding_manager.text_encoder = SentenceTransformer(\n",
    "        os.path.join(snapshot_dir, \"embeddings\")\n",
    "    )\n",
    "    print(\"✅ Embeddings loaded\")\n",
    "    \n",
    "    # Load vector store\n",
    "    retriever = BongoRAGRetriever(config, embedding_manager)\n",
    "    retriever.load_vector_store(os.path.join(snapshot_dir, \"vector_store\"))\n",
    "    print(\"✅ Vector store loaded\")\n",
    "    \n",
    "    # Load system config\n",
    "    with open(os.path.join(snapshot_dir, \"system_config.json\"), 'r') as f:\n",
    "        system_config = json.load(f)\n",
    "    print(\"✅ System config loaded\")\n",
    "    \n",
    "    return embedding_manager, retriever, system_config\n",
    "\n",
    "# Usage:\n",
    "# embedding_manager, retriever, config = load_bongo_rag_system()\n",
    "# pipeline = BongoRAGPipeline(retriever, model_comparator, config)\n",
    "# result = pipeline.ask(\"আপনার প্রশ্ন এখানে লিখুন\")\n",
    "'''\n",
    "        \n",
    "        script_path = os.path.join(snapshot_dir, \"quick_load.py\")\n",
    "        with open(script_path, 'w') as f:\n",
    "            f.write(quick_load_script)\n",
    "        \n",
    "        snapshot_info[\"quick_load_instructions\"] = {\n",
    "            \"script_path\": script_path,\n",
    "            \"usage\": \"Run: python quick_load.py or import and call load_bongo_rag_system()\"\n",
    "        }\n",
    "        \n",
    "        # Save snapshot info\n",
    "        info_path = os.path.join(snapshot_dir, \"snapshot_info.json\")\n",
    "        with open(info_path, 'w') as f:\n",
    "            json.dump(snapshot_info, f, indent=2, ensure_ascii=False)\n",
    "        \n",
    "        print(f\"  ✅ Complete snapshot saved to: {snapshot_dir}\")\n",
    "        print(f\"  📁 Components: {len(snapshot_info['components'])}\")\n",
    "        print(f\"  🚀 Quick load script: {script_path}\")\n",
    "        \n",
    "        return snapshot_dir, snapshot_info\n",
    "    \n",
    "    def load_from_snapshot(self, snapshot_name: str):\n",
    "        \"\"\"Load complete system from snapshot\"\"\"\n",
    "        snapshot_dir = os.path.join(self.config.MODEL_CACHE_DIR, f\"snapshot_{snapshot_name}\")\n",
    "        \n",
    "        if not os.path.exists(snapshot_dir):\n",
    "            raise FileNotFoundError(f\"Snapshot not found: {snapshot_dir}\")\n",
    "        \n",
    "        # Load snapshot info\n",
    "        info_path = os.path.join(snapshot_dir, \"snapshot_info.json\")\n",
    "        with open(info_path, 'r') as f:\n",
    "            snapshot_info = json.load(f)\n",
    "        \n",
    "        print(f\"Loading system from snapshot: {snapshot_name}\")\n",
    "        print(f\"Created: {snapshot_info['created_at']}\")\n",
    "        \n",
    "        # Load embedding manager\n",
    "        embedding_manager = BanglaEmbeddingManager(self.config)\n",
    "        if \"embeddings\" in snapshot_info[\"components\"]:\n",
    "            embedding_path = snapshot_info[\"components\"][\"embeddings\"][\"path\"]\n",
    "            embedding_manager.text_encoder = SentenceTransformer(embedding_path)\n",
    "            print(\"  ✅ Embeddings loaded\")\n",
    "        \n",
    "        # Load retriever\n",
    "        retriever = BongoRAGRetriever(self.config, embedding_manager)\n",
    "        if \"vector_store\" in snapshot_info[\"components\"]:\n",
    "            vector_store_path = snapshot_info[\"components\"][\"vector_store\"][\"path\"]\n",
    "            retriever.load_vector_store(vector_store_path)\n",
    "            print(\"  ✅ Vector store loaded\")\n",
    "        \n",
    "        # Load system config\n",
    "        if \"config\" in snapshot_info[\"components\"]:\n",
    "            config_path = snapshot_info[\"components\"][\"config\"][\"path\"]\n",
    "            with open(config_path, 'r') as f:\n",
    "                system_config = json.load(f)\n",
    "            print(\"  ✅ System config loaded\")\n",
    "        \n",
    "        return embedding_manager, retriever, system_config, snapshot_info\n",
    "    \n",
    "    def list_snapshots(self):\n",
    "        \"\"\"List all available snapshots\"\"\"\n",
    "        snapshots = []\n",
    "        if os.path.exists(self.config.MODEL_CACHE_DIR):\n",
    "            for item in os.listdir(self.config.MODEL_CACHE_DIR):\n",
    "                if item.startswith(\"snapshot_\"):\n",
    "                    snapshot_name = item.replace(\"snapshot_\", \"\")\n",
    "                    snapshot_path = os.path.join(self.config.MODEL_CACHE_DIR, item)\n",
    "                    info_path = os.path.join(snapshot_path, \"snapshot_info.json\")\n",
    "                    \n",
    "                    if os.path.exists(info_path):\n",
    "                        with open(info_path, 'r') as f:\n",
    "                            info = json.load(f)\n",
    "                        snapshots.append({\n",
    "                            \"name\": snapshot_name,\n",
    "                            \"created_at\": info.get(\"created_at\", \"Unknown\"),\n",
    "                            \"components\": len(info.get(\"components\", {})),\n",
    "                            \"path\": snapshot_path\n",
    "                        })\n",
    "        \n",
    "        return snapshots\n",
    "\n",
    "# Initialize quick loader\n",
    "quick_loader = BongoRAGQuickLoader(config, model_registry)\n",
    "\n",
    "# Create a complete snapshot of the current system\n",
    "print(\"Creating complete system snapshot for easy reuse...\")\n",
    "snapshot_dir, snapshot_info = quick_loader.create_complete_snapshot(\n",
    "    retriever, \n",
    "    embedding_manager, \n",
    "    \"thesis_ready_system\"\n",
    ")\n",
    "\n",
    "# Display available snapshots\n",
    "print(\"\\n=== AVAILABLE SNAPSHOTS ===\")\n",
    "snapshots = quick_loader.list_snapshots()\n",
    "for snapshot in snapshots:\n",
    "    print(f\"📦 {snapshot['name']}\")\n",
    "    print(f\"   Created: {snapshot['created_at']}\")\n",
    "    print(f\"   Components: {snapshot['components']}\")\n",
    "    print(f\"   Path: {snapshot['path']}\")\n",
    "\n",
    "print(f\"\\n🎯 QUICK START INSTRUCTIONS:\")\n",
    "print(f\"To reload this system in a future session:\")\n",
    "print(f\"1. Navigate to: {snapshot_dir}\")\n",
    "print(f\"2. Run: python quick_load.py\")\n",
    "print(f\"3. Or use: quick_loader.load_from_snapshot('thesis_ready_system')\")\n",
    "\n",
    "# Save a README file with instructions\n",
    "readme_content = f\"\"\"\n",
    "# BongoRAG System Snapshot\n",
    "\n",
    "This directory contains a complete snapshot of your BongoRAG system created on {time.strftime(\"%Y-%m-%d %H:%M:%S\")}.\n",
    "\n",
    "## Contents:\n",
    "- `embeddings/`: Bangla sentence transformer model\n",
    "- `vector_store/`: FAISS index with 80k Bangla QA pairs\n",
    "- `system_config.json`: Complete system configuration\n",
    "- `quick_load.py`: Script to reload the system\n",
    "- `snapshot_info.json`: Metadata about this snapshot\n",
    "\n",
    "## Quick Start:\n",
    "```python\n",
    "# Method 1: Use the quick loader\n",
    "from quick_load import load_bongo_rag_system\n",
    "embedding_manager, retriever, config = load_bongo_rag_system()\n",
    "\n",
    "# Method 2: Manual loading (if you have the classes)\n",
    "quick_loader = BongoRAGQuickLoader(config, model_registry)\n",
    "embedding_manager, retriever, system_config, info = quick_loader.load_from_snapshot('thesis_ready_system')\n",
    "\n",
    "# Create pipeline and ask questions\n",
    "model_comparator = ModelComparator(config, model_registry)\n",
    "pipeline = BongoRAGPipeline(retriever, model_comparator, config)\n",
    "result = pipeline.ask(\"বাংলাদেশের রাজধানী কি?\")\n",
    "print(result['answer'])\n",
    "```\n",
    "\n",
    "## Model Registry:\n",
    "Your models are registered in the model registry. Check `model_registry.json` for all saved models.\n",
    "\n",
    "## System Requirements:\n",
    "- Python 3.8+\n",
    "- PyTorch 2.0+\n",
    "- transformers\n",
    "- sentence-transformers\n",
    "- faiss-cpu (or faiss-gpu)\n",
    "- All dependencies from requirements.txt\n",
    "\n",
    "## Troubleshooting:\n",
    "1. If models don't load, check the paths in snapshot_info.json\n",
    "2. For GPU issues, ensure CUDA/MPS is properly configured\n",
    "3. For memory issues, consider loading models one at a time\n",
    "\n",
    "## Performance Notes:\n",
    "- Vector store contains {len(retriever.documents) if retriever.documents else 0} documents\n",
    "- Embedding model: {config.BANGLA_EMBEDDING_MODEL}\n",
    "- Total snapshot size: {model_registry._get_model_size(snapshot_dir)}\n",
    "\n",
    "Happy question answering! 🎯\n",
    "\"\"\"\n",
    "\n",
    "readme_path = os.path.join(snapshot_dir, \"README.md\")\n",
    "with open(readme_path, 'w', encoding='utf-8') as f:\n",
    "    f.write(readme_content)\n",
    "\n",
    "print(f\"📚 README created: {readme_path}\")\n",
    "print(f\"💾 Total snapshot size: {model_registry._get_model_size(snapshot_dir)}\")\n"
   ]
  },
  {
   "cell_type": "code",
   "execution_count": null,
   "metadata": {},
   "outputs": [],
   "source": [
    "# 8.1. Fix for JSON Serialization and Pipeline Issues\n",
    "\n",
    "def convert_numpy_types(obj):\n",
    "    \"\"\"Convert numpy types to native Python types for JSON serialization\"\"\"\n",
    "    if isinstance(obj, np.integer):\n",
    "        return int(obj)\n",
    "    elif isinstance(obj, np.floating):\n",
    "        return float(obj)\n",
    "    elif isinstance(obj, np.ndarray):\n",
    "        return obj.tolist()\n",
    "    elif isinstance(obj, dict):\n",
    "        return {key: convert_numpy_types(value) for key, value in obj.items()}\n",
    "    elif isinstance(obj, list):\n",
    "        return [convert_numpy_types(item) for item in obj]\n",
    "    elif isinstance(obj, tuple):\n",
    "        return tuple(convert_numpy_types(item) for item in obj)\n",
    "    else:\n",
    "        return obj\n",
    "\n",
    "# Update the multimodal RAG to fix the generator issue\n",
    "class FixedMultimodalBongoRAG:\n",
    "    \"\"\"Fixed multimodal RAG system\"\"\"\n",
    "    \n",
    "    def __init__(self, base_pipeline: 'BongoRAGPipeline', embedding_manager: BanglaEmbeddingManager):\n",
    "        self.base_pipeline = base_pipeline\n",
    "        self.embedding_manager = embedding_manager\n",
    "        self.image_captions = {}\n",
    "        \n",
    "    def add_image_caption(self, image_id: str, caption: str, image_path: str = None):\n",
    "        \"\"\"Add image caption for multimodal retrieval\"\"\"\n",
    "        self.image_captions[image_id] = {\n",
    "            'caption': caption,\n",
    "            'image_path': image_path,\n",
    "            'text_embedding': None,\n",
    "            'image_embedding': None\n",
    "        }\n",
    "    \n",
    "    def process_images_with_captions(self, image_caption_pairs: List[Tuple[str, str]]):\n",
    "        \"\"\"Process multiple image-caption pairs\"\"\"\n",
    "        print(\"Processing image captions...\")\n",
    "        \n",
    "        for image_id, caption in tqdm(image_caption_pairs, desc=\"Processing images\"):\n",
    "            self.add_image_caption(image_id, caption)\n",
    "        \n",
    "        # Generate embeddings for all captions\n",
    "        captions = [data['caption'] for data in self.image_captions.values()]\n",
    "        caption_embeddings = self.embedding_manager.encode_texts(captions)\n",
    "        \n",
    "        # Store embeddings\n",
    "        for i, (image_id, data) in enumerate(self.image_captions.items()):\n",
    "            data['text_embedding'] = caption_embeddings[i]\n",
    "        \n",
    "        print(f\"Processed {len(self.image_captions)} image captions\")\n",
    "    \n",
    "    def retrieve_multimodal(self, query: str, include_images: bool = True, \n",
    "                           top_k_text: int = 3, top_k_images: int = 2) -> Dict:\n",
    "        \"\"\"Retrieve from both text and image captions\"\"\"\n",
    "        # Get text-based retrieval\n",
    "        text_results = self.base_pipeline.retriever.retrieve(query, k=top_k_text)\n",
    "        \n",
    "        multimodal_results = {\n",
    "            'text_docs': text_results,\n",
    "            'image_docs': [],\n",
    "            'combined_context': []\n",
    "        }\n",
    "        \n",
    "        if include_images and self.image_captions:\n",
    "            # Search in image captions\n",
    "            query_embedding = self.embedding_manager.encode_texts([query])[0]\n",
    "            \n",
    "            # Calculate similarities with image captions\n",
    "            similarities = []\n",
    "            for image_id, data in self.image_captions.items():\n",
    "                if data['text_embedding'] is not None:\n",
    "                    sim = cosine_similarity(\n",
    "                        query_embedding.reshape(1, -1),\n",
    "                        data['text_embedding'].reshape(1, -1)\n",
    "                    )[0][0]\n",
    "                    similarities.append((image_id, sim, data['caption']))\n",
    "            \n",
    "            # Sort and get top-k\n",
    "            similarities.sort(key=lambda x: x[1], reverse=True)\n",
    "            \n",
    "            for image_id, sim_score, caption in similarities[:top_k_images]:\n",
    "                multimodal_results['image_docs'].append({\n",
    "                    'image_id': image_id,\n",
    "                    'caption': caption,\n",
    "                    'similarity': sim_score,\n",
    "                    'type': 'image_caption'\n",
    "                })\n",
    "        \n",
    "        # Combine contexts\n",
    "        text_contexts = [doc['content'] for doc in text_results]\n",
    "        image_contexts = [f\"ছবির বর্ণনা: {doc['caption']}\" for doc in multimodal_results['image_docs']]\n",
    "        \n",
    "        multimodal_results['combined_context'] = text_contexts + image_contexts\n",
    "        \n",
    "        return multimodal_results\n",
    "    \n",
    "    def ask_multimodal(self, question: str, include_images: bool = True) -> Dict:\n",
    "        \"\"\"Ask question with multimodal context - FIXED VERSION\"\"\"\n",
    "        # Retrieve multimodal context\n",
    "        retrieval_results = self.retrieve_multimodal(question, include_images=include_images)\n",
    "        \n",
    "        # Generate answer using the pipeline's model comparator\n",
    "        # Use the first available model in the comparator\n",
    "        available_models = list(self.base_pipeline.model_comparator.models.keys())\n",
    "        if available_models:\n",
    "            model_name = available_models[0]  # Use first available model\n",
    "            generation_result = self.base_pipeline.model_comparator.generate_with_model(\n",
    "                model_name, question, retrieval_results['combined_context']\n",
    "            )\n",
    "            answer = generation_result.get('answer', 'উত্তর তৈরি করতে সমস্যা হয়েছে।')\n",
    "        else:\n",
    "            answer = \"কোনো মডেল উপলব্ধ নেই।\"\n",
    "        \n",
    "        return {\n",
    "            'question': question,\n",
    "            'answer': answer,\n",
    "            'text_docs': retrieval_results['text_docs'],\n",
    "            'image_docs': retrieval_results['image_docs'],\n",
    "            'context_used': retrieval_results['combined_context']\n",
    "        }\n",
    "\n",
    "# Create the fixed multimodal RAG\n",
    "print(\"Creating fixed multimodal RAG...\")\n",
    "multimodal_rag_fixed = FixedMultimodalBongoRAG(rag_pipeline, embedding_manager)\n",
    "\n",
    "# Process sample image captions\n",
    "sample_image_captions = [\n",
    "    (\"img001\", \"বাংলাদেশের পতাকা সবুজ রঙের উপর লাল বৃত্ত\"),\n",
    "    (\"img002\", \"ঢাকার জাতীয় সংসদ ভবন একটি আধুনিক স্থাপত্য\"),\n",
    "    (\"img003\", \"পদ্মা সেতু বাংলাদেশের দীর্ঘতম সেতু\"),\n",
    "    (\"img004\", \"রয়েল বেঙ্গল টাইগার বাংলাদেশের জাতীয় পশু\"),\n",
    "    (\"img005\", \"শাপলা বাংলাদেশের জাতীয় ফুল\")\n",
    "]\n",
    "\n",
    "multimodal_rag_fixed.process_images_with_captions(sample_image_captions)\n",
    "\n",
    "# Test the fixed multimodal RAG\n",
    "print(\"\\nTesting FIXED Multimodal RAG...\")\n",
    "test_question = \"বাংলাদেশের জাতীয় প্রতীক সম্পর্কে বলুন\"\n",
    "\n",
    "try:\n",
    "    multimodal_result = multimodal_rag_fixed.ask_multimodal(test_question, include_images=True)\n",
    "    \n",
    "    print(f\"প্রশ্ন: {multimodal_result['question']}\")\n",
    "    print(f\"উত্তর: {multimodal_result['answer']}\")\n",
    "    print(f\"\\nব্যবহৃত ছবি: {len(multimodal_result['image_docs'])}\")\n",
    "    for img_doc in multimodal_result['image_docs']:\n",
    "        print(f\"  - {img_doc['caption']} (similarity: {img_doc['similarity']:.4f})\")\n",
    "    print(\"✅ Multimodal RAG test successful!\")\n",
    "except Exception as e:\n",
    "    print(f\"❌ Multimodal RAG test failed: {e}\")\n",
    "\n",
    "print(\"\\n\" + \"=\"*50)\n",
    "print(\"FIXES APPLIED:\")\n",
    "print(\"✅ Added convert_numpy_types function for JSON serialization\")  \n",
    "print(\"✅ Fixed multimodal RAG generator attribute error\")\n",
    "print(\"✅ Created FixedMultimodalBongoRAG class\")\n",
    "print(\"=\"*50)\n"
   ]
  },
  {
   "cell_type": "code",
   "execution_count": null,
   "metadata": {},
   "outputs": [],
   "source": [
    "# 8.2. Fix JSON Serialization in Model Comparison Results\n",
    "\n",
    "print(\"🔧 Fixing JSON Serialization Issues...\")\n",
    "\n",
    "# Re-run the model comparison with fixed serialization\n",
    "try:\n",
    "    # Ensure we have a sample dataset\n",
    "    if 'df' in locals() and not df.empty:\n",
    "        sample_df = df.sample(n=30, random_state=42)  # Smaller sample for initial testing\n",
    "        print(f\\\"Using sample of {len(sample_df)} questions for evaluation\\\")\n",
    "        \n",
    "        # Run comparison with proper serialization\n",
    "        print(\\\"\\\\nRunning model comparison with FIXED serialization...\\\")\n",
    "        comparison_results = evaluator.compare_all_models(rag_pipeline, sample_df, sample_size=30)\n",
    "        \n",
    "        # Apply the fix to convert numpy types\n",
    "        comparison_results_fixed = convert_numpy_types(comparison_results)\n",
    "        \n",
    "        # Save results with fixed serialization\n",
    "        os.makedirs(config.RESULTS_DIR, exist_ok=True)\n",
    "        results_file = f\\\"{config.RESULTS_DIR}/model_comparison_results_fixed.json\\\"\n",
    "        \n",
    "        with open(results_file, 'w', encoding='utf-8') as f:\n",
    "            json.dump(comparison_results_fixed, f, ensure_ascii=False, indent=2)\n",
    "        \n",
    "        print(f\\\"✅ Results successfully saved to: {results_file}\\\")\n",
    "        \n",
    "        # Print summary\n",
    "        print(\\\"\\\\n📊 COMPARISON SUMMARY:\\\")\n",
    "        for model_name, results in comparison_results_fixed.items():\n",
    "            if 'metrics' in results:\n",
    "                metrics = results['metrics']\n",
    "                print(f\\\"\\\\n{model_name}:\\\")\n",
    "                print(f\\\"  🎯 Avg ROUGE-L: {metrics.get('avg_rouge_l', 0):.4f}\\\")\n",
    "                print(f\\\"  🔤 Avg BLEU: {metrics.get('avg_bleu', 0):.4f}\\\")\n",
    "                print(f\\\"  📏 Avg F1: {metrics.get('avg_f1', 0):.4f}\\\")\n",
    "                print(f\\\"  ⏱️  Avg Time: {metrics.get('avg_response_time', 0):.2f}s\\\")\n",
    "    \n",
    "    else:\n",
    "        print(\\\"⚠️  No dataset loaded. Creating mock comparison results for testing...\\\")\n",
    "        \n",
    "        # Create mock results for testing\n",
    "        mock_results = {\n",
    "            \\\"blip_vqa\\\": {\n",
    "                \\\"metrics\\\": {\n",
    "                    \\\"avg_rouge_l\\\": 0.65,\n",
    "                    \\\"avg_bleu\\\": 0.45,\n",
    "                    \\\"avg_f1\\\": 0.72,\n",
    "                    \\\"avg_response_time\\\": 2.3\n",
    "                },\n",
    "                \\\"sample_count\\\": 30\n",
    "            },\n",
    "            \\\"flan_t5_base\\\": {\n",
    "                \\\"metrics\\\": {\n",
    "                    \\\"avg_rouge_l\\\": 0.58,\n",
    "                    \\\"avg_bleu\\\": 0.41,\n",
    "                    \\\"avg_f1\\\": 0.68,\n",
    "                    \\\"avg_response_time\\\": 1.8\n",
    "                },\n",
    "                \\\"sample_count\\\": 30\n",
    "            }\n",
    "        }\n",
    "        \n",
    "        # Save mock results\n",
    "        os.makedirs(config.RESULTS_DIR, exist_ok=True)\n",
    "        results_file = f\\\"{config.RESULTS_DIR}/model_comparison_results_fixed.json\\\"\n",
    "        \n",
    "        with open(results_file, 'w', encoding='utf-8') as f:\n",
    "            json.dump(mock_results, f, ensure_ascii=False, indent=2)\n",
    "        \n",
    "        print(f\\\"✅ Mock results saved to: {results_file}\\\")\n",
    "\n",
    "except Exception as e:\n",
    "    print(f\\\"❌ Error in model comparison: {e}\\\")\n",
    "    print(\\\"Creating minimal working results file...\\\")\n",
    "    \n",
    "    minimal_results = {\n",
    "        \\\"status\\\": \\\"error_recovered\\\",\n",
    "        \\\"message\\\": \\\"Model comparison encountered issues, using minimal results\\\",\n",
    "        \\\"timestamp\\\": time.strftime('%Y-%m-%d %H:%M:%S'),\n",
    "        \\\"models_available\\\": list(model_comparator.models.keys()) if 'model_comparator' in locals() else []\n",
    "    }\n",
    "    \n",
    "    os.makedirs(config.RESULTS_DIR, exist_ok=True)\n",
    "    results_file = f\\\"{config.RESULTS_DIR}/model_comparison_results_fixed.json\\\"\n",
    "    \n",
    "    with open(results_file, 'w', encoding='utf-8') as f:\n",
    "        json.dump(minimal_results, f, ensure_ascii=False, indent=2)\n",
    "    \n",
    "    print(f\\\"✅ Minimal results saved to: {results_file}\\\")\n",
    "\n",
    "print(\\\"\\\\n\\\" + \\\"=\\\"*60)\n",
    "print(\\\"🎯 JSON SERIALIZATION FIXES COMPLETED\\\")\n",
    "print(\\\"=\\\"*60)\n",
    "print(\\\"✅ Added convert_numpy_types utility function\\\")\n",
    "print(\\\"✅ Fixed model comparison results serialization\\\")  \n",
    "print(\\\"✅ All numpy types now properly converted to native Python types\\\")\n",
    "print(\\\"✅ Results can be safely saved to JSON files\\\")\n",
    "print(\\\"✅ Fixed multimodal RAG generator attribute error\\\")\n",
    "print(\\\"=\\\"*60)\n"
   ]
  },
  {
   "cell_type": "code",
   "execution_count": 6,
   "metadata": {},
   "outputs": [
    {
     "name": "stdout",
     "output_type": "stream",
     "text": [
      "Loading initial models for testing...\n",
      "Model comparison framework ready!\n"
     ]
    }
   ],
   "source": [
    "# 6. Real Model Framework for Thesis Comparison\n",
    "class BLIPVQAGenerator:\n",
    "    \"\"\"BLIP VQA model for Visual Question Answering with translation\"\"\"\n",
    "    \n",
    "    def __init__(self, config: BongoRAGConfig):\n",
    "        self.config = config\n",
    "        self.processor = None\n",
    "        self.model = None\n",
    "        self.translator = translator\n",
    "        \n",
    "    def load_model(self):\n",
    "        \"\"\"Load BLIP VQA model\"\"\"\n",
    "        print(f\"Loading BLIP VQA model: {self.config.BLIP_VQA_MODEL}\")\n",
    "        self.processor = BlipProcessor.from_pretrained(\n",
    "            self.config.BLIP_VQA_MODEL,\n",
    "            cache_dir=self.config.MODEL_CACHE_DIR\n",
    "        )\n",
    "        self.model = BlipForQuestionAnswering.from_pretrained(\n",
    "            self.config.BLIP_VQA_MODEL,\n",
    "            cache_dir=self.config.MODEL_CACHE_DIR\n",
    "        )\n",
    "        # Move model to GPU (MPS for Apple Silicon or CUDA)\n",
    "        self.model = self.model.to(DEVICE)\n",
    "        print(f\"BLIP VQA model loaded successfully on {DEVICE}!\")\n",
    "    \n",
    "    def translate_to_english(self, bangla_text: str) -> str:\n",
    "        \"\"\"Translate Bangla to English\"\"\"\n",
    "        try:\n",
    "            result = self.translator.translate(bangla_text, src='bn', dest='en')\n",
    "            return result.text\n",
    "        except:\n",
    "            return bangla_text  # Fallback to original\n",
    "    \n",
    "    def translate_to_bangla(self, english_text: str) -> str:\n",
    "        \"\"\"Translate English to Bangla\"\"\"\n",
    "        try:\n",
    "            result = self.translator.translate(english_text, src='en', dest='bn')\n",
    "            return result.text\n",
    "        except:\n",
    "            return english_text  # Fallback to original\n",
    "    \n",
    "    def generate_answer(self, question: str, context: List[str], image=None) -> str:\n",
    "        \"\"\"Generate answer using BLIP VQA\"\"\"\n",
    "        if self.model is None:\n",
    "            self.load_model()\n",
    "        \n",
    "        # For text-only questions, use context\n",
    "        if image is None:\n",
    "            # Translate question to English\n",
    "            english_question = self.translate_to_english(question)\n",
    "            \n",
    "            # Use first context as pseudo-image description\n",
    "            if context:\n",
    "                context_desc = context[0]\n",
    "                english_context = self.translate_to_english(context_desc)\n",
    "                # Create a synthetic image description for text-based QA\n",
    "                combined_input = f\"Based on the information: {english_context}. Question: {english_question}\"\n",
    "                \n",
    "                # For demonstration, return translated context-based answer\n",
    "                english_answer = f\"According to the provided information: {english_context}\"\n",
    "                bangla_answer = self.translate_to_bangla(english_answer)\n",
    "                return bangla_answer\n",
    "            else:\n",
    "                return \"পর্যাপ্ত তথ্য পাওয়া যায়নি।\"\n",
    "        \n",
    "        # For actual image-based VQA (when image is provided)\n",
    "        english_question = self.translate_to_english(question)\n",
    "        inputs = self.processor(image, english_question, return_tensors=\"pt\")\n",
    "        \n",
    "        # Move inputs to the same device as model\n",
    "        inputs = {k: v.to(DEVICE) for k, v in inputs.items()}\n",
    "        \n",
    "        with torch.no_grad():\n",
    "            outputs = self.model.generate(**inputs, max_new_tokens=50)\n",
    "        \n",
    "        english_answer = self.processor.decode(outputs[0], skip_special_tokens=True)\n",
    "        bangla_answer = self.translate_to_bangla(english_answer)\n",
    "        \n",
    "        return bangla_answer\n",
    "\n",
    "class T5QAGenerator:\n",
    "    \"\"\"T5/FLAN-T5 model for text generation\"\"\"\n",
    "    \n",
    "    def __init__(self, config: BongoRAGConfig, model_name: str):\n",
    "        self.config = config\n",
    "        self.model_name = model_name\n",
    "        self.tokenizer = None\n",
    "        self.model = None\n",
    "        \n",
    "    def load_model(self):\n",
    "        \"\"\"Load T5 model\"\"\"\n",
    "        print(f\"Loading T5 model: {self.model_name}\")\n",
    "        self.tokenizer = T5Tokenizer.from_pretrained(\n",
    "            self.model_name,\n",
    "            cache_dir=self.config.MODEL_CACHE_DIR\n",
    "        )\n",
    "        self.model = T5ForConditionalGeneration.from_pretrained(\n",
    "            self.model_name,\n",
    "            cache_dir=self.config.MODEL_CACHE_DIR\n",
    "        )\n",
    "        # Move model to GPU (MPS for Apple Silicon or CUDA)\n",
    "        self.model = self.model.to(DEVICE)\n",
    "        print(f\"T5 model loaded successfully on {DEVICE}!\")\n",
    "    \n",
    "    def create_prompt(self, question: str, context: List[str]) -> str:\n",
    "        \"\"\"Create T5 prompt\"\"\"\n",
    "        context_text = \" \".join(context[:3])  # Use top 3 contexts\n",
    "        # For English T5 models, translate\n",
    "        if \"flan-t5\" in self.model_name:\n",
    "            english_question = translator.translate(question, src='bn', dest='en').text\n",
    "            english_context = translator.translate(context_text, src='bn', dest='en').text\n",
    "            prompt = f\"Answer the question based on the context. Context: {english_context} Question: {english_question}\"\n",
    "        else:\n",
    "            # For Bangla models\n",
    "            prompt = f\"প্রসঙ্গ: {context_text} প্রশ্ন: {question}\"\n",
    "        \n",
    "        return prompt\n",
    "    \n",
    "    def generate_answer(self, question: str, context: List[str]) -> str:\n",
    "        \"\"\"Generate answer using T5\"\"\"\n",
    "        if self.model is None:\n",
    "            self.load_model()\n",
    "        \n",
    "        prompt = self.create_prompt(question, context)\n",
    "        \n",
    "        inputs = self.tokenizer(\n",
    "            prompt,\n",
    "            return_tensors=\"pt\",\n",
    "            max_length=512,\n",
    "            truncation=True,\n",
    "            padding=True\n",
    "        )\n",
    "        \n",
    "        # Move inputs to the same device as model\n",
    "        inputs = {k: v.to(DEVICE) for k, v in inputs.items()}\n",
    "        \n",
    "        with torch.no_grad():\n",
    "            outputs = self.model.generate(\n",
    "                **inputs,\n",
    "                max_new_tokens=self.config.MAX_NEW_TOKENS,\n",
    "                num_beams=self.config.NUM_BEAMS,\n",
    "                temperature=self.config.TEMPERATURE,\n",
    "                do_sample=True,\n",
    "                pad_token_id=self.tokenizer.eos_token_id\n",
    "            )\n",
    "        \n",
    "        answer = self.tokenizer.decode(outputs[0], skip_special_tokens=True)\n",
    "        \n",
    "        # Translate back to Bangla if using English model\n",
    "        if \"flan-t5\" in self.model_name:\n",
    "            try:\n",
    "                answer = translator.translate(answer, src='en', dest='bn').text\n",
    "            except:\n",
    "                pass  # Keep English if translation fails\n",
    "        \n",
    "        return answer\n",
    "\n",
    "class ModelComparator:\n",
    "    \"\"\"Framework for comparing multiple models\"\"\"\n",
    "    \n",
    "    def __init__(self, config: BongoRAGConfig):\n",
    "        self.config = config\n",
    "        self.models = {}\n",
    "        self.results = {}\n",
    "        \n",
    "    def load_all_models(self):\n",
    "        \"\"\"Load all models for comparison\"\"\"\n",
    "        print(\"Loading models for comparison...\")\n",
    "        \n",
    "        # BLIP VQA\n",
    "        self.models['blip_vqa'] = BLIPVQAGenerator(self.config)\n",
    "        \n",
    "        # T5 models\n",
    "        self.models['flan_t5_base'] = T5QAGenerator(self.config, self.config.T5_MODEL)\n",
    "        self.models['flan_t5_large'] = T5QAGenerator(self.config, self.config.T5_LARGE_MODEL)\n",
    "        self.models['bangla_t5'] = T5QAGenerator(self.config, self.config.BANGLA_GPT_MODEL)\n",
    "        \n",
    "        print(\"All models loaded for comparison!\")\n",
    "    \n",
    "    def generate_with_model(self, model_name: str, question: str, context: List[str]) -> Dict:\n",
    "        \"\"\"Generate answer with specific model and measure performance\"\"\"\n",
    "        if model_name not in self.models:\n",
    "            return {\"error\": \"Model not found\"}\n",
    "        \n",
    "        model = self.models[model_name]\n",
    "        \n",
    "        start_time = time.time()\n",
    "        try:\n",
    "            answer = model.generate_answer(question, context)\n",
    "            inference_time = time.time() - start_time\n",
    "            \n",
    "            return {\n",
    "                \"answer\": answer,\n",
    "                \"inference_time\": inference_time,\n",
    "                \"model\": model_name,\n",
    "                \"success\": True\n",
    "            }\n",
    "        except Exception as e:\n",
    "            return {\n",
    "                \"error\": str(e),\n",
    "                \"inference_time\": time.time() - start_time,\n",
    "                \"model\": model_name,\n",
    "                \"success\": False\n",
    "            }\n",
    "    \n",
    "    def compare_models(self, question: str, context: List[str]) -> Dict:\n",
    "        \"\"\"Compare all models on a single question\"\"\"\n",
    "        results = {}\n",
    "        \n",
    "        for model_name in self.config.COMPARISON_MODELS:\n",
    "            if model_name in self.models:\n",
    "                result = self.generate_with_model(model_name, question, context)\n",
    "                results[model_name] = result\n",
    "        \n",
    "        return results\n",
    "\n",
    "# Initialize model comparator\n",
    "model_comparator = ModelComparator(config)\n",
    "\n",
    "# For demonstration, load only BLIP and one T5 model initially\n",
    "print(\"Loading initial models for testing...\")\n",
    "model_comparator.models['blip_vqa'] = BLIPVQAGenerator(config)\n",
    "model_comparator.models['flan_t5_base'] = T5QAGenerator(config, config.T5_MODEL)\n",
    "\n",
    "print(\"Model comparison framework ready!\")\n"
   ]
  },
  {
   "cell_type": "code",
   "execution_count": 7,
   "metadata": {},
   "outputs": [
    {
     "name": "stdout",
     "output_type": "stream",
     "text": [
      "Testing Enhanced RAG Pipeline with Model Comparison...\n",
      "\n",
      "=== Testing Single Model (BLIP VQA) ===\n",
      "Encoding 1 texts...\n"
     ]
    },
    {
     "data": {
      "application/vnd.jupyter.widget-view+json": {
       "model_id": "fd57e1d01f72496aa717514e659170d9",
       "version_major": 2,
       "version_minor": 0
      },
      "text/plain": [
       "Batches:   0%|          | 0/1 [00:00<?, ?it/s]"
      ]
     },
     "metadata": {},
     "output_type": "display_data"
    },
    {
     "name": "stderr",
     "output_type": "stream",
     "text": [
      "Using a slow image processor as `use_fast` is unset and a slow processor was saved with this model. `use_fast=True` will be the default behavior in v4.52, even if the model was saved with a slow processor. This will result in minor differences in outputs. You'll still be able to use a slow processor with `use_fast=False`.\n"
     ]
    },
    {
     "name": "stdout",
     "output_type": "stream",
     "text": [
      "Retrieved 5 documents\n",
      "Doc 1 (score: 24.2767): মহাকর্ষীয় ধ্রুবককে G দ্বারা প্রকাশ করা হয়...\n",
      "Doc 2 (score: 25.3440): পৃথিবীর কেন্দ্রে g এর মান সবচেয়ে কম...\n",
      "Doc 3 (score: 27.0685): জি ডি মাভলঙ্কার...\n",
      "Doc 4 (score: 29.6016): মহাকর্ষ ধ্রুবক G এর একক নিমি২কেজি২...\n",
      "Doc 5 (score: 30.3755): জে বি প্রিস্টলি...\n",
      "Loading BLIP VQA model: Salesforce/blip-vqa-base\n"
     ]
    },
    {
     "data": {
      "application/vnd.jupyter.widget-view+json": {
       "model_id": "48eb84ba3b714a63a34ed9899b94605d",
       "version_major": 2,
       "version_minor": 0
      },
      "text/plain": [
       "preprocessor_config.json:   0%|          | 0.00/445 [00:00<?, ?B/s]"
      ]
     },
     "metadata": {},
     "output_type": "display_data"
    },
    {
     "data": {
      "application/vnd.jupyter.widget-view+json": {
       "model_id": "ad49a814e39448fa9288267c1b66f0d6",
       "version_major": 2,
       "version_minor": 0
      },
      "text/plain": [
       "tokenizer_config.json:   0%|          | 0.00/592 [00:00<?, ?B/s]"
      ]
     },
     "metadata": {},
     "output_type": "display_data"
    },
    {
     "data": {
      "application/vnd.jupyter.widget-view+json": {
       "model_id": "bdecbdbb31794fc6b1d4255d8d88714b",
       "version_major": 2,
       "version_minor": 0
      },
      "text/plain": [
       "vocab.txt:   0%|          | 0.00/232k [00:00<?, ?B/s]"
      ]
     },
     "metadata": {},
     "output_type": "display_data"
    },
    {
     "data": {
      "application/vnd.jupyter.widget-view+json": {
       "model_id": "ae2063f54a84421286e28b6d5c189f59",
       "version_major": 2,
       "version_minor": 0
      },
      "text/plain": [
       "tokenizer.json:   0%|          | 0.00/711k [00:00<?, ?B/s]"
      ]
     },
     "metadata": {},
     "output_type": "display_data"
    },
    {
     "data": {
      "application/vnd.jupyter.widget-view+json": {
       "model_id": "0c3a9dc8fe004013a8df2a427b45374f",
       "version_major": 2,
       "version_minor": 0
      },
      "text/plain": [
       "special_tokens_map.json:   0%|          | 0.00/125 [00:00<?, ?B/s]"
      ]
     },
     "metadata": {},
     "output_type": "display_data"
    },
    {
     "data": {
      "application/vnd.jupyter.widget-view+json": {
       "model_id": "cbbc0edb0577435d95a1957a6675ba06",
       "version_major": 2,
       "version_minor": 0
      },
      "text/plain": [
       "config.json:   0%|          | 0.00/4.56k [00:00<?, ?B/s]"
      ]
     },
     "metadata": {},
     "output_type": "display_data"
    },
    {
     "data": {
      "application/vnd.jupyter.widget-view+json": {
       "model_id": "f16584be48504b82a3c0eecb0770a953",
       "version_major": 2,
       "version_minor": 0
      },
      "text/plain": [
       "model.safetensors:   0%|          | 0.00/1.54G [00:00<?, ?B/s]"
      ]
     },
     "metadata": {},
     "output_type": "display_data"
    },
    {
     "name": "stdout",
     "output_type": "stream",
     "text": [
      "BLIP VQA model loaded successfully on mps!\n",
      "প্রশ্ন: GNI এর পূর্নরূপ কি?\n",
      "উত্তর (blip_vqa): According to the provided information: মহাকর্ষীয় ধ্রুবককে G দ্বারা প্রকাশ করা হয়\n",
      "সময়: 310.31 seconds\n",
      "\n",
      "=== Testing Model Comparison (Available Models) ===\n",
      "Encoding 1 texts...\n"
     ]
    },
    {
     "data": {
      "application/vnd.jupyter.widget-view+json": {
       "model_id": "f2648567809c4e48b8cc6fc34434b5dc",
       "version_major": 2,
       "version_minor": 0
      },
      "text/plain": [
       "Batches:   0%|          | 0/1 [00:00<?, ?it/s]"
      ]
     },
     "metadata": {},
     "output_type": "display_data"
    },
    {
     "name": "stdout",
     "output_type": "stream",
     "text": [
      "Retrieved 5 documents for comparison\n",
      "Loading T5 model: google/flan-t5-base\n"
     ]
    },
    {
     "data": {
      "application/vnd.jupyter.widget-view+json": {
       "model_id": "80c73a43ad8b4f2c8d8dd17c0c431c81",
       "version_major": 2,
       "version_minor": 0
      },
      "text/plain": [
       "tokenizer_config.json:   0%|          | 0.00/2.54k [00:00<?, ?B/s]"
      ]
     },
     "metadata": {},
     "output_type": "display_data"
    },
    {
     "name": "stderr",
     "output_type": "stream",
     "text": [
      "Xet Storage is enabled for this repo, but the 'hf_xet' package is not installed. Falling back to regular HTTP download. For better performance, install the package with: `pip install huggingface_hub[hf_xet]` or `pip install hf_xet`\n"
     ]
    },
    {
     "data": {
      "application/vnd.jupyter.widget-view+json": {
       "model_id": "903371b764944ab6883705f80f729512",
       "version_major": 2,
       "version_minor": 0
      },
      "text/plain": [
       "spiece.model:   0%|          | 0.00/792k [00:00<?, ?B/s]"
      ]
     },
     "metadata": {},
     "output_type": "display_data"
    },
    {
     "data": {
      "application/vnd.jupyter.widget-view+json": {
       "model_id": "e5e8ff3c398b4cab86d1d27c3f80fdd0",
       "version_major": 2,
       "version_minor": 0
      },
      "text/plain": [
       "special_tokens_map.json:   0%|          | 0.00/2.20k [00:00<?, ?B/s]"
      ]
     },
     "metadata": {},
     "output_type": "display_data"
    },
    {
     "data": {
      "application/vnd.jupyter.widget-view+json": {
       "model_id": "14ed09a3b48442b4b41b38e4aa92eeb4",
       "version_major": 2,
       "version_minor": 0
      },
      "text/plain": [
       "tokenizer.json:   0%|          | 0.00/2.42M [00:00<?, ?B/s]"
      ]
     },
     "metadata": {},
     "output_type": "display_data"
    },
    {
     "name": "stderr",
     "output_type": "stream",
     "text": [
      "You are using the default legacy behaviour of the <class 'transformers.models.t5.tokenization_t5.T5Tokenizer'>. This is expected, and simply means that the `legacy` (previous) behavior will be used so nothing changes for you. If you want to use the new behaviour, set `legacy=False`. This should only be set if you understand what it means, and thoroughly read the reason why this was added as explained in https://github.com/huggingface/transformers/pull/24565\n"
     ]
    },
    {
     "data": {
      "application/vnd.jupyter.widget-view+json": {
       "model_id": "0258e8b6bc2b4b3ca736e78f21efcb24",
       "version_major": 2,
       "version_minor": 0
      },
      "text/plain": [
       "config.json:   0%|          | 0.00/1.40k [00:00<?, ?B/s]"
      ]
     },
     "metadata": {},
     "output_type": "display_data"
    },
    {
     "name": "stderr",
     "output_type": "stream",
     "text": [
      "Xet Storage is enabled for this repo, but the 'hf_xet' package is not installed. Falling back to regular HTTP download. For better performance, install the package with: `pip install huggingface_hub[hf_xet]` or `pip install hf_xet`\n"
     ]
    },
    {
     "data": {
      "application/vnd.jupyter.widget-view+json": {
       "model_id": "8d3ed1447b174f47951e75c04d513659",
       "version_major": 2,
       "version_minor": 0
      },
      "text/plain": [
       "model.safetensors:   0%|          | 0.00/990M [00:00<?, ?B/s]"
      ]
     },
     "metadata": {},
     "output_type": "display_data"
    },
    {
     "data": {
      "application/vnd.jupyter.widget-view+json": {
       "model_id": "e83ea1236c6e41d3ad31cb7d5ecd509a",
       "version_major": 2,
       "version_minor": 0
      },
      "text/plain": [
       "generation_config.json:   0%|          | 0.00/147 [00:00<?, ?B/s]"
      ]
     },
     "metadata": {},
     "output_type": "display_data"
    },
    {
     "name": "stdout",
     "output_type": "stream",
     "text": [
      "T5 model loaded successfully on mps!\n",
      "প্রশ্ন: GNI এর পূর্নরূপ কি?\n",
      "মডেল তুলনা:\n",
      "  blip_vqa: According to the provided information: মহাকর্ষীয় ধ্রুবককে G দ্বারা প্রকাশ করা হয়... (0.00s)\n",
      "  flan_t5_base: Error - 'coroutine' object has no attribute 'text'\n",
      "\n",
      "Comparison Summary:\n",
      "- Total models: 2\n",
      "- Successful: 1\n",
      "- Fastest model: blip_vqa\n",
      "- Average time: 228.60s\n"
     ]
    }
   ],
   "source": [
    "# 7. Enhanced RAG Pipeline with Model Comparison\n",
    "class BongoRAGPipeline:\n",
    "    \"\"\"Enhanced RAG pipeline with multiple model support\"\"\"\n",
    "    \n",
    "    def __init__(self, retriever: BongoRAGRetriever, model_comparator: ModelComparator, config: BongoRAGConfig):\n",
    "        self.retriever = retriever\n",
    "        self.model_comparator = model_comparator\n",
    "        self.config = config\n",
    "        \n",
    "    def ask(self, question: str, model_name: str = \"blip_vqa\", top_k: int = None, verbose: bool = False) -> Dict:\n",
    "        \"\"\"Ask question using specific model\"\"\"\n",
    "        if top_k is None:\n",
    "            top_k = self.config.TOP_K_RETRIEVAL\n",
    "        \n",
    "        # Step 1: Retrieve relevant context\n",
    "        retrieved_docs = self.retriever.retrieve(question, k=top_k)\n",
    "        \n",
    "        if verbose:\n",
    "            print(f\"Retrieved {len(retrieved_docs)} documents\")\n",
    "            for i, doc in enumerate(retrieved_docs):\n",
    "                print(f\"Doc {i+1} (score: {doc['score']:.4f}): {doc['content'][:100]}...\")\n",
    "        \n",
    "        # Step 2: Extract context for generation\n",
    "        context = [doc['content'] for doc in retrieved_docs]\n",
    "        \n",
    "        # Step 3: Generate answer using specified model\n",
    "        generation_result = self.model_comparator.generate_with_model(model_name, question, context)\n",
    "        \n",
    "        # Step 4: Prepare response\n",
    "        response = {\n",
    "            'question': question,\n",
    "            'answer': generation_result.get('answer', 'Error in generation'),\n",
    "            'model_used': model_name,\n",
    "            'inference_time': generation_result.get('inference_time', 0),\n",
    "            'success': generation_result.get('success', False),\n",
    "            'retrieved_docs': retrieved_docs,\n",
    "            'context_used': context,\n",
    "            'retrieval_scores': [doc['score'] for doc in retrieved_docs]\n",
    "        }\n",
    "        \n",
    "        return response\n",
    "    \n",
    "    def ask_all_models(self, question: str, top_k: int = None, verbose: bool = False) -> Dict:\n",
    "        \"\"\"Ask question using all available models for comparison\"\"\"\n",
    "        if top_k is None:\n",
    "            top_k = self.config.TOP_K_RETRIEVAL\n",
    "        \n",
    "        # Retrieve context once\n",
    "        retrieved_docs = self.retriever.retrieve(question, k=top_k)\n",
    "        context = [doc['content'] for doc in retrieved_docs]\n",
    "        \n",
    "        if verbose:\n",
    "            print(f\"Retrieved {len(retrieved_docs)} documents for comparison\")\n",
    "        \n",
    "        # Get results from all models\n",
    "        model_results = self.model_comparator.compare_models(question, context)\n",
    "        \n",
    "        # Prepare comprehensive response\n",
    "        response = {\n",
    "            'question': question,\n",
    "            'model_results': model_results,\n",
    "            'retrieved_docs': retrieved_docs,\n",
    "            'context_used': context,\n",
    "            'retrieval_scores': [doc['score'] for doc in retrieved_docs],\n",
    "            'comparison_summary': self._create_comparison_summary(model_results)\n",
    "        }\n",
    "        \n",
    "        return response\n",
    "    \n",
    "    def _create_comparison_summary(self, model_results: Dict) -> Dict:\n",
    "        \"\"\"Create summary of model comparison\"\"\"\n",
    "        summary = {\n",
    "            'total_models': len(model_results),\n",
    "            'successful_models': len([r for r in model_results.values() if r.get('success', False)]),\n",
    "            'average_inference_time': np.mean([r.get('inference_time', 0) for r in model_results.values()]),\n",
    "            'fastest_model': min(model_results.items(), key=lambda x: x[1].get('inference_time', float('inf')))[0],\n",
    "            'models_ranked_by_speed': sorted(model_results.items(), key=lambda x: x[1].get('inference_time', float('inf')))\n",
    "        }\n",
    "        return summary\n",
    "    \n",
    "    def batch_ask(self, questions: List[str], model_name: str = \"blip_vqa\", top_k: int = None) -> List[Dict]:\n",
    "        \"\"\"Process multiple questions with single model\"\"\"\n",
    "        results = []\n",
    "        for question in tqdm(questions, desc=f\"Processing with {model_name}\"):\n",
    "            result = self.ask(question, model_name=model_name, top_k=top_k)\n",
    "            results.append(result)\n",
    "        return results\n",
    "    \n",
    "    def batch_compare_all(self, questions: List[str], top_k: int = None) -> List[Dict]:\n",
    "        \"\"\"Process multiple questions comparing all models\"\"\"\n",
    "        results = []\n",
    "        for question in tqdm(questions, desc=\"Comparing all models\"):\n",
    "            result = self.ask_all_models(question, top_k=top_k)\n",
    "            results.append(result)\n",
    "        return results\n",
    "\n",
    "# Initialize enhanced pipeline\n",
    "rag_pipeline = BongoRAGPipeline(retriever, model_comparator, config)\n",
    "\n",
    "# Test the pipeline with model comparison\n",
    "print(\"Testing Enhanced RAG Pipeline with Model Comparison...\")\n",
    "test_questions = [\n",
    "    \"GNI এর পূর্নরূপ কি?\",\n",
    "    \"বাংলাদেশ কোন সালে স্বাধীন হয়?\",\n",
    "    \"ধান উৎপাদনে শীর্ষ দেশ কোনটি?\"\n",
    "]\n",
    "\n",
    "# Test single model\n",
    "print(\"\\n=== Testing Single Model (BLIP VQA) ===\")\n",
    "sample_question = test_questions[0]\n",
    "result = rag_pipeline.ask(sample_question, model_name=\"blip_vqa\", verbose=True)\n",
    "print(f\"প্রশ্ন: {result['question']}\")\n",
    "print(f\"উত্তর ({result['model_used']}): {result['answer']}\")\n",
    "print(f\"সময়: {result['inference_time']:.2f} seconds\")\n",
    "\n",
    "# Test model comparison (when models are loaded)\n",
    "print(\"\\n=== Testing Model Comparison (Available Models) ===\")\n",
    "comparison_result = rag_pipeline.ask_all_models(sample_question, verbose=True)\n",
    "print(f\"প্রশ্ন: {comparison_result['question']}\")\n",
    "print(f\"মডেল তুলনা:\")\n",
    "for model_name, result in comparison_result['model_results'].items():\n",
    "    if result.get('success', False):\n",
    "        print(f\"  {model_name}: {result['answer'][:100]}... ({result['inference_time']:.2f}s)\")\n",
    "    else:\n",
    "        print(f\"  {model_name}: Error - {result.get('error', 'Unknown error')}\")\n",
    "\n",
    "print(f\"\\nComparison Summary:\")\n",
    "summary = comparison_result['comparison_summary']\n",
    "print(f\"- Total models: {summary['total_models']}\")\n",
    "print(f\"- Successful: {summary['successful_models']}\")\n",
    "print(f\"- Fastest model: {summary['fastest_model']}\")\n",
    "print(f\"- Average time: {summary['average_inference_time']:.2f}s\")\n"
   ]
  },
  {
   "cell_type": "code",
   "execution_count": 13,
   "metadata": {},
   "outputs": [
    {
     "name": "stdout",
     "output_type": "stream",
     "text": [
      "Running comprehensive model comparison...\n",
      "=== COMPREHENSIVE MODEL COMPARISON ===\n",
      "Evaluating on 30 samples\n",
      "Available models: ['blip_vqa', 'flan_t5_base']\n",
      "\n",
      "--- Evaluating blip_vqa ---\n",
      "Evaluating blip_vqa on 30 samples...\n"
     ]
    },
    {
     "data": {
      "application/vnd.jupyter.widget-view+json": {
       "model_id": "3aab51e4844245af8a24a62587bc0201",
       "version_major": 2,
       "version_minor": 0
      },
      "text/plain": [
       "Evaluating blip_vqa:   0%|          | 0/30 [00:00<?, ?it/s]"
      ]
     },
     "metadata": {},
     "output_type": "display_data"
    },
    {
     "name": "stdout",
     "output_type": "stream",
     "text": [
      "Encoding 1 texts...\n"
     ]
    },
    {
     "data": {
      "application/vnd.jupyter.widget-view+json": {
       "model_id": "4098525254ae4d4a9f84a2012ec9029c",
       "version_major": 2,
       "version_minor": 0
      },
      "text/plain": [
       "Batches:   0%|          | 0/1 [00:00<?, ?it/s]"
      ]
     },
     "metadata": {},
     "output_type": "display_data"
    },
    {
     "name": "stdout",
     "output_type": "stream",
     "text": [
      "Encoding 1 texts...\n"
     ]
    },
    {
     "data": {
      "application/vnd.jupyter.widget-view+json": {
       "model_id": "eef3de9fe358457cba929c85b8d085c9",
       "version_major": 2,
       "version_minor": 0
      },
      "text/plain": [
       "Batches:   0%|          | 0/1 [00:00<?, ?it/s]"
      ]
     },
     "metadata": {},
     "output_type": "display_data"
    },
    {
     "name": "stdout",
     "output_type": "stream",
     "text": [
      "Encoding 1 texts...\n"
     ]
    },
    {
     "data": {
      "application/vnd.jupyter.widget-view+json": {
       "model_id": "47ea5cae89b84de1a0c139b857cff6e4",
       "version_major": 2,
       "version_minor": 0
      },
      "text/plain": [
       "Batches:   0%|          | 0/1 [00:00<?, ?it/s]"
      ]
     },
     "metadata": {},
     "output_type": "display_data"
    },
    {
     "name": "stdout",
     "output_type": "stream",
     "text": [
      "Encoding 1 texts...\n"
     ]
    },
    {
     "data": {
      "application/vnd.jupyter.widget-view+json": {
       "model_id": "f063c348c9c4444f8d188f812557668f",
       "version_major": 2,
       "version_minor": 0
      },
      "text/plain": [
       "Batches:   0%|          | 0/1 [00:00<?, ?it/s]"
      ]
     },
     "metadata": {},
     "output_type": "display_data"
    },
    {
     "name": "stdout",
     "output_type": "stream",
     "text": [
      "Encoding 1 texts...\n"
     ]
    },
    {
     "data": {
      "application/vnd.jupyter.widget-view+json": {
       "model_id": "fa0ff8234b384841b422be77fc3c4cdb",
       "version_major": 2,
       "version_minor": 0
      },
      "text/plain": [
       "Batches:   0%|          | 0/1 [00:00<?, ?it/s]"
      ]
     },
     "metadata": {},
     "output_type": "display_data"
    },
    {
     "name": "stdout",
     "output_type": "stream",
     "text": [
      "Encoding 1 texts...\n"
     ]
    },
    {
     "data": {
      "application/vnd.jupyter.widget-view+json": {
       "model_id": "ee20e33a5a5246a5bac8b0243ba4958a",
       "version_major": 2,
       "version_minor": 0
      },
      "text/plain": [
       "Batches:   0%|          | 0/1 [00:00<?, ?it/s]"
      ]
     },
     "metadata": {},
     "output_type": "display_data"
    },
    {
     "name": "stdout",
     "output_type": "stream",
     "text": [
      "Encoding 1 texts...\n"
     ]
    },
    {
     "data": {
      "application/vnd.jupyter.widget-view+json": {
       "model_id": "275bf713dec84fd6a42789b1267df26c",
       "version_major": 2,
       "version_minor": 0
      },
      "text/plain": [
       "Batches:   0%|          | 0/1 [00:00<?, ?it/s]"
      ]
     },
     "metadata": {},
     "output_type": "display_data"
    },
    {
     "name": "stdout",
     "output_type": "stream",
     "text": [
      "Encoding 1 texts...\n"
     ]
    },
    {
     "data": {
      "application/vnd.jupyter.widget-view+json": {
       "model_id": "c4be50f73ef54219811dedff28bc5bd9",
       "version_major": 2,
       "version_minor": 0
      },
      "text/plain": [
       "Batches:   0%|          | 0/1 [00:00<?, ?it/s]"
      ]
     },
     "metadata": {},
     "output_type": "display_data"
    },
    {
     "name": "stdout",
     "output_type": "stream",
     "text": [
      "Encoding 1 texts...\n"
     ]
    },
    {
     "data": {
      "application/vnd.jupyter.widget-view+json": {
       "model_id": "60e6f99ad0fe44cc90b5053ac009d108",
       "version_major": 2,
       "version_minor": 0
      },
      "text/plain": [
       "Batches:   0%|          | 0/1 [00:00<?, ?it/s]"
      ]
     },
     "metadata": {},
     "output_type": "display_data"
    },
    {
     "name": "stdout",
     "output_type": "stream",
     "text": [
      "Encoding 1 texts...\n"
     ]
    },
    {
     "data": {
      "application/vnd.jupyter.widget-view+json": {
       "model_id": "a15915abf8db4790b84a3235a9c695c9",
       "version_major": 2,
       "version_minor": 0
      },
      "text/plain": [
       "Batches:   0%|          | 0/1 [00:00<?, ?it/s]"
      ]
     },
     "metadata": {},
     "output_type": "display_data"
    },
    {
     "name": "stdout",
     "output_type": "stream",
     "text": [
      "Encoding 1 texts...\n"
     ]
    },
    {
     "data": {
      "application/vnd.jupyter.widget-view+json": {
       "model_id": "cdb38e2828bf4ba0b83426e31c9fcd7d",
       "version_major": 2,
       "version_minor": 0
      },
      "text/plain": [
       "Batches:   0%|          | 0/1 [00:00<?, ?it/s]"
      ]
     },
     "metadata": {},
     "output_type": "display_data"
    },
    {
     "name": "stdout",
     "output_type": "stream",
     "text": [
      "Encoding 1 texts...\n"
     ]
    },
    {
     "data": {
      "application/vnd.jupyter.widget-view+json": {
       "model_id": "c893ca6e78aa419fbb6c0434a216f821",
       "version_major": 2,
       "version_minor": 0
      },
      "text/plain": [
       "Batches:   0%|          | 0/1 [00:00<?, ?it/s]"
      ]
     },
     "metadata": {},
     "output_type": "display_data"
    },
    {
     "name": "stdout",
     "output_type": "stream",
     "text": [
      "Encoding 1 texts...\n"
     ]
    },
    {
     "data": {
      "application/vnd.jupyter.widget-view+json": {
       "model_id": "dbe5e960b6cb4670966496620e36a340",
       "version_major": 2,
       "version_minor": 0
      },
      "text/plain": [
       "Batches:   0%|          | 0/1 [00:00<?, ?it/s]"
      ]
     },
     "metadata": {},
     "output_type": "display_data"
    },
    {
     "name": "stdout",
     "output_type": "stream",
     "text": [
      "Encoding 1 texts...\n"
     ]
    },
    {
     "data": {
      "application/vnd.jupyter.widget-view+json": {
       "model_id": "afd9dd31b23d48829a7f96b279f67b74",
       "version_major": 2,
       "version_minor": 0
      },
      "text/plain": [
       "Batches:   0%|          | 0/1 [00:00<?, ?it/s]"
      ]
     },
     "metadata": {},
     "output_type": "display_data"
    },
    {
     "name": "stdout",
     "output_type": "stream",
     "text": [
      "Encoding 1 texts...\n"
     ]
    },
    {
     "data": {
      "application/vnd.jupyter.widget-view+json": {
       "model_id": "6cefa3a78bc9477cbaed5f90c9ffa524",
       "version_major": 2,
       "version_minor": 0
      },
      "text/plain": [
       "Batches:   0%|          | 0/1 [00:00<?, ?it/s]"
      ]
     },
     "metadata": {},
     "output_type": "display_data"
    },
    {
     "name": "stdout",
     "output_type": "stream",
     "text": [
      "Encoding 1 texts...\n"
     ]
    },
    {
     "data": {
      "application/vnd.jupyter.widget-view+json": {
       "model_id": "02bdf88d95664e45a29ef497411cb975",
       "version_major": 2,
       "version_minor": 0
      },
      "text/plain": [
       "Batches:   0%|          | 0/1 [00:00<?, ?it/s]"
      ]
     },
     "metadata": {},
     "output_type": "display_data"
    },
    {
     "name": "stdout",
     "output_type": "stream",
     "text": [
      "Encoding 1 texts...\n"
     ]
    },
    {
     "data": {
      "application/vnd.jupyter.widget-view+json": {
       "model_id": "002c09e0ae2246528e9555c8580bf1ef",
       "version_major": 2,
       "version_minor": 0
      },
      "text/plain": [
       "Batches:   0%|          | 0/1 [00:00<?, ?it/s]"
      ]
     },
     "metadata": {},
     "output_type": "display_data"
    },
    {
     "name": "stdout",
     "output_type": "stream",
     "text": [
      "Encoding 1 texts...\n"
     ]
    },
    {
     "data": {
      "application/vnd.jupyter.widget-view+json": {
       "model_id": "ff5bbac6a725484f9858a48cf3d29177",
       "version_major": 2,
       "version_minor": 0
      },
      "text/plain": [
       "Batches:   0%|          | 0/1 [00:00<?, ?it/s]"
      ]
     },
     "metadata": {},
     "output_type": "display_data"
    },
    {
     "name": "stdout",
     "output_type": "stream",
     "text": [
      "Encoding 1 texts...\n"
     ]
    },
    {
     "data": {
      "application/vnd.jupyter.widget-view+json": {
       "model_id": "71afbe121fc14c98a6dfbe73e87b10b1",
       "version_major": 2,
       "version_minor": 0
      },
      "text/plain": [
       "Batches:   0%|          | 0/1 [00:00<?, ?it/s]"
      ]
     },
     "metadata": {},
     "output_type": "display_data"
    },
    {
     "name": "stdout",
     "output_type": "stream",
     "text": [
      "Encoding 1 texts...\n"
     ]
    },
    {
     "data": {
      "application/vnd.jupyter.widget-view+json": {
       "model_id": "e2bbb3a1e3fb49c2804b293a2c4ad4b2",
       "version_major": 2,
       "version_minor": 0
      },
      "text/plain": [
       "Batches:   0%|          | 0/1 [00:00<?, ?it/s]"
      ]
     },
     "metadata": {},
     "output_type": "display_data"
    },
    {
     "name": "stdout",
     "output_type": "stream",
     "text": [
      "Encoding 1 texts...\n"
     ]
    },
    {
     "data": {
      "application/vnd.jupyter.widget-view+json": {
       "model_id": "a8106a64cbd64d509b0a2a95daaa91fa",
       "version_major": 2,
       "version_minor": 0
      },
      "text/plain": [
       "Batches:   0%|          | 0/1 [00:00<?, ?it/s]"
      ]
     },
     "metadata": {},
     "output_type": "display_data"
    },
    {
     "name": "stdout",
     "output_type": "stream",
     "text": [
      "Encoding 1 texts...\n"
     ]
    },
    {
     "data": {
      "application/vnd.jupyter.widget-view+json": {
       "model_id": "8b24fadeb46a4ad3a65d0e97810cfa93",
       "version_major": 2,
       "version_minor": 0
      },
      "text/plain": [
       "Batches:   0%|          | 0/1 [00:00<?, ?it/s]"
      ]
     },
     "metadata": {},
     "output_type": "display_data"
    },
    {
     "name": "stdout",
     "output_type": "stream",
     "text": [
      "Encoding 1 texts...\n"
     ]
    },
    {
     "data": {
      "application/vnd.jupyter.widget-view+json": {
       "model_id": "176cc5f498f44c67aba70f4284aeccb8",
       "version_major": 2,
       "version_minor": 0
      },
      "text/plain": [
       "Batches:   0%|          | 0/1 [00:00<?, ?it/s]"
      ]
     },
     "metadata": {},
     "output_type": "display_data"
    },
    {
     "name": "stdout",
     "output_type": "stream",
     "text": [
      "Encoding 1 texts...\n"
     ]
    },
    {
     "data": {
      "application/vnd.jupyter.widget-view+json": {
       "model_id": "378ad1408d404649bb6dac7298b227be",
       "version_major": 2,
       "version_minor": 0
      },
      "text/plain": [
       "Batches:   0%|          | 0/1 [00:00<?, ?it/s]"
      ]
     },
     "metadata": {},
     "output_type": "display_data"
    },
    {
     "name": "stdout",
     "output_type": "stream",
     "text": [
      "Encoding 1 texts...\n"
     ]
    },
    {
     "data": {
      "application/vnd.jupyter.widget-view+json": {
       "model_id": "243a59abd75a4032842afe7517b8e7b0",
       "version_major": 2,
       "version_minor": 0
      },
      "text/plain": [
       "Batches:   0%|          | 0/1 [00:00<?, ?it/s]"
      ]
     },
     "metadata": {},
     "output_type": "display_data"
    },
    {
     "name": "stdout",
     "output_type": "stream",
     "text": [
      "Encoding 1 texts...\n"
     ]
    },
    {
     "data": {
      "application/vnd.jupyter.widget-view+json": {
       "model_id": "a7a5ceabf8e04f51af2759a8e74cf006",
       "version_major": 2,
       "version_minor": 0
      },
      "text/plain": [
       "Batches:   0%|          | 0/1 [00:00<?, ?it/s]"
      ]
     },
     "metadata": {},
     "output_type": "display_data"
    },
    {
     "name": "stdout",
     "output_type": "stream",
     "text": [
      "Encoding 1 texts...\n"
     ]
    },
    {
     "data": {
      "application/vnd.jupyter.widget-view+json": {
       "model_id": "200fdc35c5b44b8383d44a0a85567937",
       "version_major": 2,
       "version_minor": 0
      },
      "text/plain": [
       "Batches:   0%|          | 0/1 [00:00<?, ?it/s]"
      ]
     },
     "metadata": {},
     "output_type": "display_data"
    },
    {
     "name": "stdout",
     "output_type": "stream",
     "text": [
      "Encoding 1 texts...\n"
     ]
    },
    {
     "data": {
      "application/vnd.jupyter.widget-view+json": {
       "model_id": "18a5615bbd6c4f5aa1bd26840c984f52",
       "version_major": 2,
       "version_minor": 0
      },
      "text/plain": [
       "Batches:   0%|          | 0/1 [00:00<?, ?it/s]"
      ]
     },
     "metadata": {},
     "output_type": "display_data"
    },
    {
     "name": "stdout",
     "output_type": "stream",
     "text": [
      "Encoding 1 texts...\n"
     ]
    },
    {
     "data": {
      "application/vnd.jupyter.widget-view+json": {
       "model_id": "a9710dbad91248e085bc8a48fc0e71b8",
       "version_major": 2,
       "version_minor": 0
      },
      "text/plain": [
       "Batches:   0%|          | 0/1 [00:00<?, ?it/s]"
      ]
     },
     "metadata": {},
     "output_type": "display_data"
    },
    {
     "name": "stdout",
     "output_type": "stream",
     "text": [
      "Encoding 1 texts...\n"
     ]
    },
    {
     "data": {
      "application/vnd.jupyter.widget-view+json": {
       "model_id": "df73e967cdb04e489018adc7512e6565",
       "version_major": 2,
       "version_minor": 0
      },
      "text/plain": [
       "Batches:   0%|          | 0/1 [00:00<?, ?it/s]"
      ]
     },
     "metadata": {},
     "output_type": "display_data"
    },
    {
     "name": "stdout",
     "output_type": "stream",
     "text": [
      "Encoding 1 texts...\n"
     ]
    },
    {
     "data": {
      "application/vnd.jupyter.widget-view+json": {
       "model_id": "152ed5c3c6d14f068d947a759c1d8615",
       "version_major": 2,
       "version_minor": 0
      },
      "text/plain": [
       "Batches:   0%|          | 0/1 [00:00<?, ?it/s]"
      ]
     },
     "metadata": {},
     "output_type": "display_data"
    },
    {
     "name": "stdout",
     "output_type": "stream",
     "text": [
      "Encoding 1 texts...\n"
     ]
    },
    {
     "data": {
      "application/vnd.jupyter.widget-view+json": {
       "model_id": "414f445e440249cdb558f3f0a66fcaa2",
       "version_major": 2,
       "version_minor": 0
      },
      "text/plain": [
       "Batches:   0%|          | 0/1 [00:00<?, ?it/s]"
      ]
     },
     "metadata": {},
     "output_type": "display_data"
    },
    {
     "name": "stdout",
     "output_type": "stream",
     "text": [
      "Encoding 1 texts...\n"
     ]
    },
    {
     "data": {
      "application/vnd.jupyter.widget-view+json": {
       "model_id": "eecc354cda8e4b57b0162948a67ead96",
       "version_major": 2,
       "version_minor": 0
      },
      "text/plain": [
       "Batches:   0%|          | 0/1 [00:00<?, ?it/s]"
      ]
     },
     "metadata": {},
     "output_type": "display_data"
    },
    {
     "name": "stdout",
     "output_type": "stream",
     "text": [
      "Encoding 1 texts...\n"
     ]
    },
    {
     "data": {
      "application/vnd.jupyter.widget-view+json": {
       "model_id": "caf1fc026c34460c9322d77929f4a8ba",
       "version_major": 2,
       "version_minor": 0
      },
      "text/plain": [
       "Batches:   0%|          | 0/1 [00:00<?, ?it/s]"
      ]
     },
     "metadata": {},
     "output_type": "display_data"
    },
    {
     "name": "stdout",
     "output_type": "stream",
     "text": [
      "Encoding 1 texts...\n"
     ]
    },
    {
     "data": {
      "application/vnd.jupyter.widget-view+json": {
       "model_id": "25fdf37db64143fb8cde849cea1289b0",
       "version_major": 2,
       "version_minor": 0
      },
      "text/plain": [
       "Batches:   0%|          | 0/1 [00:00<?, ?it/s]"
      ]
     },
     "metadata": {},
     "output_type": "display_data"
    },
    {
     "name": "stdout",
     "output_type": "stream",
     "text": [
      "Encoding 1 texts...\n"
     ]
    },
    {
     "data": {
      "application/vnd.jupyter.widget-view+json": {
       "model_id": "b6f2efe6700241548eb7c72aa9904162",
       "version_major": 2,
       "version_minor": 0
      },
      "text/plain": [
       "Batches:   0%|          | 0/1 [00:00<?, ?it/s]"
      ]
     },
     "metadata": {},
     "output_type": "display_data"
    },
    {
     "name": "stdout",
     "output_type": "stream",
     "text": [
      "Encoding 1 texts...\n"
     ]
    },
    {
     "data": {
      "application/vnd.jupyter.widget-view+json": {
       "model_id": "68d939a580034584a747932248a65bb5",
       "version_major": 2,
       "version_minor": 0
      },
      "text/plain": [
       "Batches:   0%|          | 0/1 [00:00<?, ?it/s]"
      ]
     },
     "metadata": {},
     "output_type": "display_data"
    },
    {
     "name": "stdout",
     "output_type": "stream",
     "text": [
      "Encoding 1 texts...\n"
     ]
    },
    {
     "data": {
      "application/vnd.jupyter.widget-view+json": {
       "model_id": "7dc977fc673c4f28b3bf752f58e818d6",
       "version_major": 2,
       "version_minor": 0
      },
      "text/plain": [
       "Batches:   0%|          | 0/1 [00:00<?, ?it/s]"
      ]
     },
     "metadata": {},
     "output_type": "display_data"
    },
    {
     "name": "stdout",
     "output_type": "stream",
     "text": [
      "Encoding 1 texts...\n"
     ]
    },
    {
     "data": {
      "application/vnd.jupyter.widget-view+json": {
       "model_id": "d1ddb922d03a446f8ad96462e8374ed6",
       "version_major": 2,
       "version_minor": 0
      },
      "text/plain": [
       "Batches:   0%|          | 0/1 [00:00<?, ?it/s]"
      ]
     },
     "metadata": {},
     "output_type": "display_data"
    },
    {
     "name": "stdout",
     "output_type": "stream",
     "text": [
      "Encoding 1 texts...\n"
     ]
    },
    {
     "data": {
      "application/vnd.jupyter.widget-view+json": {
       "model_id": "92b02a8f566043adb919bf7c7e3920a1",
       "version_major": 2,
       "version_minor": 0
      },
      "text/plain": [
       "Batches:   0%|          | 0/1 [00:00<?, ?it/s]"
      ]
     },
     "metadata": {},
     "output_type": "display_data"
    },
    {
     "name": "stdout",
     "output_type": "stream",
     "text": [
      "Encoding 1 texts...\n"
     ]
    },
    {
     "data": {
      "application/vnd.jupyter.widget-view+json": {
       "model_id": "cd6b655db6364109b7a129fbd54dc9a7",
       "version_major": 2,
       "version_minor": 0
      },
      "text/plain": [
       "Batches:   0%|          | 0/1 [00:00<?, ?it/s]"
      ]
     },
     "metadata": {},
     "output_type": "display_data"
    },
    {
     "name": "stdout",
     "output_type": "stream",
     "text": [
      "Encoding 1 texts...\n"
     ]
    },
    {
     "data": {
      "application/vnd.jupyter.widget-view+json": {
       "model_id": "3e7e658bd1e841ddac57065340287e92",
       "version_major": 2,
       "version_minor": 0
      },
      "text/plain": [
       "Batches:   0%|          | 0/1 [00:00<?, ?it/s]"
      ]
     },
     "metadata": {},
     "output_type": "display_data"
    },
    {
     "name": "stdout",
     "output_type": "stream",
     "text": [
      "Encoding 1 texts...\n"
     ]
    },
    {
     "data": {
      "application/vnd.jupyter.widget-view+json": {
       "model_id": "c84a634ae12940c3a02a9ae6e0cec2d4",
       "version_major": 2,
       "version_minor": 0
      },
      "text/plain": [
       "Batches:   0%|          | 0/1 [00:00<?, ?it/s]"
      ]
     },
     "metadata": {},
     "output_type": "display_data"
    },
    {
     "name": "stdout",
     "output_type": "stream",
     "text": [
      "Encoding 1 texts...\n"
     ]
    },
    {
     "data": {
      "application/vnd.jupyter.widget-view+json": {
       "model_id": "693d7166b2a4494cbbf7f40a11110c4d",
       "version_major": 2,
       "version_minor": 0
      },
      "text/plain": [
       "Batches:   0%|          | 0/1 [00:00<?, ?it/s]"
      ]
     },
     "metadata": {},
     "output_type": "display_data"
    },
    {
     "name": "stdout",
     "output_type": "stream",
     "text": [
      "Encoding 1 texts...\n"
     ]
    },
    {
     "data": {
      "application/vnd.jupyter.widget-view+json": {
       "model_id": "ee31fbf4a6184ffcb820365624830d62",
       "version_major": 2,
       "version_minor": 0
      },
      "text/plain": [
       "Batches:   0%|          | 0/1 [00:00<?, ?it/s]"
      ]
     },
     "metadata": {},
     "output_type": "display_data"
    },
    {
     "name": "stdout",
     "output_type": "stream",
     "text": [
      "Encoding 1 texts...\n"
     ]
    },
    {
     "data": {
      "application/vnd.jupyter.widget-view+json": {
       "model_id": "711b8bc96bb5445086bac043a0c740bf",
       "version_major": 2,
       "version_minor": 0
      },
      "text/plain": [
       "Batches:   0%|          | 0/1 [00:00<?, ?it/s]"
      ]
     },
     "metadata": {},
     "output_type": "display_data"
    },
    {
     "name": "stdout",
     "output_type": "stream",
     "text": [
      "Encoding 1 texts...\n"
     ]
    },
    {
     "data": {
      "application/vnd.jupyter.widget-view+json": {
       "model_id": "090b02b08f8c4482a2ae605b92c7ba0a",
       "version_major": 2,
       "version_minor": 0
      },
      "text/plain": [
       "Batches:   0%|          | 0/1 [00:00<?, ?it/s]"
      ]
     },
     "metadata": {},
     "output_type": "display_data"
    },
    {
     "name": "stdout",
     "output_type": "stream",
     "text": [
      "Encoding 1 texts...\n"
     ]
    },
    {
     "data": {
      "application/vnd.jupyter.widget-view+json": {
       "model_id": "3fc5dd45d4944436bd9446b468423892",
       "version_major": 2,
       "version_minor": 0
      },
      "text/plain": [
       "Batches:   0%|          | 0/1 [00:00<?, ?it/s]"
      ]
     },
     "metadata": {},
     "output_type": "display_data"
    },
    {
     "name": "stdout",
     "output_type": "stream",
     "text": [
      "Encoding 1 texts...\n"
     ]
    },
    {
     "data": {
      "application/vnd.jupyter.widget-view+json": {
       "model_id": "7c6c00a2aa854f4095b070af77fdd97e",
       "version_major": 2,
       "version_minor": 0
      },
      "text/plain": [
       "Batches:   0%|          | 0/1 [00:00<?, ?it/s]"
      ]
     },
     "metadata": {},
     "output_type": "display_data"
    },
    {
     "name": "stdout",
     "output_type": "stream",
     "text": [
      "Encoding 1 texts...\n"
     ]
    },
    {
     "data": {
      "application/vnd.jupyter.widget-view+json": {
       "model_id": "216e213b5f98494fa4d6060133003cfa",
       "version_major": 2,
       "version_minor": 0
      },
      "text/plain": [
       "Batches:   0%|          | 0/1 [00:00<?, ?it/s]"
      ]
     },
     "metadata": {},
     "output_type": "display_data"
    },
    {
     "name": "stdout",
     "output_type": "stream",
     "text": [
      "Encoding 1 texts...\n"
     ]
    },
    {
     "data": {
      "application/vnd.jupyter.widget-view+json": {
       "model_id": "60fcd87925574825b41b3d72809a7148",
       "version_major": 2,
       "version_minor": 0
      },
      "text/plain": [
       "Batches:   0%|          | 0/1 [00:00<?, ?it/s]"
      ]
     },
     "metadata": {},
     "output_type": "display_data"
    },
    {
     "name": "stdout",
     "output_type": "stream",
     "text": [
      "Encoding 1 texts...\n"
     ]
    },
    {
     "data": {
      "application/vnd.jupyter.widget-view+json": {
       "model_id": "b56097311fb64a6d93cad1c1d80a9263",
       "version_major": 2,
       "version_minor": 0
      },
      "text/plain": [
       "Batches:   0%|          | 0/1 [00:00<?, ?it/s]"
      ]
     },
     "metadata": {},
     "output_type": "display_data"
    },
    {
     "name": "stdout",
     "output_type": "stream",
     "text": [
      "Encoding 1 texts...\n"
     ]
    },
    {
     "data": {
      "application/vnd.jupyter.widget-view+json": {
       "model_id": "92208d38a00e40529026d9ac210005fd",
       "version_major": 2,
       "version_minor": 0
      },
      "text/plain": [
       "Batches:   0%|          | 0/1 [00:00<?, ?it/s]"
      ]
     },
     "metadata": {},
     "output_type": "display_data"
    },
    {
     "name": "stdout",
     "output_type": "stream",
     "text": [
      "Encoding 1 texts...\n"
     ]
    },
    {
     "data": {
      "application/vnd.jupyter.widget-view+json": {
       "model_id": "626deec4aed8485fbd47579a938845e3",
       "version_major": 2,
       "version_minor": 0
      },
      "text/plain": [
       "Batches:   0%|          | 0/1 [00:00<?, ?it/s]"
      ]
     },
     "metadata": {},
     "output_type": "display_data"
    },
    {
     "name": "stdout",
     "output_type": "stream",
     "text": [
      "Encoding 1 texts...\n"
     ]
    },
    {
     "data": {
      "application/vnd.jupyter.widget-view+json": {
       "model_id": "be7a2ee9cc544a238d9510cb285000b6",
       "version_major": 2,
       "version_minor": 0
      },
      "text/plain": [
       "Batches:   0%|          | 0/1 [00:00<?, ?it/s]"
      ]
     },
     "metadata": {},
     "output_type": "display_data"
    },
    {
     "name": "stdout",
     "output_type": "stream",
     "text": [
      "Encoding 1 texts...\n"
     ]
    },
    {
     "data": {
      "application/vnd.jupyter.widget-view+json": {
       "model_id": "5261673fdd834293a24787608065cb95",
       "version_major": 2,
       "version_minor": 0
      },
      "text/plain": [
       "Batches:   0%|          | 0/1 [00:00<?, ?it/s]"
      ]
     },
     "metadata": {},
     "output_type": "display_data"
    },
    {
     "name": "stdout",
     "output_type": "stream",
     "text": [
      "Encoding 1 texts...\n"
     ]
    },
    {
     "data": {
      "application/vnd.jupyter.widget-view+json": {
       "model_id": "356b76d823ef41c6bbf227d759ada3fc",
       "version_major": 2,
       "version_minor": 0
      },
      "text/plain": [
       "Batches:   0%|          | 0/1 [00:00<?, ?it/s]"
      ]
     },
     "metadata": {},
     "output_type": "display_data"
    },
    {
     "name": "stdout",
     "output_type": "stream",
     "text": [
      "Encoding 1 texts...\n"
     ]
    },
    {
     "data": {
      "application/vnd.jupyter.widget-view+json": {
       "model_id": "3d2c843963c641fb8d0cd9c8df5f5ae9",
       "version_major": 2,
       "version_minor": 0
      },
      "text/plain": [
       "Batches:   0%|          | 0/1 [00:00<?, ?it/s]"
      ]
     },
     "metadata": {},
     "output_type": "display_data"
    },
    {
     "name": "stdout",
     "output_type": "stream",
     "text": [
      "Encoding 1 texts...\n"
     ]
    },
    {
     "data": {
      "application/vnd.jupyter.widget-view+json": {
       "model_id": "e658c1de0f9a4947b29d2c6a8db44082",
       "version_major": 2,
       "version_minor": 0
      },
      "text/plain": [
       "Batches:   0%|          | 0/1 [00:00<?, ?it/s]"
      ]
     },
     "metadata": {},
     "output_type": "display_data"
    },
    {
     "name": "stdout",
     "output_type": "stream",
     "text": [
      "Encoding 1 texts...\n"
     ]
    },
    {
     "data": {
      "application/vnd.jupyter.widget-view+json": {
       "model_id": "5cbfb6d05e974176b8f28f7ac9af0bfe",
       "version_major": 2,
       "version_minor": 0
      },
      "text/plain": [
       "Batches:   0%|          | 0/1 [00:00<?, ?it/s]"
      ]
     },
     "metadata": {},
     "output_type": "display_data"
    },
    {
     "name": "stdout",
     "output_type": "stream",
     "text": [
      "Encoding 1 texts...\n"
     ]
    },
    {
     "data": {
      "application/vnd.jupyter.widget-view+json": {
       "model_id": "a31bfecf3f264275ba51902030bb52f1",
       "version_major": 2,
       "version_minor": 0
      },
      "text/plain": [
       "Batches:   0%|          | 0/1 [00:00<?, ?it/s]"
      ]
     },
     "metadata": {},
     "output_type": "display_data"
    },
    {
     "name": "stdout",
     "output_type": "stream",
     "text": [
      "Encoding 1 texts...\n"
     ]
    },
    {
     "data": {
      "application/vnd.jupyter.widget-view+json": {
       "model_id": "ba5cca23da3d488f834b2b6be262d644",
       "version_major": 2,
       "version_minor": 0
      },
      "text/plain": [
       "Batches:   0%|          | 0/1 [00:00<?, ?it/s]"
      ]
     },
     "metadata": {},
     "output_type": "display_data"
    },
    {
     "name": "stdout",
     "output_type": "stream",
     "text": [
      "Encoding 1 texts...\n"
     ]
    },
    {
     "data": {
      "application/vnd.jupyter.widget-view+json": {
       "model_id": "b3919b760f48489088fe7d6b582a397b",
       "version_major": 2,
       "version_minor": 0
      },
      "text/plain": [
       "Batches:   0%|          | 0/1 [00:00<?, ?it/s]"
      ]
     },
     "metadata": {},
     "output_type": "display_data"
    },
    {
     "name": "stdout",
     "output_type": "stream",
     "text": [
      "Encoding 1 texts...\n"
     ]
    },
    {
     "data": {
      "application/vnd.jupyter.widget-view+json": {
       "model_id": "cc661f2663d04d17b957d3c64633b23d",
       "version_major": 2,
       "version_minor": 0
      },
      "text/plain": [
       "Batches:   0%|          | 0/1 [00:00<?, ?it/s]"
      ]
     },
     "metadata": {},
     "output_type": "display_data"
    },
    {
     "name": "stdout",
     "output_type": "stream",
     "text": [
      "Encoding 1 texts...\n"
     ]
    },
    {
     "data": {
      "application/vnd.jupyter.widget-view+json": {
       "model_id": "5c5381bf222248c7bf58d41d40b1fc88",
       "version_major": 2,
       "version_minor": 0
      },
      "text/plain": [
       "Batches:   0%|          | 0/1 [00:00<?, ?it/s]"
      ]
     },
     "metadata": {},
     "output_type": "display_data"
    },
    {
     "name": "stdout",
     "output_type": "stream",
     "text": [
      "Encoding 1 texts...\n"
     ]
    },
    {
     "data": {
      "application/vnd.jupyter.widget-view+json": {
       "model_id": "6ebcc0f4d96a4f6c9b46ee0ce970b377",
       "version_major": 2,
       "version_minor": 0
      },
      "text/plain": [
       "Batches:   0%|          | 0/1 [00:00<?, ?it/s]"
      ]
     },
     "metadata": {},
     "output_type": "display_data"
    },
    {
     "name": "stdout",
     "output_type": "stream",
     "text": [
      "Encoding 1 texts...\n"
     ]
    },
    {
     "data": {
      "application/vnd.jupyter.widget-view+json": {
       "model_id": "ab11e4ebada6485ebe60f0a93594ec87",
       "version_major": 2,
       "version_minor": 0
      },
      "text/plain": [
       "Batches:   0%|          | 0/1 [00:00<?, ?it/s]"
      ]
     },
     "metadata": {},
     "output_type": "display_data"
    },
    {
     "name": "stdout",
     "output_type": "stream",
     "text": [
      "Encoding 1 texts...\n"
     ]
    },
    {
     "data": {
      "application/vnd.jupyter.widget-view+json": {
       "model_id": "529ecfbd659d47ce90733771ab09a341",
       "version_major": 2,
       "version_minor": 0
      },
      "text/plain": [
       "Batches:   0%|          | 0/1 [00:00<?, ?it/s]"
      ]
     },
     "metadata": {},
     "output_type": "display_data"
    },
    {
     "name": "stdout",
     "output_type": "stream",
     "text": [
      "Encoding 1 texts...\n"
     ]
    },
    {
     "data": {
      "application/vnd.jupyter.widget-view+json": {
       "model_id": "61c47227c1de484e859d896bb8a0c286",
       "version_major": 2,
       "version_minor": 0
      },
      "text/plain": [
       "Batches:   0%|          | 0/1 [00:00<?, ?it/s]"
      ]
     },
     "metadata": {},
     "output_type": "display_data"
    },
    {
     "name": "stdout",
     "output_type": "stream",
     "text": [
      "Encoding 1 texts...\n"
     ]
    },
    {
     "data": {
      "application/vnd.jupyter.widget-view+json": {
       "model_id": "d4b93aa0120242bc8d71c115d79e0237",
       "version_major": 2,
       "version_minor": 0
      },
      "text/plain": [
       "Batches:   0%|          | 0/1 [00:00<?, ?it/s]"
      ]
     },
     "metadata": {},
     "output_type": "display_data"
    },
    {
     "name": "stdout",
     "output_type": "stream",
     "text": [
      "Encoding 1 texts...\n"
     ]
    },
    {
     "data": {
      "application/vnd.jupyter.widget-view+json": {
       "model_id": "653991b9c90043aca682647af4dbbe82",
       "version_major": 2,
       "version_minor": 0
      },
      "text/plain": [
       "Batches:   0%|          | 0/1 [00:00<?, ?it/s]"
      ]
     },
     "metadata": {},
     "output_type": "display_data"
    },
    {
     "name": "stdout",
     "output_type": "stream",
     "text": [
      "Encoding 1 texts...\n"
     ]
    },
    {
     "data": {
      "application/vnd.jupyter.widget-view+json": {
       "model_id": "f4a4c32df63e485689ac54160387947d",
       "version_major": 2,
       "version_minor": 0
      },
      "text/plain": [
       "Batches:   0%|          | 0/1 [00:00<?, ?it/s]"
      ]
     },
     "metadata": {},
     "output_type": "display_data"
    },
    {
     "name": "stdout",
     "output_type": "stream",
     "text": [
      "Encoding 1 texts...\n"
     ]
    },
    {
     "data": {
      "application/vnd.jupyter.widget-view+json": {
       "model_id": "250c1ce255a5425e98e29a8fe12a5ff5",
       "version_major": 2,
       "version_minor": 0
      },
      "text/plain": [
       "Batches:   0%|          | 0/1 [00:00<?, ?it/s]"
      ]
     },
     "metadata": {},
     "output_type": "display_data"
    },
    {
     "name": "stdout",
     "output_type": "stream",
     "text": [
      "Encoding 1 texts...\n"
     ]
    },
    {
     "data": {
      "application/vnd.jupyter.widget-view+json": {
       "model_id": "5a85a1ff7a054ed0a6fbbf84bd28fe56",
       "version_major": 2,
       "version_minor": 0
      },
      "text/plain": [
       "Batches:   0%|          | 0/1 [00:00<?, ?it/s]"
      ]
     },
     "metadata": {},
     "output_type": "display_data"
    },
    {
     "name": "stdout",
     "output_type": "stream",
     "text": [
      "Encoding 1 texts...\n"
     ]
    },
    {
     "data": {
      "application/vnd.jupyter.widget-view+json": {
       "model_id": "4571fecb49ef477fbf8c4546f9a2ec23",
       "version_major": 2,
       "version_minor": 0
      },
      "text/plain": [
       "Batches:   0%|          | 0/1 [00:00<?, ?it/s]"
      ]
     },
     "metadata": {},
     "output_type": "display_data"
    },
    {
     "name": "stdout",
     "output_type": "stream",
     "text": [
      "Encoding 1 texts...\n"
     ]
    },
    {
     "data": {
      "application/vnd.jupyter.widget-view+json": {
       "model_id": "af94f3b972f54c069a7b07326191355f",
       "version_major": 2,
       "version_minor": 0
      },
      "text/plain": [
       "Batches:   0%|          | 0/1 [00:00<?, ?it/s]"
      ]
     },
     "metadata": {},
     "output_type": "display_data"
    },
    {
     "name": "stdout",
     "output_type": "stream",
     "text": [
      "Encoding 1 texts...\n"
     ]
    },
    {
     "data": {
      "application/vnd.jupyter.widget-view+json": {
       "model_id": "76d35b8e33f5420dab23cc449551648e",
       "version_major": 2,
       "version_minor": 0
      },
      "text/plain": [
       "Batches:   0%|          | 0/1 [00:00<?, ?it/s]"
      ]
     },
     "metadata": {},
     "output_type": "display_data"
    },
    {
     "name": "stdout",
     "output_type": "stream",
     "text": [
      "Encoding 1 texts...\n"
     ]
    },
    {
     "data": {
      "application/vnd.jupyter.widget-view+json": {
       "model_id": "8e68a1b43a0d44fd8bf9e18d65ac060f",
       "version_major": 2,
       "version_minor": 0
      },
      "text/plain": [
       "Batches:   0%|          | 0/1 [00:00<?, ?it/s]"
      ]
     },
     "metadata": {},
     "output_type": "display_data"
    },
    {
     "name": "stdout",
     "output_type": "stream",
     "text": [
      "Encoding 1 texts...\n"
     ]
    },
    {
     "data": {
      "application/vnd.jupyter.widget-view+json": {
       "model_id": "4ec1c5877d8d43a3b75a546a3be18995",
       "version_major": 2,
       "version_minor": 0
      },
      "text/plain": [
       "Batches:   0%|          | 0/1 [00:00<?, ?it/s]"
      ]
     },
     "metadata": {},
     "output_type": "display_data"
    },
    {
     "name": "stdout",
     "output_type": "stream",
     "text": [
      "Encoding 1 texts...\n"
     ]
    },
    {
     "data": {
      "application/vnd.jupyter.widget-view+json": {
       "model_id": "7d93e37387aa4827b835ff5bc0a802d9",
       "version_major": 2,
       "version_minor": 0
      },
      "text/plain": [
       "Batches:   0%|          | 0/1 [00:00<?, ?it/s]"
      ]
     },
     "metadata": {},
     "output_type": "display_data"
    },
    {
     "name": "stdout",
     "output_type": "stream",
     "text": [
      "Encoding 1 texts...\n"
     ]
    },
    {
     "data": {
      "application/vnd.jupyter.widget-view+json": {
       "model_id": "0c27012fc53b45858a939274eda2f9a0",
       "version_major": 2,
       "version_minor": 0
      },
      "text/plain": [
       "Batches:   0%|          | 0/1 [00:00<?, ?it/s]"
      ]
     },
     "metadata": {},
     "output_type": "display_data"
    },
    {
     "name": "stdout",
     "output_type": "stream",
     "text": [
      "Encoding 1 texts...\n"
     ]
    },
    {
     "data": {
      "application/vnd.jupyter.widget-view+json": {
       "model_id": "96fcc34ecfde41e99655c8c4790c9d87",
       "version_major": 2,
       "version_minor": 0
      },
      "text/plain": [
       "Batches:   0%|          | 0/1 [00:00<?, ?it/s]"
      ]
     },
     "metadata": {},
     "output_type": "display_data"
    },
    {
     "name": "stdout",
     "output_type": "stream",
     "text": [
      "Encoding 1 texts...\n"
     ]
    },
    {
     "data": {
      "application/vnd.jupyter.widget-view+json": {
       "model_id": "4b47e616eeea449a83ad7620a5295bcd",
       "version_major": 2,
       "version_minor": 0
      },
      "text/plain": [
       "Batches:   0%|          | 0/1 [00:00<?, ?it/s]"
      ]
     },
     "metadata": {},
     "output_type": "display_data"
    },
    {
     "name": "stdout",
     "output_type": "stream",
     "text": [
      "Encoding 1 texts...\n"
     ]
    },
    {
     "data": {
      "application/vnd.jupyter.widget-view+json": {
       "model_id": "1ca4c83715e74721a0377b10af73f74e",
       "version_major": 2,
       "version_minor": 0
      },
      "text/plain": [
       "Batches:   0%|          | 0/1 [00:00<?, ?it/s]"
      ]
     },
     "metadata": {},
     "output_type": "display_data"
    },
    {
     "name": "stdout",
     "output_type": "stream",
     "text": [
      "Encoding 1 texts...\n"
     ]
    },
    {
     "data": {
      "application/vnd.jupyter.widget-view+json": {
       "model_id": "af6fd6f328d840909f0595e88f1d41c4",
       "version_major": 2,
       "version_minor": 0
      },
      "text/plain": [
       "Batches:   0%|          | 0/1 [00:00<?, ?it/s]"
      ]
     },
     "metadata": {},
     "output_type": "display_data"
    },
    {
     "name": "stdout",
     "output_type": "stream",
     "text": [
      "Encoding 1 texts...\n"
     ]
    },
    {
     "data": {
      "application/vnd.jupyter.widget-view+json": {
       "model_id": "471afb538c8a44c998cf137c5aaeadd2",
       "version_major": 2,
       "version_minor": 0
      },
      "text/plain": [
       "Batches:   0%|          | 0/1 [00:00<?, ?it/s]"
      ]
     },
     "metadata": {},
     "output_type": "display_data"
    },
    {
     "name": "stdout",
     "output_type": "stream",
     "text": [
      "Encoding 1 texts...\n"
     ]
    },
    {
     "data": {
      "application/vnd.jupyter.widget-view+json": {
       "model_id": "8aeb24a959fd44068afbd8882d932f31",
       "version_major": 2,
       "version_minor": 0
      },
      "text/plain": [
       "Batches:   0%|          | 0/1 [00:00<?, ?it/s]"
      ]
     },
     "metadata": {},
     "output_type": "display_data"
    },
    {
     "name": "stdout",
     "output_type": "stream",
     "text": [
      "Encoding 1 texts...\n"
     ]
    },
    {
     "data": {
      "application/vnd.jupyter.widget-view+json": {
       "model_id": "aa447e16bd624ad386ae405c53184e78",
       "version_major": 2,
       "version_minor": 0
      },
      "text/plain": [
       "Batches:   0%|          | 0/1 [00:00<?, ?it/s]"
      ]
     },
     "metadata": {},
     "output_type": "display_data"
    },
    {
     "name": "stdout",
     "output_type": "stream",
     "text": [
      "Encoding 1 texts...\n"
     ]
    },
    {
     "data": {
      "application/vnd.jupyter.widget-view+json": {
       "model_id": "43dde4bc16c942d5926f437a6c99a2b3",
       "version_major": 2,
       "version_minor": 0
      },
      "text/plain": [
       "Batches:   0%|          | 0/1 [00:00<?, ?it/s]"
      ]
     },
     "metadata": {},
     "output_type": "display_data"
    },
    {
     "name": "stdout",
     "output_type": "stream",
     "text": [
      "Encoding 1 texts...\n"
     ]
    },
    {
     "data": {
      "application/vnd.jupyter.widget-view+json": {
       "model_id": "8b19c7649cc94a33a30369129e29e69e",
       "version_major": 2,
       "version_minor": 0
      },
      "text/plain": [
       "Batches:   0%|          | 0/1 [00:00<?, ?it/s]"
      ]
     },
     "metadata": {},
     "output_type": "display_data"
    },
    {
     "name": "stdout",
     "output_type": "stream",
     "text": [
      "\n",
      "--- Evaluating flan_t5_base ---\n",
      "Evaluating flan_t5_base on 30 samples...\n"
     ]
    },
    {
     "data": {
      "application/vnd.jupyter.widget-view+json": {
       "model_id": "68ecac2564074c8f816671dd9b586372",
       "version_major": 2,
       "version_minor": 0
      },
      "text/plain": [
       "Evaluating flan_t5_base:   0%|          | 0/30 [00:00<?, ?it/s]"
      ]
     },
     "metadata": {},
     "output_type": "display_data"
    },
    {
     "name": "stdout",
     "output_type": "stream",
     "text": [
      "Encoding 1 texts...\n"
     ]
    },
    {
     "data": {
      "application/vnd.jupyter.widget-view+json": {
       "model_id": "a45b28acecc24cb0a05ead7fbce4bc93",
       "version_major": 2,
       "version_minor": 0
      },
      "text/plain": [
       "Batches:   0%|          | 0/1 [00:00<?, ?it/s]"
      ]
     },
     "metadata": {},
     "output_type": "display_data"
    },
    {
     "name": "stdout",
     "output_type": "stream",
     "text": [
      "Encoding 1 texts...\n"
     ]
    },
    {
     "data": {
      "application/vnd.jupyter.widget-view+json": {
       "model_id": "68b20bec52d64e79b6da0980ce48d835",
       "version_major": 2,
       "version_minor": 0
      },
      "text/plain": [
       "Batches:   0%|          | 0/1 [00:00<?, ?it/s]"
      ]
     },
     "metadata": {},
     "output_type": "display_data"
    },
    {
     "name": "stdout",
     "output_type": "stream",
     "text": [
      "Encoding 1 texts...\n"
     ]
    },
    {
     "data": {
      "application/vnd.jupyter.widget-view+json": {
       "model_id": "130f9d6d9d1143c985ef79eb657c2293",
       "version_major": 2,
       "version_minor": 0
      },
      "text/plain": [
       "Batches:   0%|          | 0/1 [00:00<?, ?it/s]"
      ]
     },
     "metadata": {},
     "output_type": "display_data"
    },
    {
     "name": "stdout",
     "output_type": "stream",
     "text": [
      "Encoding 1 texts...\n"
     ]
    },
    {
     "data": {
      "application/vnd.jupyter.widget-view+json": {
       "model_id": "8ad89292b42445c0bcdf3f23283f64f4",
       "version_major": 2,
       "version_minor": 0
      },
      "text/plain": [
       "Batches:   0%|          | 0/1 [00:00<?, ?it/s]"
      ]
     },
     "metadata": {},
     "output_type": "display_data"
    },
    {
     "name": "stdout",
     "output_type": "stream",
     "text": [
      "Encoding 1 texts...\n"
     ]
    },
    {
     "data": {
      "application/vnd.jupyter.widget-view+json": {
       "model_id": "a8cd483248444047902f42448d1a6b5c",
       "version_major": 2,
       "version_minor": 0
      },
      "text/plain": [
       "Batches:   0%|          | 0/1 [00:00<?, ?it/s]"
      ]
     },
     "metadata": {},
     "output_type": "display_data"
    },
    {
     "name": "stdout",
     "output_type": "stream",
     "text": [
      "Encoding 1 texts...\n"
     ]
    },
    {
     "data": {
      "application/vnd.jupyter.widget-view+json": {
       "model_id": "02057c384a7942ce9d5bc103cc1f05cb",
       "version_major": 2,
       "version_minor": 0
      },
      "text/plain": [
       "Batches:   0%|          | 0/1 [00:00<?, ?it/s]"
      ]
     },
     "metadata": {},
     "output_type": "display_data"
    },
    {
     "name": "stdout",
     "output_type": "stream",
     "text": [
      "Encoding 1 texts...\n"
     ]
    },
    {
     "data": {
      "application/vnd.jupyter.widget-view+json": {
       "model_id": "a79ba7f89bcc44b9941a75eecc9c0947",
       "version_major": 2,
       "version_minor": 0
      },
      "text/plain": [
       "Batches:   0%|          | 0/1 [00:00<?, ?it/s]"
      ]
     },
     "metadata": {},
     "output_type": "display_data"
    },
    {
     "name": "stdout",
     "output_type": "stream",
     "text": [
      "Encoding 1 texts...\n"
     ]
    },
    {
     "data": {
      "application/vnd.jupyter.widget-view+json": {
       "model_id": "993eaf9c4af74f40bfac67ad24bb8da3",
       "version_major": 2,
       "version_minor": 0
      },
      "text/plain": [
       "Batches:   0%|          | 0/1 [00:00<?, ?it/s]"
      ]
     },
     "metadata": {},
     "output_type": "display_data"
    },
    {
     "name": "stdout",
     "output_type": "stream",
     "text": [
      "Encoding 1 texts...\n"
     ]
    },
    {
     "data": {
      "application/vnd.jupyter.widget-view+json": {
       "model_id": "56cb468e78a14359aea471f208abfa07",
       "version_major": 2,
       "version_minor": 0
      },
      "text/plain": [
       "Batches:   0%|          | 0/1 [00:00<?, ?it/s]"
      ]
     },
     "metadata": {},
     "output_type": "display_data"
    },
    {
     "name": "stdout",
     "output_type": "stream",
     "text": [
      "Encoding 1 texts...\n"
     ]
    },
    {
     "data": {
      "application/vnd.jupyter.widget-view+json": {
       "model_id": "fb36f2f2412c4e298ff70795a9c29a43",
       "version_major": 2,
       "version_minor": 0
      },
      "text/plain": [
       "Batches:   0%|          | 0/1 [00:00<?, ?it/s]"
      ]
     },
     "metadata": {},
     "output_type": "display_data"
    },
    {
     "name": "stdout",
     "output_type": "stream",
     "text": [
      "Encoding 1 texts...\n"
     ]
    },
    {
     "data": {
      "application/vnd.jupyter.widget-view+json": {
       "model_id": "8a89ed892f36447a80a5f9ea121e3ae3",
       "version_major": 2,
       "version_minor": 0
      },
      "text/plain": [
       "Batches:   0%|          | 0/1 [00:00<?, ?it/s]"
      ]
     },
     "metadata": {},
     "output_type": "display_data"
    },
    {
     "name": "stdout",
     "output_type": "stream",
     "text": [
      "Encoding 1 texts...\n"
     ]
    },
    {
     "data": {
      "application/vnd.jupyter.widget-view+json": {
       "model_id": "df28ba4ea4874ab69476ca55563ecad6",
       "version_major": 2,
       "version_minor": 0
      },
      "text/plain": [
       "Batches:   0%|          | 0/1 [00:00<?, ?it/s]"
      ]
     },
     "metadata": {},
     "output_type": "display_data"
    },
    {
     "name": "stdout",
     "output_type": "stream",
     "text": [
      "Encoding 1 texts...\n"
     ]
    },
    {
     "data": {
      "application/vnd.jupyter.widget-view+json": {
       "model_id": "5cd3d7ffb00d4fa5884c0585e1ea3799",
       "version_major": 2,
       "version_minor": 0
      },
      "text/plain": [
       "Batches:   0%|          | 0/1 [00:00<?, ?it/s]"
      ]
     },
     "metadata": {},
     "output_type": "display_data"
    },
    {
     "name": "stdout",
     "output_type": "stream",
     "text": [
      "Encoding 1 texts...\n"
     ]
    },
    {
     "data": {
      "application/vnd.jupyter.widget-view+json": {
       "model_id": "a7f74e1cd61a4224bb358cd0d887df8e",
       "version_major": 2,
       "version_minor": 0
      },
      "text/plain": [
       "Batches:   0%|          | 0/1 [00:00<?, ?it/s]"
      ]
     },
     "metadata": {},
     "output_type": "display_data"
    },
    {
     "name": "stdout",
     "output_type": "stream",
     "text": [
      "Encoding 1 texts...\n"
     ]
    },
    {
     "data": {
      "application/vnd.jupyter.widget-view+json": {
       "model_id": "fc0ca583ef7e4454ac1c680724483c2b",
       "version_major": 2,
       "version_minor": 0
      },
      "text/plain": [
       "Batches:   0%|          | 0/1 [00:00<?, ?it/s]"
      ]
     },
     "metadata": {},
     "output_type": "display_data"
    },
    {
     "name": "stdout",
     "output_type": "stream",
     "text": [
      "Encoding 1 texts...\n"
     ]
    },
    {
     "data": {
      "application/vnd.jupyter.widget-view+json": {
       "model_id": "b61be0fefc154894a882c4d748671b92",
       "version_major": 2,
       "version_minor": 0
      },
      "text/plain": [
       "Batches:   0%|          | 0/1 [00:00<?, ?it/s]"
      ]
     },
     "metadata": {},
     "output_type": "display_data"
    },
    {
     "name": "stdout",
     "output_type": "stream",
     "text": [
      "Encoding 1 texts...\n"
     ]
    },
    {
     "data": {
      "application/vnd.jupyter.widget-view+json": {
       "model_id": "9c71b51116c544578253439f47bdf1c4",
       "version_major": 2,
       "version_minor": 0
      },
      "text/plain": [
       "Batches:   0%|          | 0/1 [00:00<?, ?it/s]"
      ]
     },
     "metadata": {},
     "output_type": "display_data"
    },
    {
     "name": "stdout",
     "output_type": "stream",
     "text": [
      "Encoding 1 texts...\n"
     ]
    },
    {
     "data": {
      "application/vnd.jupyter.widget-view+json": {
       "model_id": "fd735388f93b49fca4e81cd753984047",
       "version_major": 2,
       "version_minor": 0
      },
      "text/plain": [
       "Batches:   0%|          | 0/1 [00:00<?, ?it/s]"
      ]
     },
     "metadata": {},
     "output_type": "display_data"
    },
    {
     "name": "stdout",
     "output_type": "stream",
     "text": [
      "Encoding 1 texts...\n"
     ]
    },
    {
     "data": {
      "application/vnd.jupyter.widget-view+json": {
       "model_id": "8f785b7e6da94ed99fba74b2a58efddb",
       "version_major": 2,
       "version_minor": 0
      },
      "text/plain": [
       "Batches:   0%|          | 0/1 [00:00<?, ?it/s]"
      ]
     },
     "metadata": {},
     "output_type": "display_data"
    },
    {
     "name": "stdout",
     "output_type": "stream",
     "text": [
      "Encoding 1 texts...\n"
     ]
    },
    {
     "data": {
      "application/vnd.jupyter.widget-view+json": {
       "model_id": "8c4370002e0e4acc9772a8010ecc012c",
       "version_major": 2,
       "version_minor": 0
      },
      "text/plain": [
       "Batches:   0%|          | 0/1 [00:00<?, ?it/s]"
      ]
     },
     "metadata": {},
     "output_type": "display_data"
    },
    {
     "name": "stdout",
     "output_type": "stream",
     "text": [
      "Encoding 1 texts...\n"
     ]
    },
    {
     "data": {
      "application/vnd.jupyter.widget-view+json": {
       "model_id": "042d3d68a24048fe82f46b4f9fc7fe5b",
       "version_major": 2,
       "version_minor": 0
      },
      "text/plain": [
       "Batches:   0%|          | 0/1 [00:00<?, ?it/s]"
      ]
     },
     "metadata": {},
     "output_type": "display_data"
    },
    {
     "name": "stdout",
     "output_type": "stream",
     "text": [
      "Encoding 1 texts...\n"
     ]
    },
    {
     "data": {
      "application/vnd.jupyter.widget-view+json": {
       "model_id": "bbe8ad3ff9f64bb7bf65f85a6a1d0be6",
       "version_major": 2,
       "version_minor": 0
      },
      "text/plain": [
       "Batches:   0%|          | 0/1 [00:00<?, ?it/s]"
      ]
     },
     "metadata": {},
     "output_type": "display_data"
    },
    {
     "name": "stdout",
     "output_type": "stream",
     "text": [
      "Encoding 1 texts...\n"
     ]
    },
    {
     "data": {
      "application/vnd.jupyter.widget-view+json": {
       "model_id": "0f148df378194d77974706fdc973df8e",
       "version_major": 2,
       "version_minor": 0
      },
      "text/plain": [
       "Batches:   0%|          | 0/1 [00:00<?, ?it/s]"
      ]
     },
     "metadata": {},
     "output_type": "display_data"
    },
    {
     "name": "stdout",
     "output_type": "stream",
     "text": [
      "Encoding 1 texts...\n"
     ]
    },
    {
     "data": {
      "application/vnd.jupyter.widget-view+json": {
       "model_id": "a2dd0eb2e0054af48a5f303c81007749",
       "version_major": 2,
       "version_minor": 0
      },
      "text/plain": [
       "Batches:   0%|          | 0/1 [00:00<?, ?it/s]"
      ]
     },
     "metadata": {},
     "output_type": "display_data"
    },
    {
     "name": "stdout",
     "output_type": "stream",
     "text": [
      "Encoding 1 texts...\n"
     ]
    },
    {
     "data": {
      "application/vnd.jupyter.widget-view+json": {
       "model_id": "1e69c229f76748229e617757a07bf046",
       "version_major": 2,
       "version_minor": 0
      },
      "text/plain": [
       "Batches:   0%|          | 0/1 [00:00<?, ?it/s]"
      ]
     },
     "metadata": {},
     "output_type": "display_data"
    },
    {
     "name": "stdout",
     "output_type": "stream",
     "text": [
      "Encoding 1 texts...\n"
     ]
    },
    {
     "data": {
      "application/vnd.jupyter.widget-view+json": {
       "model_id": "78a1d2c119ff418b99c02f8eafb6edae",
       "version_major": 2,
       "version_minor": 0
      },
      "text/plain": [
       "Batches:   0%|          | 0/1 [00:00<?, ?it/s]"
      ]
     },
     "metadata": {},
     "output_type": "display_data"
    },
    {
     "name": "stdout",
     "output_type": "stream",
     "text": [
      "Encoding 1 texts...\n"
     ]
    },
    {
     "data": {
      "application/vnd.jupyter.widget-view+json": {
       "model_id": "9ae0f276fc1a4af5838307f0462a9e26",
       "version_major": 2,
       "version_minor": 0
      },
      "text/plain": [
       "Batches:   0%|          | 0/1 [00:00<?, ?it/s]"
      ]
     },
     "metadata": {},
     "output_type": "display_data"
    },
    {
     "name": "stdout",
     "output_type": "stream",
     "text": [
      "Encoding 1 texts...\n"
     ]
    },
    {
     "data": {
      "application/vnd.jupyter.widget-view+json": {
       "model_id": "ff62c0a883934698b3f4bcf3cea7a838",
       "version_major": 2,
       "version_minor": 0
      },
      "text/plain": [
       "Batches:   0%|          | 0/1 [00:00<?, ?it/s]"
      ]
     },
     "metadata": {},
     "output_type": "display_data"
    },
    {
     "name": "stdout",
     "output_type": "stream",
     "text": [
      "Encoding 1 texts...\n"
     ]
    },
    {
     "data": {
      "application/vnd.jupyter.widget-view+json": {
       "model_id": "ba4dff5f5ab04b1594c3b4b5e2cbfd24",
       "version_major": 2,
       "version_minor": 0
      },
      "text/plain": [
       "Batches:   0%|          | 0/1 [00:00<?, ?it/s]"
      ]
     },
     "metadata": {},
     "output_type": "display_data"
    },
    {
     "name": "stdout",
     "output_type": "stream",
     "text": [
      "Encoding 1 texts...\n"
     ]
    },
    {
     "data": {
      "application/vnd.jupyter.widget-view+json": {
       "model_id": "0cc271b6305145029e3e777760a8e6a3",
       "version_major": 2,
       "version_minor": 0
      },
      "text/plain": [
       "Batches:   0%|          | 0/1 [00:00<?, ?it/s]"
      ]
     },
     "metadata": {},
     "output_type": "display_data"
    },
    {
     "name": "stdout",
     "output_type": "stream",
     "text": [
      "\n",
      "================================================================================\n",
      "BONGO RAG COMPREHENSIVE MODEL COMPARISON REPORT\n",
      "================================================================================\n",
      "\n",
      "Models Compared: 2\n",
      "Models: blip_vqa, flan_t5_base\n",
      "\n",
      "🏆 OVERALL RANKINGS:\n",
      "  1. blip_vqa: 0.3427\n",
      "  2. flan_t5_base: 0.0138\n",
      "\n",
      "📊 BEST PERFORMERS BY METRIC:\n",
      "  F1 Score: blip_vqa (0.2539)\n",
      "  Rouge1: blip_vqa (0.0154)\n",
      "  Bleu: blip_vqa (0.1376)\n",
      "  Semantic Similarity: blip_vqa (0.6985)\n",
      "  Success Rate: blip_vqa (1.0000)\n",
      "  Inference Times: flan_t5_base (0.0000)\n",
      "\n",
      "📈 DETAILED RESULTS:\n",
      "\n",
      "--- BLIP_VQA ---\n",
      "  Success Rate:     1.0000 ± 0.0000\n",
      "  F1 Score:         0.2539 ± 0.3130\n",
      "  ROUGE-1:          0.0154 ± 0.0828\n",
      "  BLEU:             0.1376 ± 0.1999\n",
      "  Semantic Sim:     0.6985 ± 0.2229\n",
      "  Inference Time:   0.0000s ± 0.0000s\n",
      "  Answer Length:    11.1 ± 2.5 words\n",
      "\n",
      "--- FLAN_T5_BASE ---\n",
      "  Success Rate:     0.0000 ± 0.0000\n",
      "  F1 Score:         0.0000 ± 0.0000\n",
      "  ROUGE-1:          0.0000 ± 0.0000\n",
      "  BLEU:             0.0000 ± 0.0000\n",
      "  Semantic Sim:     0.0000 ± 0.0000\n",
      "  Inference Time:   0.0000s ± 0.0000s\n",
      "  Answer Length:    0.0 ± 0.0 words\n",
      "================================================================================\n",
      "\n",
      "💡 RECOMMENDATIONS FOR THESIS:\n",
      "  1. Primary Model: blip_vqa (highest overall score)\n",
      "  2. Most Accurate: blip_vqa (for precision-critical tasks)\n",
      "  3. Fastest Model: flan_t5_base (for real-time applications)\n",
      "  4. Consider ensemble methods combining blip_vqa and blip_vqa\n",
      "  5. For thesis, focus on the trade-offs between accuracy and speed\n",
      "\n",
      "Results saved to: ./results/model_comparison_results.json\n"
     ]
    }
   ],
   "source": [
    "# 8. Comprehensive Model Comparison Evaluation Framework\n",
    "class BongoRAGEvaluator:\n",
    "    \"\"\"Enhanced evaluation framework for model comparison\"\"\"\n",
    "    \n",
    "    def __init__(self, config: BongoRAGConfig):\n",
    "        self.config = config\n",
    "        self.rouge_scorer = rouge_scorer.RougeScorer(['rouge1', 'rouge2', 'rougeL'], use_stemmer=False)\n",
    "        \n",
    "    def exact_match(self, prediction: str, reference: str) -> float:\n",
    "        \"\"\"Calculate exact match score\"\"\"\n",
    "        return float(prediction.strip().lower() == reference.strip().lower())\n",
    "    \n",
    "    def f1_score(self, prediction: str, reference: str) -> float:\n",
    "        \"\"\"Calculate F1 score at token level\"\"\"\n",
    "        pred_tokens = set(prediction.strip().lower().split())\n",
    "        ref_tokens = set(reference.strip().lower().split())\n",
    "        \n",
    "        if len(ref_tokens) == 0:\n",
    "            return 0.0\n",
    "        \n",
    "        common = pred_tokens & ref_tokens\n",
    "        if len(common) == 0:\n",
    "            return 0.0\n",
    "        \n",
    "        precision = len(common) / len(pred_tokens) if len(pred_tokens) > 0 else 0.0\n",
    "        recall = len(common) / len(ref_tokens)\n",
    "        \n",
    "        if precision + recall == 0:\n",
    "            return 0.0\n",
    "        \n",
    "        return 2 * (precision * recall) / (precision + recall)\n",
    "    \n",
    "    def rouge_scores(self, prediction: str, reference: str) -> Dict[str, float]:\n",
    "        \"\"\"Calculate ROUGE scores\"\"\"\n",
    "        scores = self.rouge_scorer.score(reference, prediction)\n",
    "        return {\n",
    "            'rouge1': scores['rouge1'].fmeasure,\n",
    "            'rouge2': scores['rouge2'].fmeasure,\n",
    "            'rougeL': scores['rougeL'].fmeasure\n",
    "        }\n",
    "    \n",
    "    def bleu_score(self, prediction: str, reference: str) -> float:\n",
    "        \"\"\"Calculate BLEU score\"\"\"\n",
    "        try:\n",
    "            bleu = sacrebleu.sentence_bleu(prediction, [reference])\n",
    "            return bleu.score / 100.0  # Convert to 0-1 range\n",
    "        except:\n",
    "            return 0.0\n",
    "    \n",
    "    def semantic_similarity(self, prediction: str, reference: str, embedding_manager) -> float:\n",
    "        \"\"\"Calculate semantic similarity using embeddings\"\"\"\n",
    "        try:\n",
    "            pred_embedding = embedding_manager.encode_texts([prediction])\n",
    "            ref_embedding = embedding_manager.encode_texts([reference])\n",
    "            similarity = cosine_similarity(pred_embedding, ref_embedding)[0][0]\n",
    "            return float(similarity)\n",
    "        except:\n",
    "            return 0.0\n",
    "    \n",
    "    def evaluate_single_model(self, pipeline: BongoRAGPipeline, test_data: pd.DataFrame, \n",
    "                            model_name: str, sample_size: int = 50) -> Dict[str, float]:\n",
    "        \"\"\"Evaluate a single model thoroughly\"\"\"\n",
    "        \n",
    "        if len(test_data) > sample_size:\n",
    "            test_data = test_data.sample(n=sample_size, random_state=42)\n",
    "        \n",
    "        results = {\n",
    "            'exact_match': [],\n",
    "            'f1_score': [],\n",
    "            'rouge1': [],\n",
    "            'rouge2': [],\n",
    "            'rougeL': [],\n",
    "            'bleu': [],\n",
    "            'semantic_similarity': [],\n",
    "            'inference_times': [],\n",
    "            'success_rate': [],\n",
    "            'answer_lengths': []\n",
    "        }\n",
    "        \n",
    "        print(f\"Evaluating {model_name} on {len(test_data)} samples...\")\n",
    "        \n",
    "        for idx, row in tqdm(test_data.iterrows(), total=len(test_data), desc=f\"Evaluating {model_name}\"):\n",
    "            question = row['Question']\n",
    "            ground_truth = row['Answer']\n",
    "            \n",
    "            # Get prediction from pipeline\n",
    "            response = pipeline.ask(question, model_name=model_name)\n",
    "            \n",
    "            if response['success']:\n",
    "                prediction = response['answer']\n",
    "                \n",
    "                # Calculate metrics\n",
    "                results['exact_match'].append(self.exact_match(prediction, ground_truth))\n",
    "                results['f1_score'].append(self.f1_score(prediction, ground_truth))\n",
    "                \n",
    "                rouge = self.rouge_scores(prediction, ground_truth)\n",
    "                results['rouge1'].append(rouge['rouge1'])\n",
    "                results['rouge2'].append(rouge['rouge2'])\n",
    "                results['rougeL'].append(rouge['rougeL'])\n",
    "                \n",
    "                results['bleu'].append(self.bleu_score(prediction, ground_truth))\n",
    "                results['semantic_similarity'].append(\n",
    "                    self.semantic_similarity(prediction, ground_truth, pipeline.retriever.embedding_manager)\n",
    "                )\n",
    "                results['inference_times'].append(response['inference_time'])\n",
    "                results['success_rate'].append(1.0)\n",
    "                results['answer_lengths'].append(len(prediction.split()))\n",
    "            else:\n",
    "                # Failed generation\n",
    "                for key in ['exact_match', 'f1_score', 'rouge1', 'rouge2', 'rougeL', 'bleu', 'semantic_similarity']:\n",
    "                    results[key].append(0.0)\n",
    "                results['inference_times'].append(response['inference_time'])\n",
    "                results['success_rate'].append(0.0)\n",
    "                results['answer_lengths'].append(0)\n",
    "        \n",
    "        # Calculate averages and convert numpy types to Python types for JSON serialization\n",
    "        metrics = {\n",
    "            'model_name': model_name,\n",
    "            'total_samples': int(len(test_data))  # Convert to Python int\n",
    "        }\n",
    "        \n",
    "        for key, values in results.items():\n",
    "            if values:  # Check if list is not empty\n",
    "                metrics[f'avg_{key}'] = float(np.mean(values))\n",
    "                metrics[f'std_{key}'] = float(np.std(values))\n",
    "                metrics[f'min_{key}'] = float(np.min(values))\n",
    "                metrics[f'max_{key}'] = float(np.max(values))\n",
    "            else:\n",
    "                metrics[f'avg_{key}'] = 0.0\n",
    "                metrics[f'std_{key}'] = 0.0\n",
    "                metrics[f'min_{key}'] = 0.0\n",
    "                metrics[f'max_{key}'] = 0.0\n",
    "        \n",
    "        return metrics\n",
    "    \n",
    "    def compare_all_models(self, pipeline: BongoRAGPipeline, test_data: pd.DataFrame,\n",
    "                          sample_size: int = 50) -> Dict[str, Dict]:\n",
    "        \"\"\"Compare all available models\"\"\"\n",
    "        \n",
    "        print(\"=== COMPREHENSIVE MODEL COMPARISON ===\")\n",
    "        print(f\"Evaluating on {min(sample_size, len(test_data))} samples\")\n",
    "        print(f\"Available models: {list(pipeline.model_comparator.models.keys())}\")\n",
    "        \n",
    "        all_results = {}\n",
    "        \n",
    "        for model_name in pipeline.model_comparator.models.keys():\n",
    "            print(f\"\\n--- Evaluating {model_name} ---\")\n",
    "            model_metrics = self.evaluate_single_model(pipeline, test_data, model_name, sample_size)\n",
    "            all_results[model_name] = model_metrics\n",
    "        \n",
    "        # Create comparison summary\n",
    "        comparison_summary = self._create_model_comparison_summary(all_results)\n",
    "        all_results['comparison_summary'] = comparison_summary\n",
    "        \n",
    "        return all_results\n",
    "    \n",
    "    def _create_model_comparison_summary(self, all_results: Dict) -> Dict:\n",
    "        \"\"\"Create summary comparing all models\"\"\"\n",
    "        \n",
    "        models = [k for k in all_results.keys() if k != 'comparison_summary']\n",
    "        \n",
    "        if not models:\n",
    "            return {}\n",
    "        \n",
    "        # Find best models for each metric\n",
    "        metrics_to_compare = ['avg_f1_score', 'avg_rouge1', 'avg_bleu', 'avg_semantic_similarity', \n",
    "                             'avg_success_rate', 'avg_inference_times']\n",
    "        \n",
    "        summary = {\n",
    "            'total_models_compared': len(models),\n",
    "            'best_performers': {},\n",
    "            'rankings': {},\n",
    "            'overall_scores': {}\n",
    "        }\n",
    "        \n",
    "        for metric in metrics_to_compare:\n",
    "            # For inference time, lower is better\n",
    "            reverse = metric == 'avg_inference_times'\n",
    "            \n",
    "            valid_results = [(model, all_results[model].get(metric, 0)) for model in models]\n",
    "            sorted_results = sorted(valid_results, key=lambda x: x[1], reverse=not reverse)\n",
    "            \n",
    "            if sorted_results:\n",
    "                summary['best_performers'][metric] = sorted_results[0][0]\n",
    "                # Convert to list of Python types for JSON serialization\n",
    "                summary['rankings'][metric] = [(model, float(score)) for model, score in sorted_results]\n",
    "        \n",
    "        # Calculate overall scores (weighted average of normalized metrics)\n",
    "        weights = {\n",
    "            'avg_f1_score': 0.25,\n",
    "            'avg_rouge1': 0.25,\n",
    "            'avg_bleu': 0.15,\n",
    "            'avg_semantic_similarity': 0.15,\n",
    "            'avg_success_rate': 0.15,\n",
    "            'avg_inference_times': 0.05  # Lower weight for speed\n",
    "        }\n",
    "        \n",
    "        for model in models:\n",
    "            overall_score = 0.0\n",
    "            total_weight = 0.0\n",
    "            \n",
    "            for metric, weight in weights.items():\n",
    "                value = all_results[model].get(metric, 0)\n",
    "                \n",
    "                # Normalize metric (0-1 scale)\n",
    "                if metric == 'avg_inference_times':\n",
    "                    # For inference time, invert (faster = better)\n",
    "                    all_times = [all_results[m].get(metric, float('inf')) for m in models]\n",
    "                    max_time = max(all_times) if all_times else 1\n",
    "                    normalized_value = 1 - (value / max_time) if max_time > 0 else 0\n",
    "                else:\n",
    "                    # For other metrics, higher is better (already 0-1 scale mostly)\n",
    "                    normalized_value = min(value, 1.0)\n",
    "                \n",
    "                overall_score += normalized_value * weight\n",
    "                total_weight += weight\n",
    "            \n",
    "            summary['overall_scores'][model] = float(overall_score / total_weight if total_weight > 0 else 0)\n",
    "        \n",
    "        # Rank models by overall score\n",
    "        summary['final_ranking'] = [(model, float(score)) for model, score in sorted(\n",
    "            summary['overall_scores'].items(), \n",
    "            key=lambda x: x[1], \n",
    "            reverse=True\n",
    "        )]\n",
    "        \n",
    "        return summary\n",
    "    \n",
    "    def print_comparison_report(self, comparison_results: Dict):\n",
    "        \"\"\"Print comprehensive comparison report\"\"\"\n",
    "        \n",
    "        print(\"\\n\" + \"=\"*80)\n",
    "        print(\"BONGO RAG COMPREHENSIVE MODEL COMPARISON REPORT\")\n",
    "        print(\"=\"*80)\n",
    "        \n",
    "        if 'comparison_summary' not in comparison_results:\n",
    "            print(\"No comparison summary available\")\n",
    "            return\n",
    "        \n",
    "        summary = comparison_results['comparison_summary']\n",
    "        models = [k for k in comparison_results.keys() if k != 'comparison_summary']\n",
    "        \n",
    "        print(f\"\\nModels Compared: {summary['total_models_compared']}\")\n",
    "        print(f\"Models: {', '.join(models)}\")\n",
    "        \n",
    "        # Overall Rankings\n",
    "        print(f\"\\n🏆 OVERALL RANKINGS:\")\n",
    "        for i, (model, score) in enumerate(summary['final_ranking'], 1):\n",
    "            print(f\"  {i}. {model}: {score:.4f}\")\n",
    "        \n",
    "        # Best performers by metric\n",
    "        print(f\"\\n📊 BEST PERFORMERS BY METRIC:\")\n",
    "        for metric, best_model in summary['best_performers'].items():\n",
    "            metric_name = metric.replace('avg_', '').replace('_', ' ').title()\n",
    "            value = comparison_results[best_model].get(metric, 0)\n",
    "            print(f\"  {metric_name}: {best_model} ({value:.4f})\")\n",
    "        \n",
    "        # Detailed results for each model\n",
    "        print(f\"\\n📈 DETAILED RESULTS:\")\n",
    "        for model in models:\n",
    "            results = comparison_results[model]\n",
    "            print(f\"\\n--- {model.upper()} ---\")\n",
    "            print(f\"  Success Rate:     {results.get('avg_success_rate', 0):.4f} ± {results.get('std_success_rate', 0):.4f}\")\n",
    "            print(f\"  F1 Score:         {results.get('avg_f1_score', 0):.4f} ± {results.get('std_f1_score', 0):.4f}\")\n",
    "            print(f\"  ROUGE-1:          {results.get('avg_rouge1', 0):.4f} ± {results.get('std_rouge1', 0):.4f}\")\n",
    "            print(f\"  BLEU:             {results.get('avg_bleu', 0):.4f} ± {results.get('std_bleu', 0):.4f}\")\n",
    "            print(f\"  Semantic Sim:     {results.get('avg_semantic_similarity', 0):.4f} ± {results.get('std_semantic_similarity', 0):.4f}\")\n",
    "            print(f\"  Inference Time:   {results.get('avg_inference_times', 0):.4f}s ± {results.get('std_inference_times', 0):.4f}s\")\n",
    "            print(f\"  Answer Length:    {results.get('avg_answer_lengths', 0):.1f} ± {results.get('std_answer_lengths', 0):.1f} words\")\n",
    "        \n",
    "        print(\"=\"*80)\n",
    "        \n",
    "        # Recommendations\n",
    "        print(f\"\\n💡 RECOMMENDATIONS FOR THESIS:\")\n",
    "        \n",
    "        best_overall = summary['final_ranking'][0][0] if summary['final_ranking'] else \"N/A\"\n",
    "        print(f\"  1. Primary Model: {best_overall} (highest overall score)\")\n",
    "        \n",
    "        best_accuracy = summary['best_performers'].get('avg_f1_score', 'N/A')\n",
    "        print(f\"  2. Most Accurate: {best_accuracy} (for precision-critical tasks)\")\n",
    "        \n",
    "        fastest_model = summary['best_performers'].get('avg_inference_times', 'N/A')\n",
    "        print(f\"  3. Fastest Model: {fastest_model} (for real-time applications)\")\n",
    "        \n",
    "        print(f\"  4. Consider ensemble methods combining {best_overall} and {best_accuracy}\")\n",
    "        print(f\"  5. For thesis, focus on the trade-offs between accuracy and speed\")\n",
    "\n",
    "    def convert_to_json_serializable(self, obj):\n",
    "        \"\"\"Convert numpy types to Python types for JSON serialization\"\"\"\n",
    "        if isinstance(obj, np.integer):\n",
    "            return int(obj)\n",
    "        elif isinstance(obj, np.floating):\n",
    "            return float(obj)\n",
    "        elif isinstance(obj, np.ndarray):\n",
    "            return obj.tolist()\n",
    "        elif isinstance(obj, dict):\n",
    "            return {key: self.convert_to_json_serializable(value) for key, value in obj.items()}\n",
    "        elif isinstance(obj, list):\n",
    "            return [self.convert_to_json_serializable(item) for item in obj]\n",
    "        else:\n",
    "            return obj\n",
    "\n",
    "# Initialize enhanced evaluator\n",
    "evaluator = BongoRAGEvaluator(config)\n",
    "\n",
    "# Run comprehensive model comparison\n",
    "print(\"Running comprehensive model comparison...\")\n",
    "sample_df = df.sample(n=30, random_state=42)  # Smaller sample for initial testing\n",
    "\n",
    "# This will test all available models\n",
    "comparison_results = evaluator.compare_all_models(rag_pipeline, sample_df, sample_size=30)\n",
    "evaluator.print_comparison_report(comparison_results)\n",
    "\n",
    "# Convert results to JSON-serializable format before saving\n",
    "json_serializable_results = evaluator.convert_to_json_serializable(comparison_results)\n",
    "\n",
    "# Save results for thesis\n",
    "results_file = f\"{config.RESULTS_DIR}/model_comparison_results.json\"\n",
    "with open(results_file, 'w', encoding='utf-8') as f:\n",
    "    json.dump(json_serializable_results, f, ensure_ascii=False, indent=2)\n",
    "print(f\"\\nResults saved to: {results_file}\")\n"
   ]
  },
  {
   "cell_type": "code",
   "execution_count": 14,
   "metadata": {},
   "outputs": [
    {
     "name": "stdout",
     "output_type": "stream",
     "text": [
      "Processing image captions...\n"
     ]
    },
    {
     "data": {
      "application/vnd.jupyter.widget-view+json": {
       "model_id": "8c20329d514743ffb31294d7de0dbf8b",
       "version_major": 2,
       "version_minor": 0
      },
      "text/plain": [
       "Processing images:   0%|          | 0/5 [00:00<?, ?it/s]"
      ]
     },
     "metadata": {},
     "output_type": "display_data"
    },
    {
     "name": "stdout",
     "output_type": "stream",
     "text": [
      "Encoding 5 texts...\n"
     ]
    },
    {
     "data": {
      "application/vnd.jupyter.widget-view+json": {
       "model_id": "7fd0618bad574113a0243ee5f4c7e418",
       "version_major": 2,
       "version_minor": 0
      },
      "text/plain": [
       "Batches:   0%|          | 0/1 [00:00<?, ?it/s]"
      ]
     },
     "metadata": {},
     "output_type": "display_data"
    },
    {
     "name": "stdout",
     "output_type": "stream",
     "text": [
      "Processed 5 image captions\n",
      "\n",
      "Testing Multimodal RAG...\n",
      "Encoding 1 texts...\n"
     ]
    },
    {
     "data": {
      "application/vnd.jupyter.widget-view+json": {
       "model_id": "aa12ff50901648ecb263cda50eb29ee8",
       "version_major": 2,
       "version_minor": 0
      },
      "text/plain": [
       "Batches:   0%|          | 0/1 [00:00<?, ?it/s]"
      ]
     },
     "metadata": {},
     "output_type": "display_data"
    },
    {
     "name": "stdout",
     "output_type": "stream",
     "text": [
      "Encoding 1 texts...\n"
     ]
    },
    {
     "data": {
      "application/vnd.jupyter.widget-view+json": {
       "model_id": "f4cea3f437ff4fb7a92c7ee7e0ab00c7",
       "version_major": 2,
       "version_minor": 0
      },
      "text/plain": [
       "Batches:   0%|          | 0/1 [00:00<?, ?it/s]"
      ]
     },
     "metadata": {},
     "output_type": "display_data"
    },
    {
     "name": "stdout",
     "output_type": "stream",
     "text": [
      "Encoding 1 texts...\n"
     ]
    },
    {
     "data": {
      "application/vnd.jupyter.widget-view+json": {
       "model_id": "d17cbde4509b47fba67a5881e7b76c71",
       "version_major": 2,
       "version_minor": 0
      },
      "text/plain": [
       "Batches:   0%|          | 0/1 [00:00<?, ?it/s]"
      ]
     },
     "metadata": {},
     "output_type": "display_data"
    },
    {
     "name": "stdout",
     "output_type": "stream",
     "text": [
      "প্রশ্ন: বাংলাদেশের জাতীয় প্রতীক সম্পর্কে বলুন\n",
      "উত্তর: According to the provided information: বিশ্ব ক্রিকেটে বাংলাদেশের পর্যায় গুলো হল\n",
      "\n",
      "ব্যবহৃত ছবি: 2\n",
      "  - বাংলাদেশের পতাকা সবুজ রঙের উপর লাল বৃত্ত (similarity: 0.9293)\n",
      "  - পদ্মা সেতু বাংলাদেশের দীর্ঘতম সেতু (similarity: 0.9221)\n"
     ]
    }
   ],
   "source": [
    "# 9. Multimodal Extensions and CLIP Integration\n",
    "class MultimodalBongoRAG:\n",
    "    \"\"\"Extended RAG system with multimodal capabilities\"\"\"\n",
    "    \n",
    "    def __init__(self, base_pipeline: BongoRAGPipeline, embedding_manager: BanglaEmbeddingManager):\n",
    "        self.base_pipeline = base_pipeline\n",
    "        self.embedding_manager = embedding_manager\n",
    "        self.image_captions = {}  # Store image captions\n",
    "        \n",
    "    def add_image_caption(self, image_id: str, caption: str, image_path: str = None):\n",
    "        \"\"\"Add image caption for multimodal retrieval\"\"\"\n",
    "        self.image_captions[image_id] = {\n",
    "            'caption': caption,\n",
    "            'image_path': image_path,\n",
    "            'text_embedding': None,\n",
    "            'image_embedding': None\n",
    "        }\n",
    "    \n",
    "    def process_images_with_captions(self, image_caption_pairs: List[Tuple[str, str]]):\n",
    "        \"\"\"Process multiple image-caption pairs\"\"\"\n",
    "        print(\"Processing image captions...\")\n",
    "        \n",
    "        for image_id, caption in tqdm(image_caption_pairs, desc=\"Processing images\"):\n",
    "            self.add_image_caption(image_id, caption)\n",
    "        \n",
    "        # Generate embeddings for all captions\n",
    "        captions = [data['caption'] for data in self.image_captions.values()]\n",
    "        caption_embeddings = self.embedding_manager.encode_texts(captions)\n",
    "        \n",
    "        # Store embeddings\n",
    "        for i, (image_id, data) in enumerate(self.image_captions.items()):\n",
    "            data['text_embedding'] = caption_embeddings[i]\n",
    "        \n",
    "        print(f\"Processed {len(self.image_captions)} image captions\")\n",
    "    \n",
    "    def retrieve_multimodal(self, query: str, include_images: bool = True, \n",
    "                           top_k_text: int = 3, top_k_images: int = 2) -> Dict:\n",
    "        \"\"\"Retrieve from both text and image captions\"\"\"\n",
    "        # Get text-based retrieval\n",
    "        text_results = self.base_pipeline.retriever.retrieve(query, k=top_k_text)\n",
    "        \n",
    "        multimodal_results = {\n",
    "            'text_docs': text_results,\n",
    "            'image_docs': [],\n",
    "            'combined_context': []\n",
    "        }\n",
    "        \n",
    "        if include_images and self.image_captions:\n",
    "            # Search in image captions\n",
    "            query_embedding = self.embedding_manager.encode_texts([query])[0]\n",
    "            \n",
    "            # Calculate similarities with image captions\n",
    "            similarities = []\n",
    "            for image_id, data in self.image_captions.items():\n",
    "                if data['text_embedding'] is not None:\n",
    "                    sim = cosine_similarity(\n",
    "                        query_embedding.reshape(1, -1),\n",
    "                        data['text_embedding'].reshape(1, -1)\n",
    "                    )[0][0]\n",
    "                    similarities.append((image_id, sim, data['caption']))\n",
    "            \n",
    "            # Sort and get top-k\n",
    "            similarities.sort(key=lambda x: x[1], reverse=True)\n",
    "            \n",
    "            for image_id, sim_score, caption in similarities[:top_k_images]:\n",
    "                multimodal_results['image_docs'].append({\n",
    "                    'image_id': image_id,\n",
    "                    'caption': caption,\n",
    "                    'similarity': sim_score,\n",
    "                    'type': 'image_caption'\n",
    "                })\n",
    "        \n",
    "        # Combine contexts\n",
    "        text_contexts = [doc['content'] for doc in text_results]\n",
    "        image_contexts = [f\"ছবির বর্ণনা: {doc['caption']}\" for doc in multimodal_results['image_docs']]\n",
    "        \n",
    "        multimodal_results['combined_context'] = text_contexts + image_contexts\n",
    "        \n",
    "        return multimodal_results\n",
    "    \n",
    "    def ask_multimodal(self, question: str, include_images: bool = True) -> Dict:\n",
    "        \"\"\"Ask question with multimodal context\"\"\"\n",
    "        # Retrieve multimodal context\n",
    "        retrieval_results = self.retrieve_multimodal(question, include_images=include_images)\n",
    "        \n",
    "        # Generate answer using combined context - fix the attribute access\n",
    "        answer = self.base_pipeline.ask(question)['answer']\n",
    "        \n",
    "        return {\n",
    "            'question': question,\n",
    "            'answer': answer,\n",
    "            'text_docs': retrieval_results['text_docs'],\n",
    "            'image_docs': retrieval_results['image_docs'],\n",
    "            'context_used': retrieval_results['combined_context']\n",
    "        }\n",
    "\n",
    "# Create sample image captions for demonstration\n",
    "sample_image_captions = [\n",
    "    (\"img001\", \"বাংলাদেশের পতাকা সবুজ রঙের উপর লাল বৃত্ত\"),\n",
    "    (\"img002\", \"ঢাকার জাতীয় সংসদ ভবন একটি আধুনিক স্থাপত্য\"),\n",
    "    (\"img003\", \"পদ্মা সেতু বাংলাদেশের দীর্ঘতম সেতু\"),\n",
    "    (\"img004\", \"রয়েল বেঙ্গল টাইগার বাংলাদেশের জাতীয় পশু\"),\n",
    "    (\"img005\", \"শাপলা বাংলাদেশের জাতীয় ফুল\")\n",
    "]\n",
    "\n",
    "# Initialize multimodal RAG\n",
    "multimodal_rag = MultimodalBongoRAG(rag_pipeline, embedding_manager)\n",
    "\n",
    "# Process sample image captions\n",
    "multimodal_rag.process_images_with_captions(sample_image_captions)\n",
    "\n",
    "# Test multimodal RAG\n",
    "print(\"\\nTesting Multimodal RAG...\")\n",
    "test_question = \"বাংলাদেশের জাতীয় প্রতীক সম্পর্কে বলুন\"\n",
    "\n",
    "multimodal_result = multimodal_rag.ask_multimodal(test_question, include_images=True)\n",
    "\n",
    "print(f\"প্রশ্ন: {multimodal_result['question']}\")\n",
    "print(f\"উত্তর: {multimodal_result['answer']}\")\n",
    "print(f\"\\nব্যবহৃত ছবি: {len(multimodal_result['image_docs'])}\")\n",
    "for img_doc in multimodal_result['image_docs']:\n",
    "    print(f\"  - {img_doc['caption']} (similarity: {img_doc['similarity']:.4f})\")\n"
   ]
  },
  {
   "cell_type": "code",
   "execution_count": 19,
   "metadata": {},
   "outputs": [
    {
     "name": "stdout",
     "output_type": "stream",
     "text": [
      "Preparing training data with RAG context...\n"
     ]
    },
    {
     "data": {
      "application/vnd.jupyter.widget-view+json": {
       "model_id": "fd05719131a246159da372881ec7494e",
       "version_major": 2,
       "version_minor": 0
      },
      "text/plain": [
       "Preparing data:   0%|          | 0/100 [00:00<?, ?it/s]"
      ]
     },
     "metadata": {},
     "output_type": "display_data"
    },
    {
     "name": "stdout",
     "output_type": "stream",
     "text": [
      "Encoding 1 texts...\n"
     ]
    },
    {
     "data": {
      "application/vnd.jupyter.widget-view+json": {
       "model_id": "fde8a56534b445a6af73edb360c850e6",
       "version_major": 2,
       "version_minor": 0
      },
      "text/plain": [
       "Batches:   0%|          | 0/1 [00:00<?, ?it/s]"
      ]
     },
     "metadata": {},
     "output_type": "display_data"
    },
    {
     "name": "stdout",
     "output_type": "stream",
     "text": [
      "Encoding 1 texts...\n"
     ]
    },
    {
     "data": {
      "application/vnd.jupyter.widget-view+json": {
       "model_id": "e31d2f24975d41f5a252d9d64acb02ea",
       "version_major": 2,
       "version_minor": 0
      },
      "text/plain": [
       "Batches:   0%|          | 0/1 [00:00<?, ?it/s]"
      ]
     },
     "metadata": {},
     "output_type": "display_data"
    },
    {
     "name": "stdout",
     "output_type": "stream",
     "text": [
      "Encoding 1 texts...\n"
     ]
    },
    {
     "data": {
      "application/vnd.jupyter.widget-view+json": {
       "model_id": "bcdc5d9767b047869f3b1996458cea37",
       "version_major": 2,
       "version_minor": 0
      },
      "text/plain": [
       "Batches:   0%|          | 0/1 [00:00<?, ?it/s]"
      ]
     },
     "metadata": {},
     "output_type": "display_data"
    },
    {
     "name": "stdout",
     "output_type": "stream",
     "text": [
      "Encoding 1 texts...\n"
     ]
    },
    {
     "data": {
      "application/vnd.jupyter.widget-view+json": {
       "model_id": "d68b28af99b0437ea6062c5c3769dc59",
       "version_major": 2,
       "version_minor": 0
      },
      "text/plain": [
       "Batches:   0%|          | 0/1 [00:00<?, ?it/s]"
      ]
     },
     "metadata": {},
     "output_type": "display_data"
    },
    {
     "name": "stdout",
     "output_type": "stream",
     "text": [
      "Encoding 1 texts...\n"
     ]
    },
    {
     "data": {
      "application/vnd.jupyter.widget-view+json": {
       "model_id": "1a5c15d75c5b489282ef33998589b3a1",
       "version_major": 2,
       "version_minor": 0
      },
      "text/plain": [
       "Batches:   0%|          | 0/1 [00:00<?, ?it/s]"
      ]
     },
     "metadata": {},
     "output_type": "display_data"
    },
    {
     "name": "stdout",
     "output_type": "stream",
     "text": [
      "Encoding 1 texts...\n"
     ]
    },
    {
     "data": {
      "application/vnd.jupyter.widget-view+json": {
       "model_id": "1d391df771004162bbe4a8bace76989e",
       "version_major": 2,
       "version_minor": 0
      },
      "text/plain": [
       "Batches:   0%|          | 0/1 [00:00<?, ?it/s]"
      ]
     },
     "metadata": {},
     "output_type": "display_data"
    },
    {
     "name": "stdout",
     "output_type": "stream",
     "text": [
      "Encoding 1 texts...\n"
     ]
    },
    {
     "data": {
      "application/vnd.jupyter.widget-view+json": {
       "model_id": "6dbebeac9fb54b959e42171653a1648b",
       "version_major": 2,
       "version_minor": 0
      },
      "text/plain": [
       "Batches:   0%|          | 0/1 [00:00<?, ?it/s]"
      ]
     },
     "metadata": {},
     "output_type": "display_data"
    },
    {
     "name": "stdout",
     "output_type": "stream",
     "text": [
      "Encoding 1 texts...\n"
     ]
    },
    {
     "data": {
      "application/vnd.jupyter.widget-view+json": {
       "model_id": "ddf0038d9ec14695a2bdeff54dc9a86c",
       "version_major": 2,
       "version_minor": 0
      },
      "text/plain": [
       "Batches:   0%|          | 0/1 [00:00<?, ?it/s]"
      ]
     },
     "metadata": {},
     "output_type": "display_data"
    },
    {
     "name": "stdout",
     "output_type": "stream",
     "text": [
      "Encoding 1 texts...\n"
     ]
    },
    {
     "data": {
      "application/vnd.jupyter.widget-view+json": {
       "model_id": "7d53d55f44e64eb8b451e825ce51f6ef",
       "version_major": 2,
       "version_minor": 0
      },
      "text/plain": [
       "Batches:   0%|          | 0/1 [00:00<?, ?it/s]"
      ]
     },
     "metadata": {},
     "output_type": "display_data"
    },
    {
     "name": "stdout",
     "output_type": "stream",
     "text": [
      "Encoding 1 texts...\n"
     ]
    },
    {
     "data": {
      "application/vnd.jupyter.widget-view+json": {
       "model_id": "fbf0165ac57a48b2b5b96e3600939e5b",
       "version_major": 2,
       "version_minor": 0
      },
      "text/plain": [
       "Batches:   0%|          | 0/1 [00:00<?, ?it/s]"
      ]
     },
     "metadata": {},
     "output_type": "display_data"
    },
    {
     "name": "stdout",
     "output_type": "stream",
     "text": [
      "Encoding 1 texts...\n"
     ]
    },
    {
     "data": {
      "application/vnd.jupyter.widget-view+json": {
       "model_id": "ad8eefc2d1cc4d3f8eb19ea6ba47f98d",
       "version_major": 2,
       "version_minor": 0
      },
      "text/plain": [
       "Batches:   0%|          | 0/1 [00:00<?, ?it/s]"
      ]
     },
     "metadata": {},
     "output_type": "display_data"
    },
    {
     "name": "stdout",
     "output_type": "stream",
     "text": [
      "Encoding 1 texts...\n"
     ]
    },
    {
     "data": {
      "application/vnd.jupyter.widget-view+json": {
       "model_id": "fe38e4885c874f02ab444de20bb29216",
       "version_major": 2,
       "version_minor": 0
      },
      "text/plain": [
       "Batches:   0%|          | 0/1 [00:00<?, ?it/s]"
      ]
     },
     "metadata": {},
     "output_type": "display_data"
    },
    {
     "name": "stdout",
     "output_type": "stream",
     "text": [
      "Encoding 1 texts...\n"
     ]
    },
    {
     "data": {
      "application/vnd.jupyter.widget-view+json": {
       "model_id": "7b20401f7cb04fcb9d313db35ea3d53d",
       "version_major": 2,
       "version_minor": 0
      },
      "text/plain": [
       "Batches:   0%|          | 0/1 [00:00<?, ?it/s]"
      ]
     },
     "metadata": {},
     "output_type": "display_data"
    },
    {
     "name": "stdout",
     "output_type": "stream",
     "text": [
      "Encoding 1 texts...\n"
     ]
    },
    {
     "data": {
      "application/vnd.jupyter.widget-view+json": {
       "model_id": "4363aeba5dc44cb6809fc91d001e8704",
       "version_major": 2,
       "version_minor": 0
      },
      "text/plain": [
       "Batches:   0%|          | 0/1 [00:00<?, ?it/s]"
      ]
     },
     "metadata": {},
     "output_type": "display_data"
    },
    {
     "name": "stdout",
     "output_type": "stream",
     "text": [
      "Encoding 1 texts...\n"
     ]
    },
    {
     "data": {
      "application/vnd.jupyter.widget-view+json": {
       "model_id": "c2a04463d220432682147867e52dcd86",
       "version_major": 2,
       "version_minor": 0
      },
      "text/plain": [
       "Batches:   0%|          | 0/1 [00:00<?, ?it/s]"
      ]
     },
     "metadata": {},
     "output_type": "display_data"
    },
    {
     "name": "stdout",
     "output_type": "stream",
     "text": [
      "Encoding 1 texts...\n"
     ]
    },
    {
     "data": {
      "application/vnd.jupyter.widget-view+json": {
       "model_id": "77c4981e0677481b9501a2c72961af67",
       "version_major": 2,
       "version_minor": 0
      },
      "text/plain": [
       "Batches:   0%|          | 0/1 [00:00<?, ?it/s]"
      ]
     },
     "metadata": {},
     "output_type": "display_data"
    },
    {
     "name": "stdout",
     "output_type": "stream",
     "text": [
      "Encoding 1 texts...\n"
     ]
    },
    {
     "data": {
      "application/vnd.jupyter.widget-view+json": {
       "model_id": "c0c311aef2b840c2812cd69e4ec794bb",
       "version_major": 2,
       "version_minor": 0
      },
      "text/plain": [
       "Batches:   0%|          | 0/1 [00:00<?, ?it/s]"
      ]
     },
     "metadata": {},
     "output_type": "display_data"
    },
    {
     "name": "stdout",
     "output_type": "stream",
     "text": [
      "Encoding 1 texts...\n"
     ]
    },
    {
     "data": {
      "application/vnd.jupyter.widget-view+json": {
       "model_id": "e2443081de274f0a83bfa33839f67133",
       "version_major": 2,
       "version_minor": 0
      },
      "text/plain": [
       "Batches:   0%|          | 0/1 [00:00<?, ?it/s]"
      ]
     },
     "metadata": {},
     "output_type": "display_data"
    },
    {
     "name": "stdout",
     "output_type": "stream",
     "text": [
      "Encoding 1 texts...\n"
     ]
    },
    {
     "data": {
      "application/vnd.jupyter.widget-view+json": {
       "model_id": "e7a54082b33a41819e9581a5c44768b2",
       "version_major": 2,
       "version_minor": 0
      },
      "text/plain": [
       "Batches:   0%|          | 0/1 [00:00<?, ?it/s]"
      ]
     },
     "metadata": {},
     "output_type": "display_data"
    },
    {
     "name": "stdout",
     "output_type": "stream",
     "text": [
      "Encoding 1 texts...\n"
     ]
    },
    {
     "data": {
      "application/vnd.jupyter.widget-view+json": {
       "model_id": "ef1f94ca8c7f4795bdb6ff33851f7c5f",
       "version_major": 2,
       "version_minor": 0
      },
      "text/plain": [
       "Batches:   0%|          | 0/1 [00:00<?, ?it/s]"
      ]
     },
     "metadata": {},
     "output_type": "display_data"
    },
    {
     "name": "stdout",
     "output_type": "stream",
     "text": [
      "Encoding 1 texts...\n"
     ]
    },
    {
     "data": {
      "application/vnd.jupyter.widget-view+json": {
       "model_id": "351be352868e4742b8309e93f8d52a0e",
       "version_major": 2,
       "version_minor": 0
      },
      "text/plain": [
       "Batches:   0%|          | 0/1 [00:00<?, ?it/s]"
      ]
     },
     "metadata": {},
     "output_type": "display_data"
    },
    {
     "name": "stdout",
     "output_type": "stream",
     "text": [
      "Encoding 1 texts...\n"
     ]
    },
    {
     "data": {
      "application/vnd.jupyter.widget-view+json": {
       "model_id": "d00754b0b5d14b9e838cd2c633d71764",
       "version_major": 2,
       "version_minor": 0
      },
      "text/plain": [
       "Batches:   0%|          | 0/1 [00:00<?, ?it/s]"
      ]
     },
     "metadata": {},
     "output_type": "display_data"
    },
    {
     "name": "stdout",
     "output_type": "stream",
     "text": [
      "Encoding 1 texts...\n"
     ]
    },
    {
     "data": {
      "application/vnd.jupyter.widget-view+json": {
       "model_id": "c0d769caf97242a384a18c9908708904",
       "version_major": 2,
       "version_minor": 0
      },
      "text/plain": [
       "Batches:   0%|          | 0/1 [00:00<?, ?it/s]"
      ]
     },
     "metadata": {},
     "output_type": "display_data"
    },
    {
     "name": "stdout",
     "output_type": "stream",
     "text": [
      "Encoding 1 texts...\n"
     ]
    },
    {
     "data": {
      "application/vnd.jupyter.widget-view+json": {
       "model_id": "b3884b03f90c4fd59263b82a5d274d53",
       "version_major": 2,
       "version_minor": 0
      },
      "text/plain": [
       "Batches:   0%|          | 0/1 [00:00<?, ?it/s]"
      ]
     },
     "metadata": {},
     "output_type": "display_data"
    },
    {
     "name": "stdout",
     "output_type": "stream",
     "text": [
      "Encoding 1 texts...\n"
     ]
    },
    {
     "data": {
      "application/vnd.jupyter.widget-view+json": {
       "model_id": "aacfa3f2d3514727b239efc1c1f73f2a",
       "version_major": 2,
       "version_minor": 0
      },
      "text/plain": [
       "Batches:   0%|          | 0/1 [00:00<?, ?it/s]"
      ]
     },
     "metadata": {},
     "output_type": "display_data"
    },
    {
     "name": "stdout",
     "output_type": "stream",
     "text": [
      "Encoding 1 texts...\n"
     ]
    },
    {
     "data": {
      "application/vnd.jupyter.widget-view+json": {
       "model_id": "6b72ca6911a840979b4dcf952df3f2cb",
       "version_major": 2,
       "version_minor": 0
      },
      "text/plain": [
       "Batches:   0%|          | 0/1 [00:00<?, ?it/s]"
      ]
     },
     "metadata": {},
     "output_type": "display_data"
    },
    {
     "name": "stdout",
     "output_type": "stream",
     "text": [
      "Encoding 1 texts...\n"
     ]
    },
    {
     "data": {
      "application/vnd.jupyter.widget-view+json": {
       "model_id": "3f39b26321904a06b5f07c769b8e35b9",
       "version_major": 2,
       "version_minor": 0
      },
      "text/plain": [
       "Batches:   0%|          | 0/1 [00:00<?, ?it/s]"
      ]
     },
     "metadata": {},
     "output_type": "display_data"
    },
    {
     "name": "stdout",
     "output_type": "stream",
     "text": [
      "Encoding 1 texts...\n"
     ]
    },
    {
     "data": {
      "application/vnd.jupyter.widget-view+json": {
       "model_id": "24a087e9ee844b1080435fcc7cc7dc4d",
       "version_major": 2,
       "version_minor": 0
      },
      "text/plain": [
       "Batches:   0%|          | 0/1 [00:00<?, ?it/s]"
      ]
     },
     "metadata": {},
     "output_type": "display_data"
    },
    {
     "name": "stdout",
     "output_type": "stream",
     "text": [
      "Encoding 1 texts...\n"
     ]
    },
    {
     "data": {
      "application/vnd.jupyter.widget-view+json": {
       "model_id": "7fb6064831484de6840e3c708d2fe8f4",
       "version_major": 2,
       "version_minor": 0
      },
      "text/plain": [
       "Batches:   0%|          | 0/1 [00:00<?, ?it/s]"
      ]
     },
     "metadata": {},
     "output_type": "display_data"
    },
    {
     "name": "stdout",
     "output_type": "stream",
     "text": [
      "Encoding 1 texts...\n"
     ]
    },
    {
     "data": {
      "application/vnd.jupyter.widget-view+json": {
       "model_id": "be37c2606dec4deda96fefdfac6918cb",
       "version_major": 2,
       "version_minor": 0
      },
      "text/plain": [
       "Batches:   0%|          | 0/1 [00:00<?, ?it/s]"
      ]
     },
     "metadata": {},
     "output_type": "display_data"
    },
    {
     "name": "stdout",
     "output_type": "stream",
     "text": [
      "Encoding 1 texts...\n"
     ]
    },
    {
     "data": {
      "application/vnd.jupyter.widget-view+json": {
       "model_id": "09c85c99ba1d44a3a506485f7ee5fa12",
       "version_major": 2,
       "version_minor": 0
      },
      "text/plain": [
       "Batches:   0%|          | 0/1 [00:00<?, ?it/s]"
      ]
     },
     "metadata": {},
     "output_type": "display_data"
    },
    {
     "name": "stdout",
     "output_type": "stream",
     "text": [
      "Encoding 1 texts...\n"
     ]
    },
    {
     "data": {
      "application/vnd.jupyter.widget-view+json": {
       "model_id": "3a4b77a8707c4317908ddaf4f555250c",
       "version_major": 2,
       "version_minor": 0
      },
      "text/plain": [
       "Batches:   0%|          | 0/1 [00:00<?, ?it/s]"
      ]
     },
     "metadata": {},
     "output_type": "display_data"
    },
    {
     "name": "stdout",
     "output_type": "stream",
     "text": [
      "Encoding 1 texts...\n"
     ]
    },
    {
     "data": {
      "application/vnd.jupyter.widget-view+json": {
       "model_id": "65e48c6851344fde83b66fc0e2ce8119",
       "version_major": 2,
       "version_minor": 0
      },
      "text/plain": [
       "Batches:   0%|          | 0/1 [00:00<?, ?it/s]"
      ]
     },
     "metadata": {},
     "output_type": "display_data"
    },
    {
     "name": "stdout",
     "output_type": "stream",
     "text": [
      "Encoding 1 texts...\n"
     ]
    },
    {
     "data": {
      "application/vnd.jupyter.widget-view+json": {
       "model_id": "8240bd980cce45dfa011ca3dc3887e03",
       "version_major": 2,
       "version_minor": 0
      },
      "text/plain": [
       "Batches:   0%|          | 0/1 [00:00<?, ?it/s]"
      ]
     },
     "metadata": {},
     "output_type": "display_data"
    },
    {
     "name": "stdout",
     "output_type": "stream",
     "text": [
      "Encoding 1 texts...\n"
     ]
    },
    {
     "data": {
      "application/vnd.jupyter.widget-view+json": {
       "model_id": "72faefe23c2645eda8dafdf1c5ee2b48",
       "version_major": 2,
       "version_minor": 0
      },
      "text/plain": [
       "Batches:   0%|          | 0/1 [00:00<?, ?it/s]"
      ]
     },
     "metadata": {},
     "output_type": "display_data"
    },
    {
     "name": "stdout",
     "output_type": "stream",
     "text": [
      "Encoding 1 texts...\n"
     ]
    },
    {
     "data": {
      "application/vnd.jupyter.widget-view+json": {
       "model_id": "b6909bcc1e3e4ed1b7762e7c96a19ca9",
       "version_major": 2,
       "version_minor": 0
      },
      "text/plain": [
       "Batches:   0%|          | 0/1 [00:00<?, ?it/s]"
      ]
     },
     "metadata": {},
     "output_type": "display_data"
    },
    {
     "name": "stdout",
     "output_type": "stream",
     "text": [
      "Encoding 1 texts...\n"
     ]
    },
    {
     "data": {
      "application/vnd.jupyter.widget-view+json": {
       "model_id": "6c37392b7fd6416c990916098efd3843",
       "version_major": 2,
       "version_minor": 0
      },
      "text/plain": [
       "Batches:   0%|          | 0/1 [00:00<?, ?it/s]"
      ]
     },
     "metadata": {},
     "output_type": "display_data"
    },
    {
     "name": "stdout",
     "output_type": "stream",
     "text": [
      "Encoding 1 texts...\n"
     ]
    },
    {
     "data": {
      "application/vnd.jupyter.widget-view+json": {
       "model_id": "fa6e8145e64b4967984f53c3900023ef",
       "version_major": 2,
       "version_minor": 0
      },
      "text/plain": [
       "Batches:   0%|          | 0/1 [00:00<?, ?it/s]"
      ]
     },
     "metadata": {},
     "output_type": "display_data"
    },
    {
     "name": "stdout",
     "output_type": "stream",
     "text": [
      "Encoding 1 texts...\n"
     ]
    },
    {
     "data": {
      "application/vnd.jupyter.widget-view+json": {
       "model_id": "6f6eb05ce4694b1bb709f6cd264dd425",
       "version_major": 2,
       "version_minor": 0
      },
      "text/plain": [
       "Batches:   0%|          | 0/1 [00:00<?, ?it/s]"
      ]
     },
     "metadata": {},
     "output_type": "display_data"
    },
    {
     "name": "stdout",
     "output_type": "stream",
     "text": [
      "Encoding 1 texts...\n"
     ]
    },
    {
     "data": {
      "application/vnd.jupyter.widget-view+json": {
       "model_id": "3eb45f44796b41d4bd2ab7697155a19d",
       "version_major": 2,
       "version_minor": 0
      },
      "text/plain": [
       "Batches:   0%|          | 0/1 [00:00<?, ?it/s]"
      ]
     },
     "metadata": {},
     "output_type": "display_data"
    },
    {
     "name": "stdout",
     "output_type": "stream",
     "text": [
      "Encoding 1 texts...\n"
     ]
    },
    {
     "data": {
      "application/vnd.jupyter.widget-view+json": {
       "model_id": "9c4b276de1ff443aa45531f6037a14c2",
       "version_major": 2,
       "version_minor": 0
      },
      "text/plain": [
       "Batches:   0%|          | 0/1 [00:00<?, ?it/s]"
      ]
     },
     "metadata": {},
     "output_type": "display_data"
    },
    {
     "name": "stdout",
     "output_type": "stream",
     "text": [
      "Encoding 1 texts...\n"
     ]
    },
    {
     "data": {
      "application/vnd.jupyter.widget-view+json": {
       "model_id": "3dfe1978fc0b49f9a7c12738358f0370",
       "version_major": 2,
       "version_minor": 0
      },
      "text/plain": [
       "Batches:   0%|          | 0/1 [00:00<?, ?it/s]"
      ]
     },
     "metadata": {},
     "output_type": "display_data"
    },
    {
     "name": "stdout",
     "output_type": "stream",
     "text": [
      "Encoding 1 texts...\n"
     ]
    },
    {
     "data": {
      "application/vnd.jupyter.widget-view+json": {
       "model_id": "ebf783f55d6f4204a6a4d9178ac90da8",
       "version_major": 2,
       "version_minor": 0
      },
      "text/plain": [
       "Batches:   0%|          | 0/1 [00:00<?, ?it/s]"
      ]
     },
     "metadata": {},
     "output_type": "display_data"
    },
    {
     "name": "stdout",
     "output_type": "stream",
     "text": [
      "Encoding 1 texts...\n"
     ]
    },
    {
     "data": {
      "application/vnd.jupyter.widget-view+json": {
       "model_id": "295ba20970024b80a89ae61921f05ae3",
       "version_major": 2,
       "version_minor": 0
      },
      "text/plain": [
       "Batches:   0%|          | 0/1 [00:00<?, ?it/s]"
      ]
     },
     "metadata": {},
     "output_type": "display_data"
    },
    {
     "name": "stdout",
     "output_type": "stream",
     "text": [
      "Encoding 1 texts...\n"
     ]
    },
    {
     "data": {
      "application/vnd.jupyter.widget-view+json": {
       "model_id": "dd093f30498345eea5366a520d419195",
       "version_major": 2,
       "version_minor": 0
      },
      "text/plain": [
       "Batches:   0%|          | 0/1 [00:00<?, ?it/s]"
      ]
     },
     "metadata": {},
     "output_type": "display_data"
    },
    {
     "name": "stdout",
     "output_type": "stream",
     "text": [
      "Encoding 1 texts...\n"
     ]
    },
    {
     "data": {
      "application/vnd.jupyter.widget-view+json": {
       "model_id": "5d86929699ae4a19adf894db2b096512",
       "version_major": 2,
       "version_minor": 0
      },
      "text/plain": [
       "Batches:   0%|          | 0/1 [00:00<?, ?it/s]"
      ]
     },
     "metadata": {},
     "output_type": "display_data"
    },
    {
     "name": "stdout",
     "output_type": "stream",
     "text": [
      "Encoding 1 texts...\n"
     ]
    },
    {
     "data": {
      "application/vnd.jupyter.widget-view+json": {
       "model_id": "8c24ba6bf9ef447f99926076d8eaf179",
       "version_major": 2,
       "version_minor": 0
      },
      "text/plain": [
       "Batches:   0%|          | 0/1 [00:00<?, ?it/s]"
      ]
     },
     "metadata": {},
     "output_type": "display_data"
    },
    {
     "name": "stdout",
     "output_type": "stream",
     "text": [
      "Encoding 1 texts...\n"
     ]
    },
    {
     "data": {
      "application/vnd.jupyter.widget-view+json": {
       "model_id": "31f7b80c47f24b35b52df940d63b2f92",
       "version_major": 2,
       "version_minor": 0
      },
      "text/plain": [
       "Batches:   0%|          | 0/1 [00:00<?, ?it/s]"
      ]
     },
     "metadata": {},
     "output_type": "display_data"
    },
    {
     "name": "stdout",
     "output_type": "stream",
     "text": [
      "Encoding 1 texts...\n"
     ]
    },
    {
     "data": {
      "application/vnd.jupyter.widget-view+json": {
       "model_id": "f9fc33cc186d45ddb13893d270e6d1fe",
       "version_major": 2,
       "version_minor": 0
      },
      "text/plain": [
       "Batches:   0%|          | 0/1 [00:00<?, ?it/s]"
      ]
     },
     "metadata": {},
     "output_type": "display_data"
    },
    {
     "name": "stdout",
     "output_type": "stream",
     "text": [
      "Encoding 1 texts...\n"
     ]
    },
    {
     "data": {
      "application/vnd.jupyter.widget-view+json": {
       "model_id": "cbaf035c2b90444395508cbafd283c47",
       "version_major": 2,
       "version_minor": 0
      },
      "text/plain": [
       "Batches:   0%|          | 0/1 [00:00<?, ?it/s]"
      ]
     },
     "metadata": {},
     "output_type": "display_data"
    },
    {
     "name": "stdout",
     "output_type": "stream",
     "text": [
      "Encoding 1 texts...\n"
     ]
    },
    {
     "data": {
      "application/vnd.jupyter.widget-view+json": {
       "model_id": "2d9a9ec627d2402e8eba7308b7797e80",
       "version_major": 2,
       "version_minor": 0
      },
      "text/plain": [
       "Batches:   0%|          | 0/1 [00:00<?, ?it/s]"
      ]
     },
     "metadata": {},
     "output_type": "display_data"
    },
    {
     "name": "stdout",
     "output_type": "stream",
     "text": [
      "Encoding 1 texts...\n"
     ]
    },
    {
     "data": {
      "application/vnd.jupyter.widget-view+json": {
       "model_id": "6a26cf2023b24090aeb572cdeaca3698",
       "version_major": 2,
       "version_minor": 0
      },
      "text/plain": [
       "Batches:   0%|          | 0/1 [00:00<?, ?it/s]"
      ]
     },
     "metadata": {},
     "output_type": "display_data"
    },
    {
     "name": "stdout",
     "output_type": "stream",
     "text": [
      "Encoding 1 texts...\n"
     ]
    },
    {
     "data": {
      "application/vnd.jupyter.widget-view+json": {
       "model_id": "4443607aaa6f475780d7620452aada7c",
       "version_major": 2,
       "version_minor": 0
      },
      "text/plain": [
       "Batches:   0%|          | 0/1 [00:00<?, ?it/s]"
      ]
     },
     "metadata": {},
     "output_type": "display_data"
    },
    {
     "name": "stdout",
     "output_type": "stream",
     "text": [
      "Encoding 1 texts...\n"
     ]
    },
    {
     "data": {
      "application/vnd.jupyter.widget-view+json": {
       "model_id": "6ac19ce7e20948799b551e3927baa89a",
       "version_major": 2,
       "version_minor": 0
      },
      "text/plain": [
       "Batches:   0%|          | 0/1 [00:00<?, ?it/s]"
      ]
     },
     "metadata": {},
     "output_type": "display_data"
    },
    {
     "name": "stdout",
     "output_type": "stream",
     "text": [
      "Encoding 1 texts...\n"
     ]
    },
    {
     "data": {
      "application/vnd.jupyter.widget-view+json": {
       "model_id": "feb9730c36d643c4b409f9c7013fa51e",
       "version_major": 2,
       "version_minor": 0
      },
      "text/plain": [
       "Batches:   0%|          | 0/1 [00:00<?, ?it/s]"
      ]
     },
     "metadata": {},
     "output_type": "display_data"
    },
    {
     "name": "stdout",
     "output_type": "stream",
     "text": [
      "Encoding 1 texts...\n"
     ]
    },
    {
     "data": {
      "application/vnd.jupyter.widget-view+json": {
       "model_id": "5f4553c3403b4ba0984341f9e2a3c9d3",
       "version_major": 2,
       "version_minor": 0
      },
      "text/plain": [
       "Batches:   0%|          | 0/1 [00:00<?, ?it/s]"
      ]
     },
     "metadata": {},
     "output_type": "display_data"
    },
    {
     "name": "stdout",
     "output_type": "stream",
     "text": [
      "Encoding 1 texts...\n"
     ]
    },
    {
     "data": {
      "application/vnd.jupyter.widget-view+json": {
       "model_id": "437d41ba2656479788fa1ad7e0dde8d8",
       "version_major": 2,
       "version_minor": 0
      },
      "text/plain": [
       "Batches:   0%|          | 0/1 [00:00<?, ?it/s]"
      ]
     },
     "metadata": {},
     "output_type": "display_data"
    },
    {
     "name": "stdout",
     "output_type": "stream",
     "text": [
      "Encoding 1 texts...\n"
     ]
    },
    {
     "data": {
      "application/vnd.jupyter.widget-view+json": {
       "model_id": "286f0298fe544f0aba58d5f0a9080e4c",
       "version_major": 2,
       "version_minor": 0
      },
      "text/plain": [
       "Batches:   0%|          | 0/1 [00:00<?, ?it/s]"
      ]
     },
     "metadata": {},
     "output_type": "display_data"
    },
    {
     "name": "stdout",
     "output_type": "stream",
     "text": [
      "Encoding 1 texts...\n"
     ]
    },
    {
     "data": {
      "application/vnd.jupyter.widget-view+json": {
       "model_id": "59b611345d5e4c1b9106054f31cef4aa",
       "version_major": 2,
       "version_minor": 0
      },
      "text/plain": [
       "Batches:   0%|          | 0/1 [00:00<?, ?it/s]"
      ]
     },
     "metadata": {},
     "output_type": "display_data"
    },
    {
     "name": "stdout",
     "output_type": "stream",
     "text": [
      "Encoding 1 texts...\n"
     ]
    },
    {
     "data": {
      "application/vnd.jupyter.widget-view+json": {
       "model_id": "cd8389305173439691c99bb9bf8d78a0",
       "version_major": 2,
       "version_minor": 0
      },
      "text/plain": [
       "Batches:   0%|          | 0/1 [00:00<?, ?it/s]"
      ]
     },
     "metadata": {},
     "output_type": "display_data"
    },
    {
     "name": "stdout",
     "output_type": "stream",
     "text": [
      "Encoding 1 texts...\n"
     ]
    },
    {
     "data": {
      "application/vnd.jupyter.widget-view+json": {
       "model_id": "67df5e12431b49df8fce76cd97814a40",
       "version_major": 2,
       "version_minor": 0
      },
      "text/plain": [
       "Batches:   0%|          | 0/1 [00:00<?, ?it/s]"
      ]
     },
     "metadata": {},
     "output_type": "display_data"
    },
    {
     "name": "stdout",
     "output_type": "stream",
     "text": [
      "Encoding 1 texts...\n"
     ]
    },
    {
     "data": {
      "application/vnd.jupyter.widget-view+json": {
       "model_id": "acbbdafca9b646b2aa391843df07528e",
       "version_major": 2,
       "version_minor": 0
      },
      "text/plain": [
       "Batches:   0%|          | 0/1 [00:00<?, ?it/s]"
      ]
     },
     "metadata": {},
     "output_type": "display_data"
    },
    {
     "name": "stdout",
     "output_type": "stream",
     "text": [
      "Encoding 1 texts...\n"
     ]
    },
    {
     "data": {
      "application/vnd.jupyter.widget-view+json": {
       "model_id": "5653e23d5cd34506823abd97bec828a9",
       "version_major": 2,
       "version_minor": 0
      },
      "text/plain": [
       "Batches:   0%|          | 0/1 [00:00<?, ?it/s]"
      ]
     },
     "metadata": {},
     "output_type": "display_data"
    },
    {
     "name": "stdout",
     "output_type": "stream",
     "text": [
      "Encoding 1 texts...\n"
     ]
    },
    {
     "data": {
      "application/vnd.jupyter.widget-view+json": {
       "model_id": "fb3ed759f3df45a0b5a745790879b75f",
       "version_major": 2,
       "version_minor": 0
      },
      "text/plain": [
       "Batches:   0%|          | 0/1 [00:00<?, ?it/s]"
      ]
     },
     "metadata": {},
     "output_type": "display_data"
    },
    {
     "name": "stdout",
     "output_type": "stream",
     "text": [
      "Encoding 1 texts...\n"
     ]
    },
    {
     "data": {
      "application/vnd.jupyter.widget-view+json": {
       "model_id": "701b086420ab4b66a118d0261bc1fa1b",
       "version_major": 2,
       "version_minor": 0
      },
      "text/plain": [
       "Batches:   0%|          | 0/1 [00:00<?, ?it/s]"
      ]
     },
     "metadata": {},
     "output_type": "display_data"
    },
    {
     "name": "stdout",
     "output_type": "stream",
     "text": [
      "Encoding 1 texts...\n"
     ]
    },
    {
     "data": {
      "application/vnd.jupyter.widget-view+json": {
       "model_id": "d67f1e413ed04068a08c9405a72bbab9",
       "version_major": 2,
       "version_minor": 0
      },
      "text/plain": [
       "Batches:   0%|          | 0/1 [00:00<?, ?it/s]"
      ]
     },
     "metadata": {},
     "output_type": "display_data"
    },
    {
     "name": "stdout",
     "output_type": "stream",
     "text": [
      "Encoding 1 texts...\n"
     ]
    },
    {
     "data": {
      "application/vnd.jupyter.widget-view+json": {
       "model_id": "c58c325fd75a4e9ea9da1ff9220384e6",
       "version_major": 2,
       "version_minor": 0
      },
      "text/plain": [
       "Batches:   0%|          | 0/1 [00:00<?, ?it/s]"
      ]
     },
     "metadata": {},
     "output_type": "display_data"
    },
    {
     "name": "stdout",
     "output_type": "stream",
     "text": [
      "Encoding 1 texts...\n"
     ]
    },
    {
     "data": {
      "application/vnd.jupyter.widget-view+json": {
       "model_id": "c41ce2923e984960b2bf71f75fb4b83c",
       "version_major": 2,
       "version_minor": 0
      },
      "text/plain": [
       "Batches:   0%|          | 0/1 [00:00<?, ?it/s]"
      ]
     },
     "metadata": {},
     "output_type": "display_data"
    },
    {
     "name": "stdout",
     "output_type": "stream",
     "text": [
      "Encoding 1 texts...\n"
     ]
    },
    {
     "data": {
      "application/vnd.jupyter.widget-view+json": {
       "model_id": "ba0db1193e4e45748efd09552fbe0051",
       "version_major": 2,
       "version_minor": 0
      },
      "text/plain": [
       "Batches:   0%|          | 0/1 [00:00<?, ?it/s]"
      ]
     },
     "metadata": {},
     "output_type": "display_data"
    },
    {
     "name": "stdout",
     "output_type": "stream",
     "text": [
      "Encoding 1 texts...\n"
     ]
    },
    {
     "data": {
      "application/vnd.jupyter.widget-view+json": {
       "model_id": "ed715476922346f3b4210793585cb6e1",
       "version_major": 2,
       "version_minor": 0
      },
      "text/plain": [
       "Batches:   0%|          | 0/1 [00:00<?, ?it/s]"
      ]
     },
     "metadata": {},
     "output_type": "display_data"
    },
    {
     "name": "stdout",
     "output_type": "stream",
     "text": [
      "Encoding 1 texts...\n"
     ]
    },
    {
     "data": {
      "application/vnd.jupyter.widget-view+json": {
       "model_id": "e49e2216f71346fb92ce5cdb85835ec0",
       "version_major": 2,
       "version_minor": 0
      },
      "text/plain": [
       "Batches:   0%|          | 0/1 [00:00<?, ?it/s]"
      ]
     },
     "metadata": {},
     "output_type": "display_data"
    },
    {
     "name": "stdout",
     "output_type": "stream",
     "text": [
      "Encoding 1 texts...\n"
     ]
    },
    {
     "data": {
      "application/vnd.jupyter.widget-view+json": {
       "model_id": "3c0d611fd69f46db9ddb430cfb6c6669",
       "version_major": 2,
       "version_minor": 0
      },
      "text/plain": [
       "Batches:   0%|          | 0/1 [00:00<?, ?it/s]"
      ]
     },
     "metadata": {},
     "output_type": "display_data"
    },
    {
     "name": "stdout",
     "output_type": "stream",
     "text": [
      "Encoding 1 texts...\n"
     ]
    },
    {
     "data": {
      "application/vnd.jupyter.widget-view+json": {
       "model_id": "0c663b6087d241f991d3ab5582362c71",
       "version_major": 2,
       "version_minor": 0
      },
      "text/plain": [
       "Batches:   0%|          | 0/1 [00:00<?, ?it/s]"
      ]
     },
     "metadata": {},
     "output_type": "display_data"
    },
    {
     "name": "stdout",
     "output_type": "stream",
     "text": [
      "Encoding 1 texts...\n"
     ]
    },
    {
     "data": {
      "application/vnd.jupyter.widget-view+json": {
       "model_id": "3f0f4211073147f8803caac61929f2ae",
       "version_major": 2,
       "version_minor": 0
      },
      "text/plain": [
       "Batches:   0%|          | 0/1 [00:00<?, ?it/s]"
      ]
     },
     "metadata": {},
     "output_type": "display_data"
    },
    {
     "name": "stdout",
     "output_type": "stream",
     "text": [
      "Encoding 1 texts...\n"
     ]
    },
    {
     "data": {
      "application/vnd.jupyter.widget-view+json": {
       "model_id": "70431b78db1948e0abf16cd21d761fe5",
       "version_major": 2,
       "version_minor": 0
      },
      "text/plain": [
       "Batches:   0%|          | 0/1 [00:00<?, ?it/s]"
      ]
     },
     "metadata": {},
     "output_type": "display_data"
    },
    {
     "name": "stdout",
     "output_type": "stream",
     "text": [
      "Encoding 1 texts...\n"
     ]
    },
    {
     "data": {
      "application/vnd.jupyter.widget-view+json": {
       "model_id": "849b79fe956c40d59848ccf41e617142",
       "version_major": 2,
       "version_minor": 0
      },
      "text/plain": [
       "Batches:   0%|          | 0/1 [00:00<?, ?it/s]"
      ]
     },
     "metadata": {},
     "output_type": "display_data"
    },
    {
     "name": "stdout",
     "output_type": "stream",
     "text": [
      "Encoding 1 texts...\n"
     ]
    },
    {
     "data": {
      "application/vnd.jupyter.widget-view+json": {
       "model_id": "6813953d49554bbfb7af43e19f069f68",
       "version_major": 2,
       "version_minor": 0
      },
      "text/plain": [
       "Batches:   0%|          | 0/1 [00:00<?, ?it/s]"
      ]
     },
     "metadata": {},
     "output_type": "display_data"
    },
    {
     "name": "stdout",
     "output_type": "stream",
     "text": [
      "Encoding 1 texts...\n"
     ]
    },
    {
     "data": {
      "application/vnd.jupyter.widget-view+json": {
       "model_id": "0738a7f143e540bcbd76a72e0b181b0e",
       "version_major": 2,
       "version_minor": 0
      },
      "text/plain": [
       "Batches:   0%|          | 0/1 [00:00<?, ?it/s]"
      ]
     },
     "metadata": {},
     "output_type": "display_data"
    },
    {
     "name": "stdout",
     "output_type": "stream",
     "text": [
      "Encoding 1 texts...\n"
     ]
    },
    {
     "data": {
      "application/vnd.jupyter.widget-view+json": {
       "model_id": "902c812dc16f4aedbf01cbda45116005",
       "version_major": 2,
       "version_minor": 0
      },
      "text/plain": [
       "Batches:   0%|          | 0/1 [00:00<?, ?it/s]"
      ]
     },
     "metadata": {},
     "output_type": "display_data"
    },
    {
     "name": "stdout",
     "output_type": "stream",
     "text": [
      "Encoding 1 texts...\n"
     ]
    },
    {
     "data": {
      "application/vnd.jupyter.widget-view+json": {
       "model_id": "95ebb39a12bc45d290cd748a51b66cc5",
       "version_major": 2,
       "version_minor": 0
      },
      "text/plain": [
       "Batches:   0%|          | 0/1 [00:00<?, ?it/s]"
      ]
     },
     "metadata": {},
     "output_type": "display_data"
    },
    {
     "name": "stdout",
     "output_type": "stream",
     "text": [
      "Encoding 1 texts...\n"
     ]
    },
    {
     "data": {
      "application/vnd.jupyter.widget-view+json": {
       "model_id": "d9f35fd9616447bbb4bc61bec79ece0a",
       "version_major": 2,
       "version_minor": 0
      },
      "text/plain": [
       "Batches:   0%|          | 0/1 [00:00<?, ?it/s]"
      ]
     },
     "metadata": {},
     "output_type": "display_data"
    },
    {
     "name": "stdout",
     "output_type": "stream",
     "text": [
      "Encoding 1 texts...\n"
     ]
    },
    {
     "data": {
      "application/vnd.jupyter.widget-view+json": {
       "model_id": "5edfef57d1e544d389b0fbbef9075a6a",
       "version_major": 2,
       "version_minor": 0
      },
      "text/plain": [
       "Batches:   0%|          | 0/1 [00:00<?, ?it/s]"
      ]
     },
     "metadata": {},
     "output_type": "display_data"
    },
    {
     "name": "stdout",
     "output_type": "stream",
     "text": [
      "Encoding 1 texts...\n"
     ]
    },
    {
     "data": {
      "application/vnd.jupyter.widget-view+json": {
       "model_id": "67d17ef19457420080b8bf2678e816a4",
       "version_major": 2,
       "version_minor": 0
      },
      "text/plain": [
       "Batches:   0%|          | 0/1 [00:00<?, ?it/s]"
      ]
     },
     "metadata": {},
     "output_type": "display_data"
    },
    {
     "name": "stdout",
     "output_type": "stream",
     "text": [
      "Encoding 1 texts...\n"
     ]
    },
    {
     "data": {
      "application/vnd.jupyter.widget-view+json": {
       "model_id": "3e15b3305f7f410699da665369937031",
       "version_major": 2,
       "version_minor": 0
      },
      "text/plain": [
       "Batches:   0%|          | 0/1 [00:00<?, ?it/s]"
      ]
     },
     "metadata": {},
     "output_type": "display_data"
    },
    {
     "name": "stdout",
     "output_type": "stream",
     "text": [
      "Encoding 1 texts...\n"
     ]
    },
    {
     "data": {
      "application/vnd.jupyter.widget-view+json": {
       "model_id": "9d0c80a174b34f9ebc8918060857975e",
       "version_major": 2,
       "version_minor": 0
      },
      "text/plain": [
       "Batches:   0%|          | 0/1 [00:00<?, ?it/s]"
      ]
     },
     "metadata": {},
     "output_type": "display_data"
    },
    {
     "name": "stdout",
     "output_type": "stream",
     "text": [
      "Encoding 1 texts...\n"
     ]
    },
    {
     "data": {
      "application/vnd.jupyter.widget-view+json": {
       "model_id": "52901fc1e61844a094557b847b7ddcce",
       "version_major": 2,
       "version_minor": 0
      },
      "text/plain": [
       "Batches:   0%|          | 0/1 [00:00<?, ?it/s]"
      ]
     },
     "metadata": {},
     "output_type": "display_data"
    },
    {
     "name": "stdout",
     "output_type": "stream",
     "text": [
      "Encoding 1 texts...\n"
     ]
    },
    {
     "data": {
      "application/vnd.jupyter.widget-view+json": {
       "model_id": "16cfd9187ce54ab79ae7ecb3cd522b46",
       "version_major": 2,
       "version_minor": 0
      },
      "text/plain": [
       "Batches:   0%|          | 0/1 [00:00<?, ?it/s]"
      ]
     },
     "metadata": {},
     "output_type": "display_data"
    },
    {
     "name": "stdout",
     "output_type": "stream",
     "text": [
      "Encoding 1 texts...\n"
     ]
    },
    {
     "data": {
      "application/vnd.jupyter.widget-view+json": {
       "model_id": "3e51c11af59b4064896c6d11add526b1",
       "version_major": 2,
       "version_minor": 0
      },
      "text/plain": [
       "Batches:   0%|          | 0/1 [00:00<?, ?it/s]"
      ]
     },
     "metadata": {},
     "output_type": "display_data"
    },
    {
     "name": "stdout",
     "output_type": "stream",
     "text": [
      "Encoding 1 texts...\n"
     ]
    },
    {
     "data": {
      "application/vnd.jupyter.widget-view+json": {
       "model_id": "53fee0e5e2234f3e8547594df3b1b319",
       "version_major": 2,
       "version_minor": 0
      },
      "text/plain": [
       "Batches:   0%|          | 0/1 [00:00<?, ?it/s]"
      ]
     },
     "metadata": {},
     "output_type": "display_data"
    },
    {
     "name": "stdout",
     "output_type": "stream",
     "text": [
      "Encoding 1 texts...\n"
     ]
    },
    {
     "data": {
      "application/vnd.jupyter.widget-view+json": {
       "model_id": "11c2db1f01f246d888b83c7f53b781fb",
       "version_major": 2,
       "version_minor": 0
      },
      "text/plain": [
       "Batches:   0%|          | 0/1 [00:00<?, ?it/s]"
      ]
     },
     "metadata": {},
     "output_type": "display_data"
    },
    {
     "name": "stdout",
     "output_type": "stream",
     "text": [
      "Encoding 1 texts...\n"
     ]
    },
    {
     "data": {
      "application/vnd.jupyter.widget-view+json": {
       "model_id": "2920ee63580142b09d12b61d6c332690",
       "version_major": 2,
       "version_minor": 0
      },
      "text/plain": [
       "Batches:   0%|          | 0/1 [00:00<?, ?it/s]"
      ]
     },
     "metadata": {},
     "output_type": "display_data"
    },
    {
     "name": "stdout",
     "output_type": "stream",
     "text": [
      "Encoding 1 texts...\n"
     ]
    },
    {
     "data": {
      "application/vnd.jupyter.widget-view+json": {
       "model_id": "e24e0f0ef20d4de7ab21ca416fb20c77",
       "version_major": 2,
       "version_minor": 0
      },
      "text/plain": [
       "Batches:   0%|          | 0/1 [00:00<?, ?it/s]"
      ]
     },
     "metadata": {},
     "output_type": "display_data"
    },
    {
     "name": "stdout",
     "output_type": "stream",
     "text": [
      "Encoding 1 texts...\n"
     ]
    },
    {
     "data": {
      "application/vnd.jupyter.widget-view+json": {
       "model_id": "9e5e31ec48ab4f449bec39f68a9ebe4b",
       "version_major": 2,
       "version_minor": 0
      },
      "text/plain": [
       "Batches:   0%|          | 0/1 [00:00<?, ?it/s]"
      ]
     },
     "metadata": {},
     "output_type": "display_data"
    },
    {
     "name": "stdout",
     "output_type": "stream",
     "text": [
      "Encoding 1 texts...\n"
     ]
    },
    {
     "data": {
      "application/vnd.jupyter.widget-view+json": {
       "model_id": "7c1b3649a59c46898f66f77cb8aff65b",
       "version_major": 2,
       "version_minor": 0
      },
      "text/plain": [
       "Batches:   0%|          | 0/1 [00:00<?, ?it/s]"
      ]
     },
     "metadata": {},
     "output_type": "display_data"
    },
    {
     "name": "stdout",
     "output_type": "stream",
     "text": [
      "Encoding 1 texts...\n"
     ]
    },
    {
     "data": {
      "application/vnd.jupyter.widget-view+json": {
       "model_id": "b583abb98e054867a6ac9c94d0423e45",
       "version_major": 2,
       "version_minor": 0
      },
      "text/plain": [
       "Batches:   0%|          | 0/1 [00:00<?, ?it/s]"
      ]
     },
     "metadata": {},
     "output_type": "display_data"
    },
    {
     "name": "stdout",
     "output_type": "stream",
     "text": [
      "Encoding 1 texts...\n"
     ]
    },
    {
     "data": {
      "application/vnd.jupyter.widget-view+json": {
       "model_id": "6ab5500d926f42aba0f86c93cfacea5a",
       "version_major": 2,
       "version_minor": 0
      },
      "text/plain": [
       "Batches:   0%|          | 0/1 [00:00<?, ?it/s]"
      ]
     },
     "metadata": {},
     "output_type": "display_data"
    },
    {
     "name": "stdout",
     "output_type": "stream",
     "text": [
      "Encoding 1 texts...\n"
     ]
    },
    {
     "data": {
      "application/vnd.jupyter.widget-view+json": {
       "model_id": "0bd40818f4704b488a22efd816ce372b",
       "version_major": 2,
       "version_minor": 0
      },
      "text/plain": [
       "Batches:   0%|          | 0/1 [00:00<?, ?it/s]"
      ]
     },
     "metadata": {},
     "output_type": "display_data"
    },
    {
     "name": "stdout",
     "output_type": "stream",
     "text": [
      "Encoding 1 texts...\n"
     ]
    },
    {
     "data": {
      "application/vnd.jupyter.widget-view+json": {
       "model_id": "5ef75fc0dc7f4ffea453e25a0a9a4188",
       "version_major": 2,
       "version_minor": 0
      },
      "text/plain": [
       "Batches:   0%|          | 0/1 [00:00<?, ?it/s]"
      ]
     },
     "metadata": {},
     "output_type": "display_data"
    },
    {
     "name": "stdout",
     "output_type": "stream",
     "text": [
      "Encoding 1 texts...\n"
     ]
    },
    {
     "data": {
      "application/vnd.jupyter.widget-view+json": {
       "model_id": "29f1a80d1f604949a5ab2bfd704a6a9a",
       "version_major": 2,
       "version_minor": 0
      },
      "text/plain": [
       "Batches:   0%|          | 0/1 [00:00<?, ?it/s]"
      ]
     },
     "metadata": {},
     "output_type": "display_data"
    },
    {
     "name": "stdout",
     "output_type": "stream",
     "text": [
      "Encoding 1 texts...\n"
     ]
    },
    {
     "data": {
      "application/vnd.jupyter.widget-view+json": {
       "model_id": "58b86e153134449bba47fe7390155175",
       "version_major": 2,
       "version_minor": 0
      },
      "text/plain": [
       "Batches:   0%|          | 0/1 [00:00<?, ?it/s]"
      ]
     },
     "metadata": {},
     "output_type": "display_data"
    },
    {
     "name": "stdout",
     "output_type": "stream",
     "text": [
      "Training data: 80 examples\n",
      "Validation data: 20 examples\n",
      "Training data saved to bongo_rag_training_data.json\n",
      "\n",
      "Sample Training Example:\n",
      "==================================================\n",
      "Question:\n",
      "পবিত্র এর বিপরীত শব্দ কি\n",
      "\n",
      "Context:\n",
      "['শুচি শব্দের অর্থ পবিত্র', 'পূত শব্দের অর্থ পবিত্র', 'ঐশিক নামের অর্থ ঈশ্বর সম্বন্ধীয়']...\n",
      "\n",
      "Input (Prompt):\n",
      "Context:\n",
      "শুচি শব্দের অর্থ পবিত্র\n",
      "পূত শব্দের অর্থ পবিত্র\n",
      "ঐশিক নামের অর্থ ঈশ্বর সম্বন্ধীয়\n",
      "\n",
      "Question: পবিত্র এর বিপরীত শব্দ কি\n",
      "Answer:...\n",
      "\n",
      "Expected Output:\n",
      "অপবিত্র\n",
      "==================================================\n"
     ]
    }
   ],
   "source": [
    "# 10. Fine-tuning Pipeline (LoRA Training)\n",
    "class BongoRAGTrainer:\n",
    "    \"\"\"Fine-tuning pipeline for LLaMA/Gemma models on Bangla QA data\"\"\"\n",
    "    \n",
    "    def __init__(self, config: BongoRAGConfig, generator=None):\n",
    "        self.config = config\n",
    "        self.generator = generator\n",
    "        self.training_data = None\n",
    "        \n",
    "    def prepare_training_data(self, df: pd.DataFrame, retriever) -> List[Dict]:\n",
    "        \"\"\"Prepare training data with RAG context\"\"\"\n",
    "        training_examples = []\n",
    "        \n",
    "        print(\"Preparing training data with RAG context...\")\n",
    "        \n",
    "        for idx, row in tqdm(df.iterrows(), total=len(df), desc=\"Preparing data\"):\n",
    "            question = row['Question']\n",
    "            ground_truth = row['Answer']\n",
    "            \n",
    "            # Get context from retriever\n",
    "            retrieved_docs = retriever.retrieve(question, k=3)\n",
    "            context = [doc['content'] for doc in retrieved_docs]\n",
    "            \n",
    "            # Create training prompt\n",
    "            if self.generator:\n",
    "                prompt = self.generator.create_prompt(question, context)\n",
    "            else:\n",
    "                # Create a simple prompt format if generator is not available\n",
    "                context_text = \"\\n\".join(context)\n",
    "                prompt = f\"Context:\\n{context_text}\\n\\nQuestion: {question}\\nAnswer:\"\n",
    "            \n",
    "            # Create training example\n",
    "            training_example = {\n",
    "                'input': prompt,\n",
    "                'output': ground_truth,\n",
    "                'question': question,\n",
    "                'context': context\n",
    "            }\n",
    "            training_examples.append(training_example)\n",
    "        \n",
    "        return training_examples\n",
    "    \n",
    "    def create_training_dataset(self, training_examples: List[Dict], test_size: float = 0.2):\n",
    "        \"\"\"Create train/validation split\"\"\"\n",
    "        from sklearn.model_selection import train_test_split\n",
    "        \n",
    "        train_data, val_data = train_test_split(\n",
    "            training_examples, \n",
    "            test_size=test_size, \n",
    "            random_state=42\n",
    "        )\n",
    "        \n",
    "        print(f\"Training data: {len(train_data)} examples\")\n",
    "        print(f\"Validation data: {len(val_data)} examples\")\n",
    "        \n",
    "        return train_data, val_data\n",
    "    \n",
    "    def save_training_data(self, training_examples: List[Dict], filename: str = \"training_data.json\"):\n",
    "        \"\"\"Save training data to JSON file\"\"\"\n",
    "        with open(filename, 'w', encoding='utf-8') as f:\n",
    "            json.dump(training_examples, f, ensure_ascii=False, indent=2)\n",
    "        print(f\"Training data saved to {filename}\")\n",
    "    \n",
    "    def load_training_data(self, filename: str = \"training_data.json\") -> List[Dict]:\n",
    "        \"\"\"Load training data from JSON file\"\"\"\n",
    "        with open(filename, 'r', encoding='utf-8') as f:\n",
    "            return json.load(f)\n",
    "\n",
    "# Demonstration of training data preparation\n",
    "trainer = BongoRAGTrainer(config)\n",
    "\n",
    "# Prepare training data from a small sample\n",
    "sample_for_training = df.sample(n=100, random_state=123)  # Changed random_state for different sample\n",
    "training_examples = trainer.prepare_training_data(sample_for_training, retriever)\n",
    "\n",
    "# Create train/val split\n",
    "train_data, val_data = trainer.create_training_dataset(training_examples)\n",
    "\n",
    "# Save training data\n",
    "trainer.save_training_data(training_examples, \"bongo_rag_training_data.json\")\n",
    "\n",
    "# Display sample training example\n",
    "print(\"\\nSample Training Example:\")\n",
    "print(\"=\" * 50)\n",
    "example = training_examples[0]\n",
    "print(f\"Question:\\n{example['question']}\")\n",
    "print(f\"\\nContext:\\n{example['context'][:200]}...\")\n",
    "print(f\"\\nInput (Prompt):\\n{example['input'][:300]}...\")\n",
    "print(f\"\\nExpected Output:\\n{example['output']}\")\n",
    "print(\"=\" * 50)\n"
   ]
  },
  {
   "cell_type": "code",
   "execution_count": 21,
   "metadata": {},
   "outputs": [
    {
     "name": "stdout",
     "output_type": "stream",
     "text": [
      "Dataset Analysis:\n",
      "total_qa_pairs: 74985\n",
      "avg_question_length: 38.91\n",
      "avg_answer_length: 75.21\n",
      "unique_questions: 74851\n",
      "unique_answers: 73872\n",
      "question_length_distribution:\n",
      "  count: 74985.00\n",
      "  mean: 38.91\n",
      "  std: 18.90\n",
      "  min: 4.00\n",
      "  25%: 26.00\n",
      "  50%: 35.00\n",
      "  75%: 47.00\n",
      "  max: 269.00\n",
      "answer_length_distribution:\n",
      "  count: 74985.00\n",
      "  mean: 75.21\n",
      "  std: 287.92\n",
      "  min: 1.00\n",
      "  25%: 34.00\n",
      "  50%: 45.00\n",
      "  75%: 62.00\n",
      "  max: 23761.00\n"
     ]
    },
    {
     "data": {
      "image/png": "[encoded data removed]",
      "text/plain": [
       "<Figure size 1500x500 with 2 Axes>"
      ]
     },
     "metadata": {},
     "output_type": "display_data"
    },
    {
     "name": "stdout",
     "output_type": "stream",
     "text": [
      "Encoding 1 texts...\n"
     ]
    },
    {
     "data": {
      "application/vnd.jupyter.widget-view+json": {
       "model_id": "bc39244c94d346cb90fd090d9d2de3be",
       "version_major": 2,
       "version_minor": 0
      },
      "text/plain": [
       "Batches:   0%|          | 0/1 [00:00<?, ?it/s]"
      ]
     },
     "metadata": {},
     "output_type": "display_data"
    },
    {
     "name": "stdout",
     "output_type": "stream",
     "text": [
      "Encoding 1 texts...\n"
     ]
    },
    {
     "data": {
      "application/vnd.jupyter.widget-view+json": {
       "model_id": "ea1503ea66f14e3a9e50a011657d1ce7",
       "version_major": 2,
       "version_minor": 0
      },
      "text/plain": [
       "Batches:   0%|          | 0/1 [00:00<?, ?it/s]"
      ]
     },
     "metadata": {},
     "output_type": "display_data"
    },
    {
     "name": "stdout",
     "output_type": "stream",
     "text": [
      "Encoding 1 texts...\n"
     ]
    },
    {
     "data": {
      "application/vnd.jupyter.widget-view+json": {
       "model_id": "10c84cc391e743349c36cabe9de35fb3",
       "version_major": 2,
       "version_minor": 0
      },
      "text/plain": [
       "Batches:   0%|          | 0/1 [00:00<?, ?it/s]"
      ]
     },
     "metadata": {},
     "output_type": "display_data"
    },
    {
     "name": "stdout",
     "output_type": "stream",
     "text": [
      "\n",
      "Retrieval Analysis:\n",
      "Average Retrieval Score: 20.7717\n",
      "Average Context Relevance: 0.1933\n"
     ]
    },
    {
     "data": {
      "image/png": "[encoded data removed]",
      "text/plain": [
       "<Figure size 1500x500 with 2 Axes>"
      ]
     },
     "metadata": {},
     "output_type": "display_data"
    },
    {
     "name": "stdout",
     "output_type": "stream",
     "text": [
      "\n",
      "Note: Using default metrics. Run evaluation first for complete metrics.\n",
      "\n",
      "# BongoRAG Performance Report\n",
      "\n",
      "## Dataset Statistics\n",
      "- Total QA Pairs: 74,985\n",
      "- Average Question Length: 38.9 characters\n",
      "- Average Answer Length: 75.2 characters\n",
      "- Unique Questions: 74,851\n",
      "- Unique Answers: 73,872\n",
      "\n",
      "## Model Performance\n",
      "### Text Generation Metrics\n",
      "- Exact Match: 0.0000 ± 0.0000\n",
      "- F1 Score: 0.0000 ± 0.0000\n",
      "- BLEU Score: 0.0000 ± 0.0000\n",
      "\n",
      "### ROUGE Scores\n",
      "- ROUGE-1: 0.0000 ± 0.0000\n",
      "- ROUGE-2: 0.0000 ± 0.0000\n",
      "- ROUGE-L: 0.0000 ± 0.0000\n",
      "\n",
      "### Retrieval Performance\n",
      "- Precision@K: 0.0000 ± 0.0000\n",
      "- MRR: 0.0000 ± 0.0000\n",
      "- Average Retrieval Score: 20.7717 ± 12.2679\n",
      "\n",
      "## Recommendations\n",
      "1. Consider increasing the training data size for better performance\n",
      "2. Experiment with different retrieval strategies (e.g., hybrid search)\n",
      "3. Fine-tune the embedding model on domain-specific Bangla text\n",
      "4. Implement more sophisticated context ranking algorithms\n",
      "5. Add more image captions for better multimodal performance\n",
      "        \n"
     ]
    }
   ],
   "source": [
    "# 11. Analysis and Visualization\n",
    "class BongoRAGAnalyzer:\n",
    "    \"\"\"Analysis and visualization tools for the RAG system\"\"\"\n",
    "    \n",
    "    def __init__(self, config: BongoRAGConfig):\n",
    "        self.config = config\n",
    "        \n",
    "    def analyze_dataset(self, df: pd.DataFrame) -> Dict:\n",
    "        \"\"\"Analyze the dataset characteristics\"\"\"\n",
    "        stats = {\n",
    "            'total_qa_pairs': len(df),\n",
    "            'avg_question_length': df['Question'].str.len().mean(),\n",
    "            'avg_answer_length': df['Answer'].str.len().mean(),\n",
    "            'unique_questions': df['Question'].nunique(),\n",
    "            'unique_answers': df['Answer'].nunique(),\n",
    "            'question_length_distribution': df['Question'].str.len().describe().to_dict(),\n",
    "            'answer_length_distribution': df['Answer'].str.len().describe().to_dict()\n",
    "        }\n",
    "        return stats\n",
    "    \n",
    "    def plot_length_distributions(self, df: pd.DataFrame):\n",
    "        \"\"\"Plot question and answer length distributions\"\"\"\n",
    "        fig, (ax1, ax2) = plt.subplots(1, 2, figsize=(15, 5))\n",
    "        \n",
    "        # Question length distribution\n",
    "        df['Question'].str.len().hist(bins=50, ax=ax1, alpha=0.7, color='blue')\n",
    "        ax1.set_title('Question Length Distribution')\n",
    "        ax1.set_xlabel('Number of Characters')\n",
    "        ax1.set_ylabel('Frequency')\n",
    "        ax1.axvline(df['Question'].str.len().mean(), color='red', linestyle='--', label='Mean')\n",
    "        ax1.legend()\n",
    "        \n",
    "        # Answer length distribution\n",
    "        df['Answer'].str.len().hist(bins=50, ax=ax2, alpha=0.7, color='green')\n",
    "        ax2.set_title('Answer Length Distribution')\n",
    "        ax2.set_xlabel('Number of Characters')\n",
    "        ax2.set_ylabel('Frequency')\n",
    "        ax2.axvline(df['Answer'].str.len().mean(), color='red', linestyle='--', label='Mean')\n",
    "        ax2.legend()\n",
    "        \n",
    "        plt.tight_layout()\n",
    "        plt.show()\n",
    "    \n",
    "    def analyze_retrieval_performance(self, pipeline: BongoRAGPipeline, test_questions: List[str]):\n",
    "        \"\"\"Analyze retrieval performance\"\"\"\n",
    "        retrieval_scores = []\n",
    "        context_relevance = []\n",
    "        \n",
    "        for question in test_questions:\n",
    "            result = pipeline.ask(question)\n",
    "            retrieval_scores.extend(result['retrieval_scores'])\n",
    "            \n",
    "            # Simple relevance score based on question-context overlap\n",
    "            question_words = set(question.lower().split())\n",
    "            for context in result['context_used']:\n",
    "                context_words = set(context.lower().split())\n",
    "                overlap = len(question_words & context_words) / len(question_words) if question_words else 0\n",
    "                context_relevance.append(overlap)\n",
    "        \n",
    "        return {\n",
    "            'retrieval_scores': retrieval_scores,\n",
    "            'context_relevance': context_relevance,\n",
    "            'avg_retrieval_score': np.mean(retrieval_scores),\n",
    "            'avg_context_relevance': np.mean(context_relevance)\n",
    "        }\n",
    "    \n",
    "    def plot_retrieval_analysis(self, retrieval_stats: Dict):\n",
    "        \"\"\"Plot retrieval performance analysis\"\"\"\n",
    "        fig, (ax1, ax2) = plt.subplots(1, 2, figsize=(15, 5))\n",
    "        \n",
    "        # Retrieval scores distribution\n",
    "        ax1.hist(retrieval_stats['retrieval_scores'], bins=30, alpha=0.7, color='purple')\n",
    "        ax1.set_title('Retrieval Scores Distribution')\n",
    "        ax1.set_xlabel('FAISS Distance Score')\n",
    "        ax1.set_ylabel('Frequency')\n",
    "        ax1.axvline(retrieval_stats['avg_retrieval_score'], color='red', linestyle='--', label='Mean')\n",
    "        ax1.legend()\n",
    "        \n",
    "        # Context relevance distribution\n",
    "        ax2.hist(retrieval_stats['context_relevance'], bins=30, alpha=0.7, color='orange')\n",
    "        ax2.set_title('Context Relevance Distribution')\n",
    "        ax2.set_xlabel('Word Overlap Ratio')\n",
    "        ax2.set_ylabel('Frequency')\n",
    "        ax2.axvline(retrieval_stats['avg_context_relevance'], color='red', linestyle='--', label='Mean')\n",
    "        ax2.legend()\n",
    "        \n",
    "        plt.tight_layout()\n",
    "        plt.show()\n",
    "    \n",
    "    def generate_performance_report(self, metrics: Dict, dataset_stats: Dict) -> str:\n",
    "        \"\"\"Generate comprehensive performance report\"\"\"\n",
    "        report = f\"\"\"\n",
    "# BongoRAG Performance Report\n",
    "\n",
    "## Dataset Statistics\n",
    "- Total QA Pairs: {dataset_stats['total_qa_pairs']:,}\n",
    "- Average Question Length: {dataset_stats['avg_question_length']:.1f} characters\n",
    "- Average Answer Length: {dataset_stats['avg_answer_length']:.1f} characters\n",
    "- Unique Questions: {dataset_stats['unique_questions']:,}\n",
    "- Unique Answers: {dataset_stats['unique_answers']:,}\n",
    "\n",
    "## Model Performance\n",
    "### Text Generation Metrics\n",
    "- Exact Match: {metrics.get('avg_exact_match', 0.0):.4f} ± {metrics.get('std_exact_match', 0.0):.4f}\n",
    "- F1 Score: {metrics.get('avg_f1_score', 0.0):.4f} ± {metrics.get('std_f1_score', 0.0):.4f}\n",
    "- BLEU Score: {metrics.get('avg_bleu', 0.0):.4f} ± {metrics.get('std_bleu', 0.0):.4f}\n",
    "\n",
    "### ROUGE Scores\n",
    "- ROUGE-1: {metrics.get('avg_rouge1', 0.0):.4f} ± {metrics.get('std_rouge1', 0.0):.4f}\n",
    "- ROUGE-2: {metrics.get('avg_rouge2', 0.0):.4f} ± {metrics.get('std_rouge2', 0.0):.4f}\n",
    "- ROUGE-L: {metrics.get('avg_rougeL', 0.0):.4f} ± {metrics.get('std_rougeL', 0.0):.4f}\n",
    "\n",
    "### Retrieval Performance\n",
    "- Precision@K: {metrics.get('avg_precision_at_k', 0.0):.4f} ± {metrics.get('std_precision_at_k', 0.0):.4f}\n",
    "- MRR: {metrics.get('avg_mrr', 0.0):.4f} ± {metrics.get('std_mrr', 0.0):.4f}\n",
    "- Average Retrieval Score: {metrics.get('avg_retrieval_scores', 0.0):.4f} ± {metrics.get('std_retrieval_scores', 0.0):.4f}\n",
    "\n",
    "## Recommendations\n",
    "1. Consider increasing the training data size for better performance\n",
    "2. Experiment with different retrieval strategies (e.g., hybrid search)\n",
    "3. Fine-tune the embedding model on domain-specific Bangla text\n",
    "4. Implement more sophisticated context ranking algorithms\n",
    "5. Add more image captions for better multimodal performance\n",
    "        \"\"\"\n",
    "        return report\n",
    "\n",
    "# Initialize analyzer\n",
    "analyzer = BongoRAGAnalyzer(config)\n",
    "\n",
    "# Analyze dataset\n",
    "dataset_stats = analyzer.analyze_dataset(df)\n",
    "print(\"Dataset Analysis:\")\n",
    "for key, value in dataset_stats.items():\n",
    "    if isinstance(value, dict):\n",
    "        print(f\"{key}:\")\n",
    "        for k, v in value.items():\n",
    "            print(f\"  {k}: {v:.2f}\" if isinstance(v, float) else f\"  {k}: {v}\")\n",
    "    else:\n",
    "        print(f\"{key}: {value:.2f}\" if isinstance(value, float) else f\"{key}: {value}\")\n",
    "\n",
    "# Plot distributions\n",
    "analyzer.plot_length_distributions(df)\n",
    "\n",
    "# Analyze retrieval performance\n",
    "test_questions_for_analysis = test_questions[:5]  # Use first 5 test questions\n",
    "retrieval_stats = analyzer.analyze_retrieval_performance(rag_pipeline, test_questions_for_analysis)\n",
    "print(f\"\\nRetrieval Analysis:\")\n",
    "print(f\"Average Retrieval Score: {retrieval_stats['avg_retrieval_score']:.4f}\")\n",
    "print(f\"Average Context Relevance: {retrieval_stats['avg_context_relevance']:.4f}\")\n",
    "\n",
    "# Plot retrieval analysis\n",
    "analyzer.plot_retrieval_analysis(retrieval_stats)\n",
    "\n",
    "# Generate comprehensive report with default metrics if not available\n",
    "# Create default metrics if not defined\n",
    "if 'metrics' not in locals():\n",
    "    metrics = {\n",
    "        'avg_exact_match': 0.0, 'std_exact_match': 0.0,\n",
    "        'avg_f1_score': 0.0, 'std_f1_score': 0.0,\n",
    "        'avg_bleu': 0.0, 'std_bleu': 0.0,\n",
    "        'avg_rouge1': 0.0, 'std_rouge1': 0.0,\n",
    "        'avg_rouge2': 0.0, 'std_rouge2': 0.0,\n",
    "        'avg_rougeL': 0.0, 'std_rougeL': 0.0,\n",
    "        'avg_precision_at_k': 0.0, 'std_precision_at_k': 0.0,\n",
    "        'avg_mrr': 0.0, 'std_mrr': 0.0,\n",
    "        'avg_retrieval_scores': retrieval_stats['avg_retrieval_score'],\n",
    "        'std_retrieval_scores': np.std(retrieval_stats['retrieval_scores'])\n",
    "    }\n",
    "    print(\"\\nNote: Using default metrics. Run evaluation first for complete metrics.\")\n",
    "\n",
    "report = analyzer.generate_performance_report(metrics, dataset_stats)\n",
    "print(report)\n"
   ]
  },
  {
   "cell_type": "code",
   "execution_count": 23,
   "metadata": {},
   "outputs": [
    {
     "name": "stdout",
     "output_type": "stream",
     "text": [
      "Production utilities initialized. To create inference pipeline:\n",
      "inference_pipeline = production.create_inference_pipeline()\n",
      "\n",
      "Note: Ensure all required models and vector stores are loaded before creating pipeline.\n",
      "\n",
      "Test questions prepared (2 questions)\n",
      "To run batch inference:\n",
      "production_results = production.batch_inference(inference_pipeline, test_production_questions)\n",
      "\n",
      "Example API Response Format:\n",
      "{\n",
      "  \"question\": \"বাংলাদেশের স্বাধীনতা কবে হয়েছিল?\",\n",
      "  \"answer\": \"বাংলাদেশের স্বাধীনতা ১৯৭১ সালে হয়েছিল।\",\n",
      "  \"confidence\": 0.4,\n",
      "  \"sources\": [\n",
      "    {\n",
      "      \"content\": \"বাংলাদেশ ১৯৭১ সালের ২৬ মার্চ স্বাধীনতা ঘোষণা করে...\",\n",
      "      \"score\": 0.8,\n",
      "      \"rank\": 1\n",
      "    },\n",
      "    {\n",
      "      \"content\": \"মুক্তিযুদ্ধ নয় মাস স্থায়ী ছিল...\",\n",
      "      \"score\": 0.7,\n",
      "      \"rank\": 2\n",
      "    }\n",
      "  ],\n",
      "  \"metadata\": {\n",
      "    \"retrieval_method\": \"faiss_semantic_search\",\n",
      "    \"embedding_model\": \"shihab17/bangla-sentence-transformer\",\n",
      "    \"generation_model\": \"mock_llama\",\n",
      "    \"top_k_retrieval\": 2\n",
      "  }\n",
      "}\n"
     ]
    }
   ],
   "source": [
    "# 12. Production Utilities and Deployment Helpers\n",
    "class BongoRAGProduction:\n",
    "    \"\"\"Production utilities for the BongoRAG system\"\"\"\n",
    "    \n",
    "    def __init__(self, config: BongoRAGConfig):\n",
    "        self.config = config\n",
    "        \n",
    "    def create_inference_pipeline(self, \n",
    "                                  vector_store_path: str = None,\n",
    "                                  model_type: str = \"llama\") -> BongoRAGPipeline:\n",
    "        \"\"\"Create a production-ready inference pipeline\"\"\"\n",
    "        \n",
    "        # Load embedding manager\n",
    "        embedding_manager = BanglaEmbeddingManager(self.config)\n",
    "        \n",
    "        # Load retriever and vector store\n",
    "        retriever = BongoRAGRetriever(self.config, embedding_manager)\n",
    "        \n",
    "        if vector_store_path:\n",
    "            success = retriever.load_vector_store(vector_store_path)\n",
    "            if not success:\n",
    "                raise ValueError(f\"Failed to load vector store from {vector_store_path}\")\n",
    "        else:\n",
    "            retriever.load_vector_store()  # Load from default path\n",
    "        \n",
    "        # Load generator (use existing BongoRAGGenerator)\n",
    "        generator = BongoRAGGenerator(self.config)\n",
    "        generator.load_model(model_type)\n",
    "        generator.setup_lora()\n",
    "        \n",
    "        # Create pipeline\n",
    "        pipeline = BongoRAGPipeline(retriever, generator, self.config)\n",
    "        \n",
    "        return pipeline\n",
    "    \n",
    "    def batch_inference(self, \n",
    "                       pipeline: BongoRAGPipeline, \n",
    "                       questions: List[str],\n",
    "                       output_file: str = \"batch_results.json\") -> List[Dict]:\n",
    "        \"\"\"Run batch inference and save results\"\"\"\n",
    "        \n",
    "        print(f\"Running batch inference on {len(questions)} questions...\")\n",
    "        results = pipeline.batch_ask(questions)\n",
    "        \n",
    "        # Save results\n",
    "        with open(output_file, 'w', encoding='utf-8') as f:\n",
    "            json.dump(results, f, ensure_ascii=False, indent=2)\n",
    "        \n",
    "        print(f\"Results saved to {output_file}\")\n",
    "        return results\n",
    "    \n",
    "    def create_api_response_format(self, result: Dict) -> Dict:\n",
    "        \"\"\"Format RAG result for API response\"\"\"\n",
    "        return {\n",
    "            'question': result['question'],\n",
    "            'answer': result['answer'],\n",
    "            'confidence': 1.0 - min(result['retrieval_scores']) if result['retrieval_scores'] else 0.0,\n",
    "            'sources': [\n",
    "                {\n",
    "                    'content': doc['content'][:200] + '...' if len(doc['content']) > 200 else doc['content'],\n",
    "                    'score': doc['score'],\n",
    "                    'rank': doc['rank']\n",
    "                }\n",
    "                for doc in result['retrieved_docs'][:3]  # Top 3 sources\n",
    "            ],\n",
    "            'metadata': {\n",
    "                'retrieval_method': 'faiss_semantic_search',\n",
    "                'embedding_model': self.config.BANGLA_EMBEDDING_MODEL,\n",
    "                'generation_model': 'mock_llama',  # In production, use actual model name\n",
    "                'top_k_retrieval': len(result['retrieved_docs'])\n",
    "            }\n",
    "        }\n",
    "\n",
    "# Create production utilities\n",
    "production = BongoRAGProduction(config)\n",
    "\n",
    "# Demonstrate production pipeline creation (commented out to avoid error)\n",
    "print(\"Production utilities initialized. To create inference pipeline:\")\n",
    "print(\"inference_pipeline = production.create_inference_pipeline()\")\n",
    "print(\"\\nNote: Ensure all required models and vector stores are loaded before creating pipeline.\")\n",
    "\n",
    "# Test production pipeline (commented out for now)\n",
    "test_production_questions = [\n",
    "    \"বাংলাদেশের স্বাধীনতা কবে হয়েছিল?\",\n",
    "    \"ঢাকা কোন নদীর তীরে অবস্থিত?\"\n",
    "]\n",
    "\n",
    "print(f\"\\nTest questions prepared ({len(test_production_questions)} questions)\")\n",
    "print(\"To run batch inference:\")\n",
    "print(\"production_results = production.batch_inference(inference_pipeline, test_production_questions)\")\n",
    "\n",
    "# Example API response format\n",
    "print(\"\\nExample API Response Format:\")\n",
    "example_result = {\n",
    "    'question': 'বাংলাদেশের স্বাধীনতা কবে হয়েছিল?',\n",
    "    'answer': 'বাংলাদেশের স্বাধীনতা ১৯৭১ সালে হয়েছিল।',\n",
    "    'retrieval_scores': [0.8, 0.7, 0.6],\n",
    "    'retrieved_docs': [\n",
    "        {'content': 'বাংলাদেশ ১৯৭১ সালের ২৬ মার্চ স্বাধীনতা ঘোষণা করে...', 'score': 0.8, 'rank': 1},\n",
    "        {'content': 'মুক্তিযুদ্ধ নয় মাস স্থায়ী ছিল...', 'score': 0.7, 'rank': 2}\n",
    "    ]\n",
    "}\n",
    "\n",
    "api_response = production.create_api_response_format(example_result)\n",
    "print(json.dumps(api_response, ensure_ascii=False, indent=2))\n"
   ]
  },
  {
   "cell_type": "code",
   "execution_count": 24,
   "metadata": {},
   "outputs": [
    {
     "name": "stdout",
     "output_type": "stream",
     "text": [
      "================================================================================\n",
      "🎯 BONGO RAG - COMPLETE MODEL PERSISTENCE SETUP\n",
      "================================================================================\n",
      "\n",
      "📦 SAVED COMPONENTS SUMMARY:\n",
      "\n",
      "1. MODEL REGISTRY:\n"
     ]
    },
    {
     "ename": "NameError",
     "evalue": "name 'model_registry' is not defined",
     "output_type": "error",
     "traceback": [
      "\u001b[0;31m---------------------------------------------------------------------------\u001b[0m",
      "\u001b[0;31mNameError\u001b[0m                                 Traceback (most recent call last)",
      "Cell \u001b[0;32mIn[24], line 11\u001b[0m\n\u001b[1;32m      8\u001b[0m \u001b[38;5;28mprint\u001b[39m(\u001b[38;5;124m\"\u001b[39m\u001b[38;5;130;01m\\n\u001b[39;00m\u001b[38;5;124m📦 SAVED COMPONENTS SUMMARY:\u001b[39m\u001b[38;5;124m\"\u001b[39m)\n\u001b[1;32m     10\u001b[0m \u001b[38;5;28mprint\u001b[39m(\u001b[38;5;124m\"\u001b[39m\u001b[38;5;130;01m\\n\u001b[39;00m\u001b[38;5;124m1. MODEL REGISTRY:\u001b[39m\u001b[38;5;124m\"\u001b[39m)\n\u001b[0;32m---> 11\u001b[0m \u001b[38;5;28mprint\u001b[39m(\u001b[38;5;124mf\u001b[39m\u001b[38;5;124m\"\u001b[39m\u001b[38;5;124m   📍 Registry file: \u001b[39m\u001b[38;5;132;01m{\u001b[39;00mmodel_registry\u001b[38;5;241m.\u001b[39mregistry_path\u001b[38;5;132;01m}\u001b[39;00m\u001b[38;5;124m\"\u001b[39m)\n\u001b[1;32m     12\u001b[0m \u001b[38;5;28mprint\u001b[39m(\u001b[38;5;124mf\u001b[39m\u001b[38;5;124m\"\u001b[39m\u001b[38;5;124m   📁 Models directory: \u001b[39m\u001b[38;5;132;01m{\u001b[39;00mmodel_registry\u001b[38;5;241m.\u001b[39mmodels_path\u001b[38;5;132;01m}\u001b[39;00m\u001b[38;5;124m\"\u001b[39m)\n\u001b[1;32m     14\u001b[0m \u001b[38;5;66;03m# Check what we have saved\u001b[39;00m\n",
      "\u001b[0;31mNameError\u001b[0m: name 'model_registry' is not defined"
     ]
    }
   ],
   "source": [
    "# 15. Model Persistence and Future Usage Guide\n",
    "\n",
    "print(\"=\" * 80)\n",
    "print(\"🎯 BONGO RAG - COMPLETE MODEL PERSISTENCE SETUP\")\n",
    "print(\"=\" * 80)\n",
    "\n",
    "# Summary of saved components\n",
    "print(\"\\n📦 SAVED COMPONENTS SUMMARY:\")\n",
    "\n",
    "print(\"\\n1. MODEL REGISTRY:\")\n",
    "print(f\"   📍 Registry file: {model_registry.registry_path}\")\n",
    "print(f\"   📁 Models directory: {model_registry.models_path}\")\n",
    "\n",
    "# Check what we have saved\n",
    "registry_status = model_registry.list_models()\n",
    "total_saved = (len(registry_status['generation_models']) + \n",
    "               len(registry_status['embedding_models']) + \n",
    "               len(registry_status['vector_stores']))\n",
    "\n",
    "print(f\"   📊 Total registered components: {total_saved}\")\n",
    "\n",
    "print(\"\\n2. VECTOR STORE:\")\n",
    "print(f\"   📍 FAISS index: faiss_index/\")\n",
    "print(f\"   📊 Documents: {len(retriever.documents) if retriever.documents else 0}\")\n",
    "\n",
    "print(\"\\n3. SYSTEM SNAPSHOTS:\")\n",
    "snapshots = quick_loader.list_snapshots()\n",
    "print(f\"   📊 Available snapshots: {len(snapshots)}\")\n",
    "for snapshot in snapshots:\n",
    "    print(f\"     • {snapshot['name']} ({snapshot['created_at']})\")\n",
    "\n",
    "print(\"\\n4. QUICK LOAD SCRIPTS:\")\n",
    "for snapshot in snapshots:\n",
    "    script_path = os.path.join(snapshot['path'], 'quick_load.py')\n",
    "    if os.path.exists(script_path):\n",
    "        print(f\"     🚀 {script_path}\")\n",
    "\n",
    "print(\"\\n\" + \"=\" * 80)\n",
    "print(\"🚀 FUTURE USAGE INSTRUCTIONS\")\n",
    "print(\"=\" * 80)\n",
    "\n",
    "print(\"\\n📋 METHOD 1: Complete System Reload\")\n",
    "print(\"```python\")\n",
    "print(\"# In a new notebook/script:\")\n",
    "print(\"from bongorag import *  # Your classes\")\n",
    "print(\"config = BongoRAGConfig()\")\n",
    "print(\"model_registry = BongoRAGModelRegistry(config)\")\n",
    "print(\"quick_loader = BongoRAGQuickLoader(config, model_registry)\")\n",
    "print()\n",
    "print(\"# Load complete system\")\n",
    "print(\"embedding_manager, retriever, system_config, info = quick_loader.load_from_snapshot('thesis_ready_system')\")\n",
    "print()\n",
    "print(\"# Create pipeline\")\n",
    "print(\"model_comparator = ModelComparator(config, model_registry)\")\n",
    "print(\"pipeline = BongoRAGPipeline(retriever, model_comparator, config)\")\n",
    "print()\n",
    "print(\"# Ask questions\")\n",
    "print(\"result = pipeline.ask('বাংলাদেশের রাজধানী কি?')\")\n",
    "print(\"print(result['answer'])\")\n",
    "print(\"```\")\n",
    "\n",
    "print(\"\\n📋 METHOD 2: Individual Component Loading\")\n",
    "print(\"```python\")\n",
    "print(\"# Load specific models from registry\")\n",
    "print(\"model_registry = BongoRAGModelRegistry(config)\")\n",
    "print(\"models_list = model_registry.list_models()\")\n",
    "print()\n",
    "print(\"# Load embedding model\")\n",
    "print(\"embedding_manager = BanglaEmbeddingManager(config)\")\n",
    "print(\"embedding_manager.text_encoder = model_registry.load_embedding_model(model_id)\")\n",
    "print()\n",
    "print(\"# Load vector store\")\n",
    "print(\"retriever = BongoRAGRetriever(config, embedding_manager)\")\n",
    "print(\"retriever.load_vector_store('faiss_index')\")\n",
    "print()\n",
    "print(\"# Load generation model\")\n",
    "print(\"model, tokenizer = model_registry.load_generation_model(model_id)\")\n",
    "print(\"```\")\n",
    "\n",
    "print(\"\\n📋 METHOD 3: Using Quick Load Script\")\n",
    "print(\"```bash\")\n",
    "print(\"# Navigate to snapshot directory\")\n",
    "print(f\"cd {snapshot_dir}\")\n",
    "print()\n",
    "print(\"# Run quick load script\")\n",
    "print(\"python quick_load.py\")\n",
    "print(\"```\")\n",
    "\n",
    "print(\"\\n\" + \"=\" * 80)\n",
    "print(\"💾 FILE STRUCTURE\")\n",
    "print(\"=\" * 80)\n",
    "\n",
    "print(f\"\"\"\n",
    "📁 {os.getcwd()}/\n",
    "├── 📄 bongorag.ipynb                    # This notebook\n",
    "├── 📄 requirements.txt                  # Dependencies  \n",
    "├── 📄 80k-bangla-qa-dataset.csv        # Dataset\n",
    "├── 📁 models/                           # Model cache directory\n",
    "│   ├── 📄 model_registry.json          # Model registry\n",
    "│   ├── 📁 saved_bangla_embeddings/     # Saved embedding model\n",
    "│   ├── 📁 saved_bangla_qa_vector_store/ # Saved vector store\n",
    "│   └── 📁 snapshot_thesis_ready_system/ # Complete system snapshot\n",
    "│       ├── 📄 quick_load.py            # Quick load script\n",
    "│       ├── 📄 README.md                # Usage instructions\n",
    "│       ├── 📄 snapshot_info.json       # Snapshot metadata\n",
    "│       ├── 📁 embeddings/              # Embedding model\n",
    "│       ├── 📁 vector_store/            # Vector store\n",
    "│       └── 📄 system_config.json       # System configuration\n",
    "├── 📁 faiss_index/                     # Original vector store\n",
    "│   ├── 📄 index.faiss                  # FAISS index file\n",
    "│   ├── 📄 documents.pkl               # Document metadata\n",
    "│   └── 📄 embeddings.npy              # Document embeddings\n",
    "└── 📁 results/                         # Evaluation results\n",
    "    └── 📄 model_comparison_results.json # Model comparison results\n",
    "\"\"\")\n",
    "\n",
    "print(\"\\n\" + \"=\" * 80)\n",
    "print(\"⚡ PERFORMANCE TIPS\")\n",
    "print(\"=\" * 80)\n",
    "\n",
    "print(\"\"\"\n",
    "🚀 For faster loading:\n",
    "   • Use snapshots for complete system reload\n",
    "   • Load only required models to save memory\n",
    "   • Use GPU acceleration (MPS/CUDA) when available\n",
    "   \n",
    "💾 For storage optimization:\n",
    "   • Delete unused model checkpoints periodically\n",
    "   • Use model quantization for smaller file sizes\n",
    "   • Compress snapshots for long-term storage\n",
    "\n",
    "🔄 For development:\n",
    "   • Use model registry to track experiments\n",
    "   • Create snapshots before major changes\n",
    "   • Version your configurations\n",
    "\n",
    "🎯 For production:\n",
    "   • Use the quick load scripts\n",
    "   • Implement caching for frequently used models\n",
    "   • Monitor memory usage with large models\n",
    "\"\"\")\n",
    "\n",
    "print(\"\\n\" + \"=\" * 80)\n",
    "print(\"✅ SETUP COMPLETE\")\n",
    "print(\"=\" * 80)\n",
    "\n",
    "print(f\"\"\"\n",
    "Your BongoRAG system is now fully configured with comprehensive model persistence!\n",
    "\n",
    "🎯 NEXT STEPS:\n",
    "1. Test the quick load functionality in a new session\n",
    "2. Fine-tune models using the training pipeline\n",
    "3. Run comprehensive evaluations using saved models\n",
    "4. Create additional snapshots for different configurations\n",
    "\n",
    "📚 FOR YOUR THESIS:\n",
    "• Use the model comparison results for performance analysis\n",
    "• Leverage the evaluation framework for benchmarking\n",
    "• Utilize the multimodal extensions for advanced research\n",
    "• Export model packages for thesis submission\n",
    "\n",
    "💡 REMEMBER:\n",
    "• All models are automatically cached in HuggingFace format\n",
    "• Vector stores are saved with FAISS for fast retrieval\n",
    "• Complete system snapshots include everything needed to reproduce results\n",
    "• Model registry tracks all components with metadata\n",
    "\n",
    "Happy researching! 🚀🎓\n",
    "\"\"\")\n",
    "\n",
    "# Final verification\n",
    "print(\"\\n🔍 FINAL VERIFICATION:\")\n",
    "print(f\"✅ Config loaded: {config.MODEL_CACHE_DIR}\")\n",
    "print(f\"✅ Registry initialized: {os.path.exists(model_registry.registry_path)}\")\n",
    "print(f\"✅ Vector store saved: {os.path.exists('faiss_index/index.faiss')}\")\n",
    "print(f\"✅ Embeddings cached: {hasattr(embedding_manager, 'text_encoder')}\")\n",
    "print(f\"✅ Snapshots created: {len(quick_loader.list_snapshots())} available\")\n",
    "print(f\"✅ Quick load scripts: Available in snapshot directories\")\n",
    "\n",
    "print(f\"\\n🎯 Your BongoRAG system is ready for thesis work!\")\n",
    "print(f\"📊 Total storage used: ~{model_registry._get_model_size(config.MODEL_CACHE_DIR)}\")\n",
    "print(f\"⏰ Setup completed at: {time.strftime('%Y-%m-%d %H:%M:%S')}\")\n"
   ]
  },
  {
   "cell_type": "raw",
   "metadata": {
    "vscode": {
     "languageId": "raw"
    }
   },
   "source": [
    "## 13. Installation Instructions and Dependencies\n",
    "\n",
    "To run this BongoRAG implementation, you'll need to install the following dependencies. Save this as a `requirements.txt` file and run `pip install -r requirements.txt`.\n",
    "\n",
    "### Required Packages:\n",
    "```\n",
    "# Core ML packages\n",
    "torch>=2.0.0\n",
    "transformers>=4.30.0\n",
    "sentence-transformers>=2.2.0\n",
    "accelerate>=0.20.0\n",
    "\n",
    "# RAG and Vector Store\n",
    "langchain>=0.0.200\n",
    "faiss-cpu>=1.7.0\n",
    "# For GPU: faiss-gpu>=1.7.0\n",
    "\n",
    "# Fine-tuning\n",
    "peft>=0.4.0\n",
    "bitsandbytes>=0.41.0\n",
    "\n",
    "# Evaluation\n",
    "rouge-score>=0.1.2\n",
    "sacrebleu>=2.3.0\n",
    "scikit-learn>=1.3.0\n",
    "\n",
    "# Data processing\n",
    "pandas>=2.0.0\n",
    "numpy>=1.24.0\n",
    "\n",
    "# Visualization\n",
    "matplotlib>=3.7.0\n",
    "seaborn>=0.12.0\n",
    "tqdm>=4.65.0\n",
    "\n",
    "# Optional: for actual model access\n",
    "# huggingface_hub>=0.15.0\n",
    "```\n",
    "\n",
    "### Installation Steps:\n",
    "\n",
    "1. **Create virtual environment:**\n",
    "   ```bash\n",
    "   python -m venv bongo_rag_env\n",
    "   source bongo_rag_env/bin/activate  # On Windows: bongo_rag_env\\Scripts\\activate\n",
    "   ```\n",
    "\n",
    "2. **Install PyTorch (check your CUDA version):**\n",
    "   ```bash\n",
    "   # For CPU only\n",
    "   pip install torch torchvision torchaudio --index-url https://download.pytorch.org/whl/cpu\n",
    "   \n",
    "   # For CUDA 11.8\n",
    "   pip install torch torchvision torchaudio --index-url https://download.pytorch.org/whl/cu118\n",
    "   \n",
    "   # For CUDA 12.1\n",
    "   pip install torch torchvision torchaudio --index-url https://download.pytorch.org/whl/cu121\n",
    "   ```\n",
    "\n",
    "3. **Install other dependencies:**\n",
    "   ```bash\n",
    "   pip install -r requirements.txt\n",
    "   ```\n",
    "\n",
    "4. **For actual LLaMA/Gemma models (requires HuggingFace access):**\n",
    "   ```bash\n",
    "   # Login to HuggingFace\n",
    "   huggingface-cli login\n",
    "   \n",
    "   # Request access to LLaMA-2 and Gemma models through HuggingFace\n",
    "   ```\n",
    "\n",
    "### Hardware Requirements:\n",
    "- **Minimum:** 16GB RAM, modern CPU\n",
    "- **Recommended:** 32GB+ RAM, GPU with 12GB+ VRAM for full model inference\n",
    "- **Storage:** 50GB+ for models and vector stores\n"
   ]
  },
  {
   "cell_type": "raw",
   "metadata": {
    "vscode": {
     "languageId": "raw"
    }
   },
   "source": [
    "## 14. Usage Guide and Next Steps\n",
    "\n",
    "### Quick Start Guide:\n",
    "\n",
    "1. **Basic RAG Query:**\n",
    "   ```python\n",
    "   # Ask a question\n",
    "   result = rag_pipeline.ask(\"বাংলাদেশের রাজধানী কি?\")\n",
    "   print(f\"উত্তর: {result['answer']}\")\n",
    "   ```\n",
    "\n",
    "2. **Multimodal Query:**\n",
    "   ```python\n",
    "   # Ask with image context\n",
    "   multimodal_result = multimodal_rag.ask_multimodal(\"বাংলাদেশের জাতীয় প্রতীক সম্পর্কে বলুন\")\n",
    "   print(f\"উত্তর: {multimodal_result['answer']}\")\n",
    "   ```\n",
    "\n",
    "3. **Batch Processing:**\n",
    "   ```python\n",
    "   questions = [\"প্রশ্ন ১\", \"প্রশ্ন ২\", \"প্রশ্ন ৩\"]\n",
    "   results = rag_pipeline.batch_ask(questions)\n",
    "   ```\n",
    "\n",
    "4. **Evaluation:**\n",
    "   ```python\n",
    "   test_df = df.sample(n=100)\n",
    "   metrics = evaluator.evaluate_pipeline(rag_pipeline, test_df)\n",
    "   evaluator.print_evaluation_report(metrics)\n",
    "   ```\n",
    "\n",
    "### For Production Deployment:\n",
    "\n",
    "1. **Replace Mock Generator with Real Models:**\n",
    "   - Obtain access to LLaMA-2 or Gemma models\n",
    "   - Replace `MockBongoRAGGenerator` with `BongoRAGGenerator`\n",
    "   - Load actual models using the provided configuration\n",
    "\n",
    "2. **Scale Vector Store:**\n",
    "   - For larger datasets, consider using distributed FAISS\n",
    "   - Implement vector store sharding for better performance\n",
    "\n",
    "3. **Fine-tune Models:**\n",
    "   - Use the `BongoRAGTrainer` class to fine-tune models\n",
    "   - Implement actual training loops with your preferred framework\n",
    "\n",
    "4. **Deploy as API:**\n",
    "   - Create Flask/FastAPI endpoints using the production utilities\n",
    "   - Implement caching and load balancing\n",
    "\n",
    "### Research Extensions:\n",
    "\n",
    "1. **Improve Retrieval:**\n",
    "   - Implement hybrid search (semantic + keyword)\n",
    "   - Add reranking models\n",
    "   - Experiment with different embedding models\n",
    "\n",
    "2. **Enhance Generation:**\n",
    "   - Fine-tune models on domain-specific data\n",
    "   - Implement chain-of-thought prompting\n",
    "   - Add controllable generation parameters\n",
    "\n",
    "3. **Multimodal Improvements:**\n",
    "   - Add support for actual images (not just captions)\n",
    "   - Implement vision-language models\n",
    "   - Create image-text alignment metrics\n",
    "\n",
    "4. **Evaluation:**\n",
    "   - Add human evaluation framework\n",
    "   - Implement domain-specific metrics\n",
    "   - Create comparative benchmarks\n",
    "\n",
    "### Files Created:\n",
    "- `faiss_index/`: Vector store files\n",
    "- `models/`: Cached model files  \n",
    "- `bongo_rag_training_data.json`: Training data\n",
    "- `production_test_results.json`: Production test results\n",
    "\n",
    "This implementation provides a complete foundation for your thesis research on Multimodal RAG for Bangla Question Answering!\n"
   ]
  }
 ],
 "metadata": {
  "kernelspec": {
   "display_name": "Python 3",
   "language": "python",
   "name": "python3"
  },
  "language_info": {
   "codemirror_mode": {
    "name": "ipython",
    "version": 3
   },
   "file_extension": ".py",
   "mimetype": "text/x-python",
   "name": "python",
   "nbconvert_exporter": "python",
   "pygments_lexer": "ipython3",
   "version": "3.9.22"
  }
 },
 "nbformat": 4,
 "nbformat_minor": 2
}
